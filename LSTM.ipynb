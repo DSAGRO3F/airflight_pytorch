{
 "cells": [
  {
   "cell_type": "markdown",
   "id": "cabf70ad-fbb6-46b0-a682-c4e0cccf6164",
   "metadata": {},
   "source": [
    "# Import modules"
   ]
  },
  {
   "cell_type": "code",
   "execution_count": 546,
   "id": "fab7d419-cae7-4bc7-8744-d5f3cabd9a1d",
   "metadata": {},
   "outputs": [],
   "source": [
    "import torch"
   ]
  },
  {
   "cell_type": "code",
   "execution_count": 547,
   "id": "ed1747ca-8890-4f2b-bb45-eb44f7b8d1e4",
   "metadata": {},
   "outputs": [],
   "source": [
    "import torch.nn as nn\n",
    "import torch.nn.functional as F\n",
    "import torch.optim as optim\n",
    "from torch.optim import Adam\n",
    "from torch.utils.data import TensorDataset, DataLoader, Dataset, random_split\n",
    "from torch.autograd import Variable"
   ]
  },
  {
   "cell_type": "code",
   "execution_count": 548,
   "id": "fc45d1bb-a28f-458e-b1a4-6748a3b6edbd",
   "metadata": {},
   "outputs": [],
   "source": [
    "import pandas as pd"
   ]
  },
  {
   "cell_type": "code",
   "execution_count": 549,
   "id": "f0a9036b-2554-45b9-9837-40be7be6be41",
   "metadata": {},
   "outputs": [],
   "source": [
    "import numpy as np"
   ]
  },
  {
   "cell_type": "code",
   "execution_count": 777,
   "id": "90c26bcd-c8f0-4f69-9577-8c1d6c3cf5c7",
   "metadata": {},
   "outputs": [],
   "source": [
    "import sklearn\n",
    "from sklearn.preprocessing import StandardScaler\n",
    "from sklearn.metrics import mean_squared_error\n",
    "from sklearn.metrics import mean_absolute_error\n",
    "from sklearn.metrics import mean_absolute_percentage_error"
   ]
  },
  {
   "cell_type": "code",
   "execution_count": 551,
   "id": "771d56a3-83c4-4903-88b0-b152a76ee432",
   "metadata": {},
   "outputs": [],
   "source": [
    "import plotly.express as px\n",
    "import plotly.graph_objects as go\n",
    "import matplotlib.pyplot as plt\n",
    "import sys"
   ]
  },
  {
   "cell_type": "markdown",
   "id": "86a6c66c-a0df-4798-9602-35fd00a564ef",
   "metadata": {},
   "source": [
    "# LSTM model: airflight prediction"
   ]
  },
  {
   "cell_type": "markdown",
   "id": "fa2811ed-f771-4684-bced-74484d08a0c9",
   "metadata": {},
   "source": [
    "## Importing data"
   ]
  },
  {
   "cell_type": "code",
   "execution_count": 591,
   "id": "c476796f-7e9c-45dd-aed1-52b430499b9b",
   "metadata": {},
   "outputs": [],
   "source": [
    "path = '/Users/olivierdebeyssac/Python_LSTM/airline-passengers.csv'\n",
    "df = pd.read_csv(path, sep=',')"
   ]
  },
  {
   "cell_type": "code",
   "execution_count": 592,
   "id": "63b062e0-ecc3-4eb5-ac9d-5ca0a4869177",
   "metadata": {},
   "outputs": [
    {
     "data": {
      "text/html": [
       "<div>\n",
       "<style scoped>\n",
       "    .dataframe tbody tr th:only-of-type {\n",
       "        vertical-align: middle;\n",
       "    }\n",
       "\n",
       "    .dataframe tbody tr th {\n",
       "        vertical-align: top;\n",
       "    }\n",
       "\n",
       "    .dataframe thead th {\n",
       "        text-align: right;\n",
       "    }\n",
       "</style>\n",
       "<table border=\"1\" class=\"dataframe\">\n",
       "  <thead>\n",
       "    <tr style=\"text-align: right;\">\n",
       "      <th></th>\n",
       "      <th>Month</th>\n",
       "      <th>Passengers</th>\n",
       "    </tr>\n",
       "  </thead>\n",
       "  <tbody>\n",
       "    <tr>\n",
       "      <th>0</th>\n",
       "      <td>1949-01</td>\n",
       "      <td>112</td>\n",
       "    </tr>\n",
       "    <tr>\n",
       "      <th>1</th>\n",
       "      <td>1949-02</td>\n",
       "      <td>118</td>\n",
       "    </tr>\n",
       "    <tr>\n",
       "      <th>2</th>\n",
       "      <td>1949-03</td>\n",
       "      <td>132</td>\n",
       "    </tr>\n",
       "    <tr>\n",
       "      <th>3</th>\n",
       "      <td>1949-04</td>\n",
       "      <td>129</td>\n",
       "    </tr>\n",
       "    <tr>\n",
       "      <th>4</th>\n",
       "      <td>1949-05</td>\n",
       "      <td>121</td>\n",
       "    </tr>\n",
       "  </tbody>\n",
       "</table>\n",
       "</div>"
      ],
      "text/plain": [
       "     Month  Passengers\n",
       "0  1949-01         112\n",
       "1  1949-02         118\n",
       "2  1949-03         132\n",
       "3  1949-04         129\n",
       "4  1949-05         121"
      ]
     },
     "execution_count": 592,
     "metadata": {},
     "output_type": "execute_result"
    }
   ],
   "source": [
    "df.head()"
   ]
  },
  {
   "cell_type": "code",
   "execution_count": 593,
   "id": "4ca3fa4e-385a-415d-8e16-776671b5514f",
   "metadata": {},
   "outputs": [
    {
     "name": "stdout",
     "output_type": "stream",
     "text": [
      "df[\"Month\"] dtypes: object\n",
      "len df: 144\n"
     ]
    }
   ],
   "source": [
    "print('df[\"Month\"] dtypes: {}'.format(df['Month'][0:2].dtype))\n",
    "print('len df: {}'.format(len(df)))"
   ]
  },
  {
   "cell_type": "code",
   "execution_count": 594,
   "id": "8892c46c-7d9e-43a5-9828-a2b779a0642a",
   "metadata": {},
   "outputs": [
    {
     "data": {
      "application/vnd.plotly.v1+json": {
       "config": {
        "plotlyServerURL": "https://plot.ly"
       },
       "data": [
        {
         "hovertemplate": "Month=%{x}<br>Passengers=%{y}<extra></extra>",
         "legendgroup": "",
         "line": {
          "color": "#636efa",
          "dash": "solid"
         },
         "marker": {
          "symbol": "circle"
         },
         "mode": "lines",
         "name": "",
         "orientation": "v",
         "showlegend": false,
         "type": "scatter",
         "x": [
          "1949-01",
          "1949-02",
          "1949-03",
          "1949-04",
          "1949-05",
          "1949-06",
          "1949-07",
          "1949-08",
          "1949-09",
          "1949-10",
          "1949-11",
          "1949-12",
          "1950-01",
          "1950-02",
          "1950-03",
          "1950-04",
          "1950-05",
          "1950-06",
          "1950-07",
          "1950-08",
          "1950-09",
          "1950-10",
          "1950-11",
          "1950-12",
          "1951-01",
          "1951-02",
          "1951-03",
          "1951-04",
          "1951-05",
          "1951-06",
          "1951-07",
          "1951-08",
          "1951-09",
          "1951-10",
          "1951-11",
          "1951-12",
          "1952-01",
          "1952-02",
          "1952-03",
          "1952-04",
          "1952-05",
          "1952-06",
          "1952-07",
          "1952-08",
          "1952-09",
          "1952-10",
          "1952-11",
          "1952-12",
          "1953-01",
          "1953-02",
          "1953-03",
          "1953-04",
          "1953-05",
          "1953-06",
          "1953-07",
          "1953-08",
          "1953-09",
          "1953-10",
          "1953-11",
          "1953-12",
          "1954-01",
          "1954-02",
          "1954-03",
          "1954-04",
          "1954-05",
          "1954-06",
          "1954-07",
          "1954-08",
          "1954-09",
          "1954-10",
          "1954-11",
          "1954-12",
          "1955-01",
          "1955-02",
          "1955-03",
          "1955-04",
          "1955-05",
          "1955-06",
          "1955-07",
          "1955-08",
          "1955-09",
          "1955-10",
          "1955-11",
          "1955-12",
          "1956-01",
          "1956-02",
          "1956-03",
          "1956-04",
          "1956-05",
          "1956-06",
          "1956-07",
          "1956-08",
          "1956-09",
          "1956-10",
          "1956-11",
          "1956-12",
          "1957-01",
          "1957-02",
          "1957-03",
          "1957-04",
          "1957-05",
          "1957-06",
          "1957-07",
          "1957-08",
          "1957-09",
          "1957-10",
          "1957-11",
          "1957-12",
          "1958-01",
          "1958-02",
          "1958-03",
          "1958-04",
          "1958-05",
          "1958-06",
          "1958-07",
          "1958-08",
          "1958-09",
          "1958-10",
          "1958-11",
          "1958-12",
          "1959-01",
          "1959-02",
          "1959-03",
          "1959-04",
          "1959-05",
          "1959-06",
          "1959-07",
          "1959-08",
          "1959-09",
          "1959-10",
          "1959-11",
          "1959-12",
          "1960-01",
          "1960-02",
          "1960-03",
          "1960-04",
          "1960-05",
          "1960-06",
          "1960-07",
          "1960-08",
          "1960-09",
          "1960-10",
          "1960-11",
          "1960-12"
         ],
         "xaxis": "x",
         "y": [
          112,
          118,
          132,
          129,
          121,
          135,
          148,
          148,
          136,
          119,
          104,
          118,
          115,
          126,
          141,
          135,
          125,
          149,
          170,
          170,
          158,
          133,
          114,
          140,
          145,
          150,
          178,
          163,
          172,
          178,
          199,
          199,
          184,
          162,
          146,
          166,
          171,
          180,
          193,
          181,
          183,
          218,
          230,
          242,
          209,
          191,
          172,
          194,
          196,
          196,
          236,
          235,
          229,
          243,
          264,
          272,
          237,
          211,
          180,
          201,
          204,
          188,
          235,
          227,
          234,
          264,
          302,
          293,
          259,
          229,
          203,
          229,
          242,
          233,
          267,
          269,
          270,
          315,
          364,
          347,
          312,
          274,
          237,
          278,
          284,
          277,
          317,
          313,
          318,
          374,
          413,
          405,
          355,
          306,
          271,
          306,
          315,
          301,
          356,
          348,
          355,
          422,
          465,
          467,
          404,
          347,
          305,
          336,
          340,
          318,
          362,
          348,
          363,
          435,
          491,
          505,
          404,
          359,
          310,
          337,
          360,
          342,
          406,
          396,
          420,
          472,
          548,
          559,
          463,
          407,
          362,
          405,
          417,
          391,
          419,
          461,
          472,
          535,
          622,
          606,
          508,
          461,
          390,
          432
         ],
         "yaxis": "y"
        }
       ],
       "layout": {
        "autosize": true,
        "legend": {
         "tracegroupgap": 0
        },
        "template": {
         "data": {
          "bar": [
           {
            "error_x": {
             "color": "#2a3f5f"
            },
            "error_y": {
             "color": "#2a3f5f"
            },
            "marker": {
             "line": {
              "color": "#E5ECF6",
              "width": 0.5
             },
             "pattern": {
              "fillmode": "overlay",
              "size": 10,
              "solidity": 0.2
             }
            },
            "type": "bar"
           }
          ],
          "barpolar": [
           {
            "marker": {
             "line": {
              "color": "#E5ECF6",
              "width": 0.5
             },
             "pattern": {
              "fillmode": "overlay",
              "size": 10,
              "solidity": 0.2
             }
            },
            "type": "barpolar"
           }
          ],
          "carpet": [
           {
            "aaxis": {
             "endlinecolor": "#2a3f5f",
             "gridcolor": "white",
             "linecolor": "white",
             "minorgridcolor": "white",
             "startlinecolor": "#2a3f5f"
            },
            "baxis": {
             "endlinecolor": "#2a3f5f",
             "gridcolor": "white",
             "linecolor": "white",
             "minorgridcolor": "white",
             "startlinecolor": "#2a3f5f"
            },
            "type": "carpet"
           }
          ],
          "choropleth": [
           {
            "colorbar": {
             "outlinewidth": 0,
             "ticks": ""
            },
            "type": "choropleth"
           }
          ],
          "contour": [
           {
            "colorbar": {
             "outlinewidth": 0,
             "ticks": ""
            },
            "colorscale": [
             [
              0,
              "#0d0887"
             ],
             [
              0.1111111111111111,
              "#46039f"
             ],
             [
              0.2222222222222222,
              "#7201a8"
             ],
             [
              0.3333333333333333,
              "#9c179e"
             ],
             [
              0.4444444444444444,
              "#bd3786"
             ],
             [
              0.5555555555555556,
              "#d8576b"
             ],
             [
              0.6666666666666666,
              "#ed7953"
             ],
             [
              0.7777777777777778,
              "#fb9f3a"
             ],
             [
              0.8888888888888888,
              "#fdca26"
             ],
             [
              1,
              "#f0f921"
             ]
            ],
            "type": "contour"
           }
          ],
          "contourcarpet": [
           {
            "colorbar": {
             "outlinewidth": 0,
             "ticks": ""
            },
            "type": "contourcarpet"
           }
          ],
          "heatmap": [
           {
            "colorbar": {
             "outlinewidth": 0,
             "ticks": ""
            },
            "colorscale": [
             [
              0,
              "#0d0887"
             ],
             [
              0.1111111111111111,
              "#46039f"
             ],
             [
              0.2222222222222222,
              "#7201a8"
             ],
             [
              0.3333333333333333,
              "#9c179e"
             ],
             [
              0.4444444444444444,
              "#bd3786"
             ],
             [
              0.5555555555555556,
              "#d8576b"
             ],
             [
              0.6666666666666666,
              "#ed7953"
             ],
             [
              0.7777777777777778,
              "#fb9f3a"
             ],
             [
              0.8888888888888888,
              "#fdca26"
             ],
             [
              1,
              "#f0f921"
             ]
            ],
            "type": "heatmap"
           }
          ],
          "heatmapgl": [
           {
            "colorbar": {
             "outlinewidth": 0,
             "ticks": ""
            },
            "colorscale": [
             [
              0,
              "#0d0887"
             ],
             [
              0.1111111111111111,
              "#46039f"
             ],
             [
              0.2222222222222222,
              "#7201a8"
             ],
             [
              0.3333333333333333,
              "#9c179e"
             ],
             [
              0.4444444444444444,
              "#bd3786"
             ],
             [
              0.5555555555555556,
              "#d8576b"
             ],
             [
              0.6666666666666666,
              "#ed7953"
             ],
             [
              0.7777777777777778,
              "#fb9f3a"
             ],
             [
              0.8888888888888888,
              "#fdca26"
             ],
             [
              1,
              "#f0f921"
             ]
            ],
            "type": "heatmapgl"
           }
          ],
          "histogram": [
           {
            "marker": {
             "pattern": {
              "fillmode": "overlay",
              "size": 10,
              "solidity": 0.2
             }
            },
            "type": "histogram"
           }
          ],
          "histogram2d": [
           {
            "colorbar": {
             "outlinewidth": 0,
             "ticks": ""
            },
            "colorscale": [
             [
              0,
              "#0d0887"
             ],
             [
              0.1111111111111111,
              "#46039f"
             ],
             [
              0.2222222222222222,
              "#7201a8"
             ],
             [
              0.3333333333333333,
              "#9c179e"
             ],
             [
              0.4444444444444444,
              "#bd3786"
             ],
             [
              0.5555555555555556,
              "#d8576b"
             ],
             [
              0.6666666666666666,
              "#ed7953"
             ],
             [
              0.7777777777777778,
              "#fb9f3a"
             ],
             [
              0.8888888888888888,
              "#fdca26"
             ],
             [
              1,
              "#f0f921"
             ]
            ],
            "type": "histogram2d"
           }
          ],
          "histogram2dcontour": [
           {
            "colorbar": {
             "outlinewidth": 0,
             "ticks": ""
            },
            "colorscale": [
             [
              0,
              "#0d0887"
             ],
             [
              0.1111111111111111,
              "#46039f"
             ],
             [
              0.2222222222222222,
              "#7201a8"
             ],
             [
              0.3333333333333333,
              "#9c179e"
             ],
             [
              0.4444444444444444,
              "#bd3786"
             ],
             [
              0.5555555555555556,
              "#d8576b"
             ],
             [
              0.6666666666666666,
              "#ed7953"
             ],
             [
              0.7777777777777778,
              "#fb9f3a"
             ],
             [
              0.8888888888888888,
              "#fdca26"
             ],
             [
              1,
              "#f0f921"
             ]
            ],
            "type": "histogram2dcontour"
           }
          ],
          "mesh3d": [
           {
            "colorbar": {
             "outlinewidth": 0,
             "ticks": ""
            },
            "type": "mesh3d"
           }
          ],
          "parcoords": [
           {
            "line": {
             "colorbar": {
              "outlinewidth": 0,
              "ticks": ""
             }
            },
            "type": "parcoords"
           }
          ],
          "pie": [
           {
            "automargin": true,
            "type": "pie"
           }
          ],
          "scatter": [
           {
            "fillpattern": {
             "fillmode": "overlay",
             "size": 10,
             "solidity": 0.2
            },
            "type": "scatter"
           }
          ],
          "scatter3d": [
           {
            "line": {
             "colorbar": {
              "outlinewidth": 0,
              "ticks": ""
             }
            },
            "marker": {
             "colorbar": {
              "outlinewidth": 0,
              "ticks": ""
             }
            },
            "type": "scatter3d"
           }
          ],
          "scattercarpet": [
           {
            "marker": {
             "colorbar": {
              "outlinewidth": 0,
              "ticks": ""
             }
            },
            "type": "scattercarpet"
           }
          ],
          "scattergeo": [
           {
            "marker": {
             "colorbar": {
              "outlinewidth": 0,
              "ticks": ""
             }
            },
            "type": "scattergeo"
           }
          ],
          "scattergl": [
           {
            "marker": {
             "colorbar": {
              "outlinewidth": 0,
              "ticks": ""
             }
            },
            "type": "scattergl"
           }
          ],
          "scattermapbox": [
           {
            "marker": {
             "colorbar": {
              "outlinewidth": 0,
              "ticks": ""
             }
            },
            "type": "scattermapbox"
           }
          ],
          "scatterpolar": [
           {
            "marker": {
             "colorbar": {
              "outlinewidth": 0,
              "ticks": ""
             }
            },
            "type": "scatterpolar"
           }
          ],
          "scatterpolargl": [
           {
            "marker": {
             "colorbar": {
              "outlinewidth": 0,
              "ticks": ""
             }
            },
            "type": "scatterpolargl"
           }
          ],
          "scatterternary": [
           {
            "marker": {
             "colorbar": {
              "outlinewidth": 0,
              "ticks": ""
             }
            },
            "type": "scatterternary"
           }
          ],
          "surface": [
           {
            "colorbar": {
             "outlinewidth": 0,
             "ticks": ""
            },
            "colorscale": [
             [
              0,
              "#0d0887"
             ],
             [
              0.1111111111111111,
              "#46039f"
             ],
             [
              0.2222222222222222,
              "#7201a8"
             ],
             [
              0.3333333333333333,
              "#9c179e"
             ],
             [
              0.4444444444444444,
              "#bd3786"
             ],
             [
              0.5555555555555556,
              "#d8576b"
             ],
             [
              0.6666666666666666,
              "#ed7953"
             ],
             [
              0.7777777777777778,
              "#fb9f3a"
             ],
             [
              0.8888888888888888,
              "#fdca26"
             ],
             [
              1,
              "#f0f921"
             ]
            ],
            "type": "surface"
           }
          ],
          "table": [
           {
            "cells": {
             "fill": {
              "color": "#EBF0F8"
             },
             "line": {
              "color": "white"
             }
            },
            "header": {
             "fill": {
              "color": "#C8D4E3"
             },
             "line": {
              "color": "white"
             }
            },
            "type": "table"
           }
          ]
         },
         "layout": {
          "annotationdefaults": {
           "arrowcolor": "#2a3f5f",
           "arrowhead": 0,
           "arrowwidth": 1
          },
          "autotypenumbers": "strict",
          "coloraxis": {
           "colorbar": {
            "outlinewidth": 0,
            "ticks": ""
           }
          },
          "colorscale": {
           "diverging": [
            [
             0,
             "#8e0152"
            ],
            [
             0.1,
             "#c51b7d"
            ],
            [
             0.2,
             "#de77ae"
            ],
            [
             0.3,
             "#f1b6da"
            ],
            [
             0.4,
             "#fde0ef"
            ],
            [
             0.5,
             "#f7f7f7"
            ],
            [
             0.6,
             "#e6f5d0"
            ],
            [
             0.7,
             "#b8e186"
            ],
            [
             0.8,
             "#7fbc41"
            ],
            [
             0.9,
             "#4d9221"
            ],
            [
             1,
             "#276419"
            ]
           ],
           "sequential": [
            [
             0,
             "#0d0887"
            ],
            [
             0.1111111111111111,
             "#46039f"
            ],
            [
             0.2222222222222222,
             "#7201a8"
            ],
            [
             0.3333333333333333,
             "#9c179e"
            ],
            [
             0.4444444444444444,
             "#bd3786"
            ],
            [
             0.5555555555555556,
             "#d8576b"
            ],
            [
             0.6666666666666666,
             "#ed7953"
            ],
            [
             0.7777777777777778,
             "#fb9f3a"
            ],
            [
             0.8888888888888888,
             "#fdca26"
            ],
            [
             1,
             "#f0f921"
            ]
           ],
           "sequentialminus": [
            [
             0,
             "#0d0887"
            ],
            [
             0.1111111111111111,
             "#46039f"
            ],
            [
             0.2222222222222222,
             "#7201a8"
            ],
            [
             0.3333333333333333,
             "#9c179e"
            ],
            [
             0.4444444444444444,
             "#bd3786"
            ],
            [
             0.5555555555555556,
             "#d8576b"
            ],
            [
             0.6666666666666666,
             "#ed7953"
            ],
            [
             0.7777777777777778,
             "#fb9f3a"
            ],
            [
             0.8888888888888888,
             "#fdca26"
            ],
            [
             1,
             "#f0f921"
            ]
           ]
          },
          "colorway": [
           "#636efa",
           "#EF553B",
           "#00cc96",
           "#ab63fa",
           "#FFA15A",
           "#19d3f3",
           "#FF6692",
           "#B6E880",
           "#FF97FF",
           "#FECB52"
          ],
          "font": {
           "color": "#2a3f5f"
          },
          "geo": {
           "bgcolor": "white",
           "lakecolor": "white",
           "landcolor": "#E5ECF6",
           "showlakes": true,
           "showland": true,
           "subunitcolor": "white"
          },
          "hoverlabel": {
           "align": "left"
          },
          "hovermode": "closest",
          "mapbox": {
           "style": "light"
          },
          "paper_bgcolor": "white",
          "plot_bgcolor": "#E5ECF6",
          "polar": {
           "angularaxis": {
            "gridcolor": "white",
            "linecolor": "white",
            "ticks": ""
           },
           "bgcolor": "#E5ECF6",
           "radialaxis": {
            "gridcolor": "white",
            "linecolor": "white",
            "ticks": ""
           }
          },
          "scene": {
           "xaxis": {
            "backgroundcolor": "#E5ECF6",
            "gridcolor": "white",
            "gridwidth": 2,
            "linecolor": "white",
            "showbackground": true,
            "ticks": "",
            "zerolinecolor": "white"
           },
           "yaxis": {
            "backgroundcolor": "#E5ECF6",
            "gridcolor": "white",
            "gridwidth": 2,
            "linecolor": "white",
            "showbackground": true,
            "ticks": "",
            "zerolinecolor": "white"
           },
           "zaxis": {
            "backgroundcolor": "#E5ECF6",
            "gridcolor": "white",
            "gridwidth": 2,
            "linecolor": "white",
            "showbackground": true,
            "ticks": "",
            "zerolinecolor": "white"
           }
          },
          "shapedefaults": {
           "line": {
            "color": "#2a3f5f"
           }
          },
          "ternary": {
           "aaxis": {
            "gridcolor": "white",
            "linecolor": "white",
            "ticks": ""
           },
           "baxis": {
            "gridcolor": "white",
            "linecolor": "white",
            "ticks": ""
           },
           "bgcolor": "#E5ECF6",
           "caxis": {
            "gridcolor": "white",
            "linecolor": "white",
            "ticks": ""
           }
          },
          "title": {
           "x": 0.05
          },
          "xaxis": {
           "automargin": true,
           "gridcolor": "white",
           "linecolor": "white",
           "ticks": "",
           "title": {
            "standoff": 15
           },
           "zerolinecolor": "white",
           "zerolinewidth": 2
          },
          "yaxis": {
           "automargin": true,
           "gridcolor": "white",
           "linecolor": "white",
           "ticks": "",
           "title": {
            "standoff": 15
           },
           "zerolinecolor": "white",
           "zerolinewidth": 2
          }
         }
        },
        "title": {
         "text": "airflight passengers over years"
        },
        "xaxis": {
         "anchor": "y",
         "autorange": true,
         "domain": [
          0,
          1
         ],
         "range": [
          "1949-01-01",
          "1960-12-01"
         ],
         "title": {
          "text": "Month"
         },
         "type": "date"
        },
        "yaxis": {
         "anchor": "x",
         "autorange": true,
         "domain": [
          0,
          1
         ],
         "range": [
          75.22222222222223,
          650.7777777777778
         ],
         "title": {
          "text": "Passengers"
         },
         "type": "linear"
        }
       }
      },
      "image/png": "[encoded data removed]",
      "text/html": [
       "<div>                            <div id=\"61f6cd28-904e-48e8-924f-890124e50b48\" class=\"plotly-graph-div\" style=\"height:525px; width:100%;\"></div>            <script type=\"text/javascript\">                require([\"plotly\"], function(Plotly) {                    window.PLOTLYENV=window.PLOTLYENV || {};                                    if (document.getElementById(\"61f6cd28-904e-48e8-924f-890124e50b48\")) {                    Plotly.newPlot(                        \"61f6cd28-904e-48e8-924f-890124e50b48\",                        [{\"hovertemplate\":\"Month=%{x}\\u003cbr\\u003ePassengers=%{y}\\u003cextra\\u003e\\u003c\\u002fextra\\u003e\",\"legendgroup\":\"\",\"line\":{\"color\":\"#636efa\",\"dash\":\"solid\"},\"marker\":{\"symbol\":\"circle\"},\"mode\":\"lines\",\"name\":\"\",\"orientation\":\"v\",\"showlegend\":false,\"x\":[\"1949-01\",\"1949-02\",\"1949-03\",\"1949-04\",\"1949-05\",\"1949-06\",\"1949-07\",\"1949-08\",\"1949-09\",\"1949-10\",\"1949-11\",\"1949-12\",\"1950-01\",\"1950-02\",\"1950-03\",\"1950-04\",\"1950-05\",\"1950-06\",\"1950-07\",\"1950-08\",\"1950-09\",\"1950-10\",\"1950-11\",\"1950-12\",\"1951-01\",\"1951-02\",\"1951-03\",\"1951-04\",\"1951-05\",\"1951-06\",\"1951-07\",\"1951-08\",\"1951-09\",\"1951-10\",\"1951-11\",\"1951-12\",\"1952-01\",\"1952-02\",\"1952-03\",\"1952-04\",\"1952-05\",\"1952-06\",\"1952-07\",\"1952-08\",\"1952-09\",\"1952-10\",\"1952-11\",\"1952-12\",\"1953-01\",\"1953-02\",\"1953-03\",\"1953-04\",\"1953-05\",\"1953-06\",\"1953-07\",\"1953-08\",\"1953-09\",\"1953-10\",\"1953-11\",\"1953-12\",\"1954-01\",\"1954-02\",\"1954-03\",\"1954-04\",\"1954-05\",\"1954-06\",\"1954-07\",\"1954-08\",\"1954-09\",\"1954-10\",\"1954-11\",\"1954-12\",\"1955-01\",\"1955-02\",\"1955-03\",\"1955-04\",\"1955-05\",\"1955-06\",\"1955-07\",\"1955-08\",\"1955-09\",\"1955-10\",\"1955-11\",\"1955-12\",\"1956-01\",\"1956-02\",\"1956-03\",\"1956-04\",\"1956-05\",\"1956-06\",\"1956-07\",\"1956-08\",\"1956-09\",\"1956-10\",\"1956-11\",\"1956-12\",\"1957-01\",\"1957-02\",\"1957-03\",\"1957-04\",\"1957-05\",\"1957-06\",\"1957-07\",\"1957-08\",\"1957-09\",\"1957-10\",\"1957-11\",\"1957-12\",\"1958-01\",\"1958-02\",\"1958-03\",\"1958-04\",\"1958-05\",\"1958-06\",\"1958-07\",\"1958-08\",\"1958-09\",\"1958-10\",\"1958-11\",\"1958-12\",\"1959-01\",\"1959-02\",\"1959-03\",\"1959-04\",\"1959-05\",\"1959-06\",\"1959-07\",\"1959-08\",\"1959-09\",\"1959-10\",\"1959-11\",\"1959-12\",\"1960-01\",\"1960-02\",\"1960-03\",\"1960-04\",\"1960-05\",\"1960-06\",\"1960-07\",\"1960-08\",\"1960-09\",\"1960-10\",\"1960-11\",\"1960-12\"],\"xaxis\":\"x\",\"y\":[112,118,132,129,121,135,148,148,136,119,104,118,115,126,141,135,125,149,170,170,158,133,114,140,145,150,178,163,172,178,199,199,184,162,146,166,171,180,193,181,183,218,230,242,209,191,172,194,196,196,236,235,229,243,264,272,237,211,180,201,204,188,235,227,234,264,302,293,259,229,203,229,242,233,267,269,270,315,364,347,312,274,237,278,284,277,317,313,318,374,413,405,355,306,271,306,315,301,356,348,355,422,465,467,404,347,305,336,340,318,362,348,363,435,491,505,404,359,310,337,360,342,406,396,420,472,548,559,463,407,362,405,417,391,419,461,472,535,622,606,508,461,390,432],\"yaxis\":\"y\",\"type\":\"scatter\"}],                        {\"template\":{\"data\":{\"histogram2dcontour\":[{\"type\":\"histogram2dcontour\",\"colorbar\":{\"outlinewidth\":0,\"ticks\":\"\"},\"colorscale\":[[0.0,\"#0d0887\"],[0.1111111111111111,\"#46039f\"],[0.2222222222222222,\"#7201a8\"],[0.3333333333333333,\"#9c179e\"],[0.4444444444444444,\"#bd3786\"],[0.5555555555555556,\"#d8576b\"],[0.6666666666666666,\"#ed7953\"],[0.7777777777777778,\"#fb9f3a\"],[0.8888888888888888,\"#fdca26\"],[1.0,\"#f0f921\"]]}],\"choropleth\":[{\"type\":\"choropleth\",\"colorbar\":{\"outlinewidth\":0,\"ticks\":\"\"}}],\"histogram2d\":[{\"type\":\"histogram2d\",\"colorbar\":{\"outlinewidth\":0,\"ticks\":\"\"},\"colorscale\":[[0.0,\"#0d0887\"],[0.1111111111111111,\"#46039f\"],[0.2222222222222222,\"#7201a8\"],[0.3333333333333333,\"#9c179e\"],[0.4444444444444444,\"#bd3786\"],[0.5555555555555556,\"#d8576b\"],[0.6666666666666666,\"#ed7953\"],[0.7777777777777778,\"#fb9f3a\"],[0.8888888888888888,\"#fdca26\"],[1.0,\"#f0f921\"]]}],\"heatmap\":[{\"type\":\"heatmap\",\"colorbar\":{\"outlinewidth\":0,\"ticks\":\"\"},\"colorscale\":[[0.0,\"#0d0887\"],[0.1111111111111111,\"#46039f\"],[0.2222222222222222,\"#7201a8\"],[0.3333333333333333,\"#9c179e\"],[0.4444444444444444,\"#bd3786\"],[0.5555555555555556,\"#d8576b\"],[0.6666666666666666,\"#ed7953\"],[0.7777777777777778,\"#fb9f3a\"],[0.8888888888888888,\"#fdca26\"],[1.0,\"#f0f921\"]]}],\"heatmapgl\":[{\"type\":\"heatmapgl\",\"colorbar\":{\"outlinewidth\":0,\"ticks\":\"\"},\"colorscale\":[[0.0,\"#0d0887\"],[0.1111111111111111,\"#46039f\"],[0.2222222222222222,\"#7201a8\"],[0.3333333333333333,\"#9c179e\"],[0.4444444444444444,\"#bd3786\"],[0.5555555555555556,\"#d8576b\"],[0.6666666666666666,\"#ed7953\"],[0.7777777777777778,\"#fb9f3a\"],[0.8888888888888888,\"#fdca26\"],[1.0,\"#f0f921\"]]}],\"contourcarpet\":[{\"type\":\"contourcarpet\",\"colorbar\":{\"outlinewidth\":0,\"ticks\":\"\"}}],\"contour\":[{\"type\":\"contour\",\"colorbar\":{\"outlinewidth\":0,\"ticks\":\"\"},\"colorscale\":[[0.0,\"#0d0887\"],[0.1111111111111111,\"#46039f\"],[0.2222222222222222,\"#7201a8\"],[0.3333333333333333,\"#9c179e\"],[0.4444444444444444,\"#bd3786\"],[0.5555555555555556,\"#d8576b\"],[0.6666666666666666,\"#ed7953\"],[0.7777777777777778,\"#fb9f3a\"],[0.8888888888888888,\"#fdca26\"],[1.0,\"#f0f921\"]]}],\"surface\":[{\"type\":\"surface\",\"colorbar\":{\"outlinewidth\":0,\"ticks\":\"\"},\"colorscale\":[[0.0,\"#0d0887\"],[0.1111111111111111,\"#46039f\"],[0.2222222222222222,\"#7201a8\"],[0.3333333333333333,\"#9c179e\"],[0.4444444444444444,\"#bd3786\"],[0.5555555555555556,\"#d8576b\"],[0.6666666666666666,\"#ed7953\"],[0.7777777777777778,\"#fb9f3a\"],[0.8888888888888888,\"#fdca26\"],[1.0,\"#f0f921\"]]}],\"mesh3d\":[{\"type\":\"mesh3d\",\"colorbar\":{\"outlinewidth\":0,\"ticks\":\"\"}}],\"scatter\":[{\"fillpattern\":{\"fillmode\":\"overlay\",\"size\":10,\"solidity\":0.2},\"type\":\"scatter\"}],\"parcoords\":[{\"type\":\"parcoords\",\"line\":{\"colorbar\":{\"outlinewidth\":0,\"ticks\":\"\"}}}],\"scatterpolargl\":[{\"type\":\"scatterpolargl\",\"marker\":{\"colorbar\":{\"outlinewidth\":0,\"ticks\":\"\"}}}],\"bar\":[{\"error_x\":{\"color\":\"#2a3f5f\"},\"error_y\":{\"color\":\"#2a3f5f\"},\"marker\":{\"line\":{\"color\":\"#E5ECF6\",\"width\":0.5},\"pattern\":{\"fillmode\":\"overlay\",\"size\":10,\"solidity\":0.2}},\"type\":\"bar\"}],\"scattergeo\":[{\"type\":\"scattergeo\",\"marker\":{\"colorbar\":{\"outlinewidth\":0,\"ticks\":\"\"}}}],\"scatterpolar\":[{\"type\":\"scatterpolar\",\"marker\":{\"colorbar\":{\"outlinewidth\":0,\"ticks\":\"\"}}}],\"histogram\":[{\"marker\":{\"pattern\":{\"fillmode\":\"overlay\",\"size\":10,\"solidity\":0.2}},\"type\":\"histogram\"}],\"scattergl\":[{\"type\":\"scattergl\",\"marker\":{\"colorbar\":{\"outlinewidth\":0,\"ticks\":\"\"}}}],\"scatter3d\":[{\"type\":\"scatter3d\",\"line\":{\"colorbar\":{\"outlinewidth\":0,\"ticks\":\"\"}},\"marker\":{\"colorbar\":{\"outlinewidth\":0,\"ticks\":\"\"}}}],\"scattermapbox\":[{\"type\":\"scattermapbox\",\"marker\":{\"colorbar\":{\"outlinewidth\":0,\"ticks\":\"\"}}}],\"scatterternary\":[{\"type\":\"scatterternary\",\"marker\":{\"colorbar\":{\"outlinewidth\":0,\"ticks\":\"\"}}}],\"scattercarpet\":[{\"type\":\"scattercarpet\",\"marker\":{\"colorbar\":{\"outlinewidth\":0,\"ticks\":\"\"}}}],\"carpet\":[{\"aaxis\":{\"endlinecolor\":\"#2a3f5f\",\"gridcolor\":\"white\",\"linecolor\":\"white\",\"minorgridcolor\":\"white\",\"startlinecolor\":\"#2a3f5f\"},\"baxis\":{\"endlinecolor\":\"#2a3f5f\",\"gridcolor\":\"white\",\"linecolor\":\"white\",\"minorgridcolor\":\"white\",\"startlinecolor\":\"#2a3f5f\"},\"type\":\"carpet\"}],\"table\":[{\"cells\":{\"fill\":{\"color\":\"#EBF0F8\"},\"line\":{\"color\":\"white\"}},\"header\":{\"fill\":{\"color\":\"#C8D4E3\"},\"line\":{\"color\":\"white\"}},\"type\":\"table\"}],\"barpolar\":[{\"marker\":{\"line\":{\"color\":\"#E5ECF6\",\"width\":0.5},\"pattern\":{\"fillmode\":\"overlay\",\"size\":10,\"solidity\":0.2}},\"type\":\"barpolar\"}],\"pie\":[{\"automargin\":true,\"type\":\"pie\"}]},\"layout\":{\"autotypenumbers\":\"strict\",\"colorway\":[\"#636efa\",\"#EF553B\",\"#00cc96\",\"#ab63fa\",\"#FFA15A\",\"#19d3f3\",\"#FF6692\",\"#B6E880\",\"#FF97FF\",\"#FECB52\"],\"font\":{\"color\":\"#2a3f5f\"},\"hovermode\":\"closest\",\"hoverlabel\":{\"align\":\"left\"},\"paper_bgcolor\":\"white\",\"plot_bgcolor\":\"#E5ECF6\",\"polar\":{\"bgcolor\":\"#E5ECF6\",\"angularaxis\":{\"gridcolor\":\"white\",\"linecolor\":\"white\",\"ticks\":\"\"},\"radialaxis\":{\"gridcolor\":\"white\",\"linecolor\":\"white\",\"ticks\":\"\"}},\"ternary\":{\"bgcolor\":\"#E5ECF6\",\"aaxis\":{\"gridcolor\":\"white\",\"linecolor\":\"white\",\"ticks\":\"\"},\"baxis\":{\"gridcolor\":\"white\",\"linecolor\":\"white\",\"ticks\":\"\"},\"caxis\":{\"gridcolor\":\"white\",\"linecolor\":\"white\",\"ticks\":\"\"}},\"coloraxis\":{\"colorbar\":{\"outlinewidth\":0,\"ticks\":\"\"}},\"colorscale\":{\"sequential\":[[0.0,\"#0d0887\"],[0.1111111111111111,\"#46039f\"],[0.2222222222222222,\"#7201a8\"],[0.3333333333333333,\"#9c179e\"],[0.4444444444444444,\"#bd3786\"],[0.5555555555555556,\"#d8576b\"],[0.6666666666666666,\"#ed7953\"],[0.7777777777777778,\"#fb9f3a\"],[0.8888888888888888,\"#fdca26\"],[1.0,\"#f0f921\"]],\"sequentialminus\":[[0.0,\"#0d0887\"],[0.1111111111111111,\"#46039f\"],[0.2222222222222222,\"#7201a8\"],[0.3333333333333333,\"#9c179e\"],[0.4444444444444444,\"#bd3786\"],[0.5555555555555556,\"#d8576b\"],[0.6666666666666666,\"#ed7953\"],[0.7777777777777778,\"#fb9f3a\"],[0.8888888888888888,\"#fdca26\"],[1.0,\"#f0f921\"]],\"diverging\":[[0,\"#8e0152\"],[0.1,\"#c51b7d\"],[0.2,\"#de77ae\"],[0.3,\"#f1b6da\"],[0.4,\"#fde0ef\"],[0.5,\"#f7f7f7\"],[0.6,\"#e6f5d0\"],[0.7,\"#b8e186\"],[0.8,\"#7fbc41\"],[0.9,\"#4d9221\"],[1,\"#276419\"]]},\"xaxis\":{\"gridcolor\":\"white\",\"linecolor\":\"white\",\"ticks\":\"\",\"title\":{\"standoff\":15},\"zerolinecolor\":\"white\",\"automargin\":true,\"zerolinewidth\":2},\"yaxis\":{\"gridcolor\":\"white\",\"linecolor\":\"white\",\"ticks\":\"\",\"title\":{\"standoff\":15},\"zerolinecolor\":\"white\",\"automargin\":true,\"zerolinewidth\":2},\"scene\":{\"xaxis\":{\"backgroundcolor\":\"#E5ECF6\",\"gridcolor\":\"white\",\"linecolor\":\"white\",\"showbackground\":true,\"ticks\":\"\",\"zerolinecolor\":\"white\",\"gridwidth\":2},\"yaxis\":{\"backgroundcolor\":\"#E5ECF6\",\"gridcolor\":\"white\",\"linecolor\":\"white\",\"showbackground\":true,\"ticks\":\"\",\"zerolinecolor\":\"white\",\"gridwidth\":2},\"zaxis\":{\"backgroundcolor\":\"#E5ECF6\",\"gridcolor\":\"white\",\"linecolor\":\"white\",\"showbackground\":true,\"ticks\":\"\",\"zerolinecolor\":\"white\",\"gridwidth\":2}},\"shapedefaults\":{\"line\":{\"color\":\"#2a3f5f\"}},\"annotationdefaults\":{\"arrowcolor\":\"#2a3f5f\",\"arrowhead\":0,\"arrowwidth\":1},\"geo\":{\"bgcolor\":\"white\",\"landcolor\":\"#E5ECF6\",\"subunitcolor\":\"white\",\"showland\":true,\"showlakes\":true,\"lakecolor\":\"white\"},\"title\":{\"x\":0.05},\"mapbox\":{\"style\":\"light\"}}},\"xaxis\":{\"anchor\":\"y\",\"domain\":[0.0,1.0],\"title\":{\"text\":\"Month\"}},\"yaxis\":{\"anchor\":\"x\",\"domain\":[0.0,1.0],\"title\":{\"text\":\"Passengers\"}},\"legend\":{\"tracegroupgap\":0},\"title\":{\"text\":\"airflight passengers over years\"}},                        {\"responsive\": true}                    ).then(function(){\n",
       "                            \n",
       "var gd = document.getElementById('61f6cd28-904e-48e8-924f-890124e50b48');\n",
       "var x = new MutationObserver(function (mutations, observer) {{\n",
       "        var display = window.getComputedStyle(gd).display;\n",
       "        if (!display || display === 'none') {{\n",
       "            console.log([gd, 'removed!']);\n",
       "            Plotly.purge(gd);\n",
       "            observer.disconnect();\n",
       "        }}\n",
       "}});\n",
       "\n",
       "// Listen for the removal of the full notebook cells\n",
       "var notebookContainer = gd.closest('#notebook-container');\n",
       "if (notebookContainer) {{\n",
       "    x.observe(notebookContainer, {childList: true});\n",
       "}}\n",
       "\n",
       "// Listen for the clearing of the current output cell\n",
       "var outputEl = gd.closest('.output');\n",
       "if (outputEl) {{\n",
       "    x.observe(outputEl, {childList: true});\n",
       "}}\n",
       "\n",
       "                        })                };                });            </script>        </div>"
      ]
     },
     "metadata": {},
     "output_type": "display_data"
    }
   ],
   "source": [
    "fig = px.line(df, x='Month', y='Passengers', title='airflight passengers over years')\n",
    "fig.show()"
   ]
  },
  {
   "cell_type": "code",
   "execution_count": 595,
   "id": "816b42df-620a-4dcd-80f6-d55e0272b70a",
   "metadata": {},
   "outputs": [
    {
     "data": {
      "text/plain": [
       "Month         0.0\n",
       "Passengers    0.0\n",
       "dtype: float64"
      ]
     },
     "execution_count": 595,
     "metadata": {},
     "output_type": "execute_result"
    }
   ],
   "source": [
    "df.isnull().mean()"
   ]
  },
  {
   "cell_type": "markdown",
   "id": "a1492e03-6911-4686-928f-7b761acdd89a",
   "metadata": {},
   "source": [
    "## Train set and test set"
   ]
  },
  {
   "cell_type": "code",
   "execution_count": 596,
   "id": "24be7936-617d-4743-a291-52f0b9051b65",
   "metadata": {},
   "outputs": [
    {
     "name": "stdout",
     "output_type": "stream",
     "text": [
      "timeseries shape: (144, 1)\n"
     ]
    }
   ],
   "source": [
    "timeseries = df[['Passengers']].values.astype('float')\n",
    "print('timeseries shape: {}'.format(timeseries.shape))"
   ]
  },
  {
   "cell_type": "code",
   "execution_count": 597,
   "id": "854d10e7-8e89-4112-904b-a1153b39c763",
   "metadata": {},
   "outputs": [
    {
     "data": {
      "application/vnd.plotly.v1+json": {
       "config": {
        "plotlyServerURL": "https://plot.ly"
       },
       "data": [
        {
         "hovertemplate": "variable=0<br>index=%{x}<br>value=%{y}<extra></extra>",
         "legendgroup": "0",
         "line": {
          "color": "#636efa",
          "dash": "solid"
         },
         "marker": {
          "symbol": "circle"
         },
         "mode": "lines",
         "name": "0",
         "orientation": "v",
         "showlegend": true,
         "type": "scatter",
         "x": [
          0,
          1,
          2,
          3,
          4,
          5,
          6,
          7,
          8,
          9,
          10,
          11,
          12,
          13,
          14,
          15,
          16,
          17,
          18,
          19,
          20,
          21,
          22,
          23,
          24,
          25,
          26,
          27,
          28,
          29,
          30,
          31,
          32,
          33,
          34,
          35,
          36,
          37,
          38,
          39,
          40,
          41,
          42,
          43,
          44,
          45,
          46,
          47,
          48,
          49,
          50,
          51,
          52,
          53,
          54,
          55,
          56,
          57,
          58,
          59,
          60,
          61,
          62,
          63,
          64,
          65,
          66,
          67,
          68,
          69,
          70,
          71,
          72,
          73,
          74,
          75,
          76,
          77,
          78,
          79,
          80,
          81,
          82,
          83,
          84,
          85,
          86,
          87,
          88,
          89,
          90,
          91,
          92,
          93,
          94,
          95,
          96,
          97,
          98,
          99,
          100,
          101,
          102,
          103,
          104,
          105,
          106,
          107,
          108,
          109,
          110,
          111,
          112,
          113,
          114,
          115,
          116,
          117,
          118,
          119,
          120,
          121,
          122,
          123,
          124,
          125,
          126,
          127,
          128,
          129,
          130,
          131,
          132,
          133,
          134,
          135,
          136,
          137,
          138,
          139,
          140,
          141,
          142,
          143
         ],
         "xaxis": "x",
         "y": [
          112,
          118,
          132,
          129,
          121,
          135,
          148,
          148,
          136,
          119,
          104,
          118,
          115,
          126,
          141,
          135,
          125,
          149,
          170,
          170,
          158,
          133,
          114,
          140,
          145,
          150,
          178,
          163,
          172,
          178,
          199,
          199,
          184,
          162,
          146,
          166,
          171,
          180,
          193,
          181,
          183,
          218,
          230,
          242,
          209,
          191,
          172,
          194,
          196,
          196,
          236,
          235,
          229,
          243,
          264,
          272,
          237,
          211,
          180,
          201,
          204,
          188,
          235,
          227,
          234,
          264,
          302,
          293,
          259,
          229,
          203,
          229,
          242,
          233,
          267,
          269,
          270,
          315,
          364,
          347,
          312,
          274,
          237,
          278,
          284,
          277,
          317,
          313,
          318,
          374,
          413,
          405,
          355,
          306,
          271,
          306,
          315,
          301,
          356,
          348,
          355,
          422,
          465,
          467,
          404,
          347,
          305,
          336,
          340,
          318,
          362,
          348,
          363,
          435,
          491,
          505,
          404,
          359,
          310,
          337,
          360,
          342,
          406,
          396,
          420,
          472,
          548,
          559,
          463,
          407,
          362,
          405,
          417,
          391,
          419,
          461,
          472,
          535,
          622,
          606,
          508,
          461,
          390,
          432
         ],
         "yaxis": "y"
        }
       ],
       "layout": {
        "autosize": true,
        "legend": {
         "title": {
          "text": "variable"
         },
         "tracegroupgap": 0
        },
        "template": {
         "data": {
          "bar": [
           {
            "error_x": {
             "color": "#2a3f5f"
            },
            "error_y": {
             "color": "#2a3f5f"
            },
            "marker": {
             "line": {
              "color": "#E5ECF6",
              "width": 0.5
             },
             "pattern": {
              "fillmode": "overlay",
              "size": 10,
              "solidity": 0.2
             }
            },
            "type": "bar"
           }
          ],
          "barpolar": [
           {
            "marker": {
             "line": {
              "color": "#E5ECF6",
              "width": 0.5
             },
             "pattern": {
              "fillmode": "overlay",
              "size": 10,
              "solidity": 0.2
             }
            },
            "type": "barpolar"
           }
          ],
          "carpet": [
           {
            "aaxis": {
             "endlinecolor": "#2a3f5f",
             "gridcolor": "white",
             "linecolor": "white",
             "minorgridcolor": "white",
             "startlinecolor": "#2a3f5f"
            },
            "baxis": {
             "endlinecolor": "#2a3f5f",
             "gridcolor": "white",
             "linecolor": "white",
             "minorgridcolor": "white",
             "startlinecolor": "#2a3f5f"
            },
            "type": "carpet"
           }
          ],
          "choropleth": [
           {
            "colorbar": {
             "outlinewidth": 0,
             "ticks": ""
            },
            "type": "choropleth"
           }
          ],
          "contour": [
           {
            "colorbar": {
             "outlinewidth": 0,
             "ticks": ""
            },
            "colorscale": [
             [
              0,
              "#0d0887"
             ],
             [
              0.1111111111111111,
              "#46039f"
             ],
             [
              0.2222222222222222,
              "#7201a8"
             ],
             [
              0.3333333333333333,
              "#9c179e"
             ],
             [
              0.4444444444444444,
              "#bd3786"
             ],
             [
              0.5555555555555556,
              "#d8576b"
             ],
             [
              0.6666666666666666,
              "#ed7953"
             ],
             [
              0.7777777777777778,
              "#fb9f3a"
             ],
             [
              0.8888888888888888,
              "#fdca26"
             ],
             [
              1,
              "#f0f921"
             ]
            ],
            "type": "contour"
           }
          ],
          "contourcarpet": [
           {
            "colorbar": {
             "outlinewidth": 0,
             "ticks": ""
            },
            "type": "contourcarpet"
           }
          ],
          "heatmap": [
           {
            "colorbar": {
             "outlinewidth": 0,
             "ticks": ""
            },
            "colorscale": [
             [
              0,
              "#0d0887"
             ],
             [
              0.1111111111111111,
              "#46039f"
             ],
             [
              0.2222222222222222,
              "#7201a8"
             ],
             [
              0.3333333333333333,
              "#9c179e"
             ],
             [
              0.4444444444444444,
              "#bd3786"
             ],
             [
              0.5555555555555556,
              "#d8576b"
             ],
             [
              0.6666666666666666,
              "#ed7953"
             ],
             [
              0.7777777777777778,
              "#fb9f3a"
             ],
             [
              0.8888888888888888,
              "#fdca26"
             ],
             [
              1,
              "#f0f921"
             ]
            ],
            "type": "heatmap"
           }
          ],
          "heatmapgl": [
           {
            "colorbar": {
             "outlinewidth": 0,
             "ticks": ""
            },
            "colorscale": [
             [
              0,
              "#0d0887"
             ],
             [
              0.1111111111111111,
              "#46039f"
             ],
             [
              0.2222222222222222,
              "#7201a8"
             ],
             [
              0.3333333333333333,
              "#9c179e"
             ],
             [
              0.4444444444444444,
              "#bd3786"
             ],
             [
              0.5555555555555556,
              "#d8576b"
             ],
             [
              0.6666666666666666,
              "#ed7953"
             ],
             [
              0.7777777777777778,
              "#fb9f3a"
             ],
             [
              0.8888888888888888,
              "#fdca26"
             ],
             [
              1,
              "#f0f921"
             ]
            ],
            "type": "heatmapgl"
           }
          ],
          "histogram": [
           {
            "marker": {
             "pattern": {
              "fillmode": "overlay",
              "size": 10,
              "solidity": 0.2
             }
            },
            "type": "histogram"
           }
          ],
          "histogram2d": [
           {
            "colorbar": {
             "outlinewidth": 0,
             "ticks": ""
            },
            "colorscale": [
             [
              0,
              "#0d0887"
             ],
             [
              0.1111111111111111,
              "#46039f"
             ],
             [
              0.2222222222222222,
              "#7201a8"
             ],
             [
              0.3333333333333333,
              "#9c179e"
             ],
             [
              0.4444444444444444,
              "#bd3786"
             ],
             [
              0.5555555555555556,
              "#d8576b"
             ],
             [
              0.6666666666666666,
              "#ed7953"
             ],
             [
              0.7777777777777778,
              "#fb9f3a"
             ],
             [
              0.8888888888888888,
              "#fdca26"
             ],
             [
              1,
              "#f0f921"
             ]
            ],
            "type": "histogram2d"
           }
          ],
          "histogram2dcontour": [
           {
            "colorbar": {
             "outlinewidth": 0,
             "ticks": ""
            },
            "colorscale": [
             [
              0,
              "#0d0887"
             ],
             [
              0.1111111111111111,
              "#46039f"
             ],
             [
              0.2222222222222222,
              "#7201a8"
             ],
             [
              0.3333333333333333,
              "#9c179e"
             ],
             [
              0.4444444444444444,
              "#bd3786"
             ],
             [
              0.5555555555555556,
              "#d8576b"
             ],
             [
              0.6666666666666666,
              "#ed7953"
             ],
             [
              0.7777777777777778,
              "#fb9f3a"
             ],
             [
              0.8888888888888888,
              "#fdca26"
             ],
             [
              1,
              "#f0f921"
             ]
            ],
            "type": "histogram2dcontour"
           }
          ],
          "mesh3d": [
           {
            "colorbar": {
             "outlinewidth": 0,
             "ticks": ""
            },
            "type": "mesh3d"
           }
          ],
          "parcoords": [
           {
            "line": {
             "colorbar": {
              "outlinewidth": 0,
              "ticks": ""
             }
            },
            "type": "parcoords"
           }
          ],
          "pie": [
           {
            "automargin": true,
            "type": "pie"
           }
          ],
          "scatter": [
           {
            "fillpattern": {
             "fillmode": "overlay",
             "size": 10,
             "solidity": 0.2
            },
            "type": "scatter"
           }
          ],
          "scatter3d": [
           {
            "line": {
             "colorbar": {
              "outlinewidth": 0,
              "ticks": ""
             }
            },
            "marker": {
             "colorbar": {
              "outlinewidth": 0,
              "ticks": ""
             }
            },
            "type": "scatter3d"
           }
          ],
          "scattercarpet": [
           {
            "marker": {
             "colorbar": {
              "outlinewidth": 0,
              "ticks": ""
             }
            },
            "type": "scattercarpet"
           }
          ],
          "scattergeo": [
           {
            "marker": {
             "colorbar": {
              "outlinewidth": 0,
              "ticks": ""
             }
            },
            "type": "scattergeo"
           }
          ],
          "scattergl": [
           {
            "marker": {
             "colorbar": {
              "outlinewidth": 0,
              "ticks": ""
             }
            },
            "type": "scattergl"
           }
          ],
          "scattermapbox": [
           {
            "marker": {
             "colorbar": {
              "outlinewidth": 0,
              "ticks": ""
             }
            },
            "type": "scattermapbox"
           }
          ],
          "scatterpolar": [
           {
            "marker": {
             "colorbar": {
              "outlinewidth": 0,
              "ticks": ""
             }
            },
            "type": "scatterpolar"
           }
          ],
          "scatterpolargl": [
           {
            "marker": {
             "colorbar": {
              "outlinewidth": 0,
              "ticks": ""
             }
            },
            "type": "scatterpolargl"
           }
          ],
          "scatterternary": [
           {
            "marker": {
             "colorbar": {
              "outlinewidth": 0,
              "ticks": ""
             }
            },
            "type": "scatterternary"
           }
          ],
          "surface": [
           {
            "colorbar": {
             "outlinewidth": 0,
             "ticks": ""
            },
            "colorscale": [
             [
              0,
              "#0d0887"
             ],
             [
              0.1111111111111111,
              "#46039f"
             ],
             [
              0.2222222222222222,
              "#7201a8"
             ],
             [
              0.3333333333333333,
              "#9c179e"
             ],
             [
              0.4444444444444444,
              "#bd3786"
             ],
             [
              0.5555555555555556,
              "#d8576b"
             ],
             [
              0.6666666666666666,
              "#ed7953"
             ],
             [
              0.7777777777777778,
              "#fb9f3a"
             ],
             [
              0.8888888888888888,
              "#fdca26"
             ],
             [
              1,
              "#f0f921"
             ]
            ],
            "type": "surface"
           }
          ],
          "table": [
           {
            "cells": {
             "fill": {
              "color": "#EBF0F8"
             },
             "line": {
              "color": "white"
             }
            },
            "header": {
             "fill": {
              "color": "#C8D4E3"
             },
             "line": {
              "color": "white"
             }
            },
            "type": "table"
           }
          ]
         },
         "layout": {
          "annotationdefaults": {
           "arrowcolor": "#2a3f5f",
           "arrowhead": 0,
           "arrowwidth": 1
          },
          "autotypenumbers": "strict",
          "coloraxis": {
           "colorbar": {
            "outlinewidth": 0,
            "ticks": ""
           }
          },
          "colorscale": {
           "diverging": [
            [
             0,
             "#8e0152"
            ],
            [
             0.1,
             "#c51b7d"
            ],
            [
             0.2,
             "#de77ae"
            ],
            [
             0.3,
             "#f1b6da"
            ],
            [
             0.4,
             "#fde0ef"
            ],
            [
             0.5,
             "#f7f7f7"
            ],
            [
             0.6,
             "#e6f5d0"
            ],
            [
             0.7,
             "#b8e186"
            ],
            [
             0.8,
             "#7fbc41"
            ],
            [
             0.9,
             "#4d9221"
            ],
            [
             1,
             "#276419"
            ]
           ],
           "sequential": [
            [
             0,
             "#0d0887"
            ],
            [
             0.1111111111111111,
             "#46039f"
            ],
            [
             0.2222222222222222,
             "#7201a8"
            ],
            [
             0.3333333333333333,
             "#9c179e"
            ],
            [
             0.4444444444444444,
             "#bd3786"
            ],
            [
             0.5555555555555556,
             "#d8576b"
            ],
            [
             0.6666666666666666,
             "#ed7953"
            ],
            [
             0.7777777777777778,
             "#fb9f3a"
            ],
            [
             0.8888888888888888,
             "#fdca26"
            ],
            [
             1,
             "#f0f921"
            ]
           ],
           "sequentialminus": [
            [
             0,
             "#0d0887"
            ],
            [
             0.1111111111111111,
             "#46039f"
            ],
            [
             0.2222222222222222,
             "#7201a8"
            ],
            [
             0.3333333333333333,
             "#9c179e"
            ],
            [
             0.4444444444444444,
             "#bd3786"
            ],
            [
             0.5555555555555556,
             "#d8576b"
            ],
            [
             0.6666666666666666,
             "#ed7953"
            ],
            [
             0.7777777777777778,
             "#fb9f3a"
            ],
            [
             0.8888888888888888,
             "#fdca26"
            ],
            [
             1,
             "#f0f921"
            ]
           ]
          },
          "colorway": [
           "#636efa",
           "#EF553B",
           "#00cc96",
           "#ab63fa",
           "#FFA15A",
           "#19d3f3",
           "#FF6692",
           "#B6E880",
           "#FF97FF",
           "#FECB52"
          ],
          "font": {
           "color": "#2a3f5f"
          },
          "geo": {
           "bgcolor": "white",
           "lakecolor": "white",
           "landcolor": "#E5ECF6",
           "showlakes": true,
           "showland": true,
           "subunitcolor": "white"
          },
          "hoverlabel": {
           "align": "left"
          },
          "hovermode": "closest",
          "mapbox": {
           "style": "light"
          },
          "paper_bgcolor": "white",
          "plot_bgcolor": "#E5ECF6",
          "polar": {
           "angularaxis": {
            "gridcolor": "white",
            "linecolor": "white",
            "ticks": ""
           },
           "bgcolor": "#E5ECF6",
           "radialaxis": {
            "gridcolor": "white",
            "linecolor": "white",
            "ticks": ""
           }
          },
          "scene": {
           "xaxis": {
            "backgroundcolor": "#E5ECF6",
            "gridcolor": "white",
            "gridwidth": 2,
            "linecolor": "white",
            "showbackground": true,
            "ticks": "",
            "zerolinecolor": "white"
           },
           "yaxis": {
            "backgroundcolor": "#E5ECF6",
            "gridcolor": "white",
            "gridwidth": 2,
            "linecolor": "white",
            "showbackground": true,
            "ticks": "",
            "zerolinecolor": "white"
           },
           "zaxis": {
            "backgroundcolor": "#E5ECF6",
            "gridcolor": "white",
            "gridwidth": 2,
            "linecolor": "white",
            "showbackground": true,
            "ticks": "",
            "zerolinecolor": "white"
           }
          },
          "shapedefaults": {
           "line": {
            "color": "#2a3f5f"
           }
          },
          "ternary": {
           "aaxis": {
            "gridcolor": "white",
            "linecolor": "white",
            "ticks": ""
           },
           "baxis": {
            "gridcolor": "white",
            "linecolor": "white",
            "ticks": ""
           },
           "bgcolor": "#E5ECF6",
           "caxis": {
            "gridcolor": "white",
            "linecolor": "white",
            "ticks": ""
           }
          },
          "title": {
           "x": 0.05
          },
          "xaxis": {
           "automargin": true,
           "gridcolor": "white",
           "linecolor": "white",
           "ticks": "",
           "title": {
            "standoff": 15
           },
           "zerolinecolor": "white",
           "zerolinewidth": 2
          },
          "yaxis": {
           "automargin": true,
           "gridcolor": "white",
           "linecolor": "white",
           "ticks": "",
           "title": {
            "standoff": 15
           },
           "zerolinecolor": "white",
           "zerolinewidth": 2
          }
         }
        },
        "title": {
         "text": "airflight passengers volume"
        },
        "xaxis": {
         "anchor": "y",
         "autorange": true,
         "domain": [
          0,
          1
         ],
         "range": [
          0,
          143
         ],
         "title": {
          "text": "index"
         },
         "type": "linear"
        },
        "yaxis": {
         "anchor": "x",
         "autorange": true,
         "domain": [
          0,
          1
         ],
         "range": [
          75.22222222222223,
          650.7777777777778
         ],
         "title": {
          "text": "value"
         },
         "type": "linear"
        }
       }
      },
      "image/png": "[encoded data removed]",
      "text/html": [
       "<div>                            <div id=\"da46e2e2-3aaa-4ae5-8ad7-a217a4f82f73\" class=\"plotly-graph-div\" style=\"height:525px; width:100%;\"></div>            <script type=\"text/javascript\">                require([\"plotly\"], function(Plotly) {                    window.PLOTLYENV=window.PLOTLYENV || {};                                    if (document.getElementById(\"da46e2e2-3aaa-4ae5-8ad7-a217a4f82f73\")) {                    Plotly.newPlot(                        \"da46e2e2-3aaa-4ae5-8ad7-a217a4f82f73\",                        [{\"hovertemplate\":\"variable=0\\u003cbr\\u003eindex=%{x}\\u003cbr\\u003evalue=%{y}\\u003cextra\\u003e\\u003c\\u002fextra\\u003e\",\"legendgroup\":\"0\",\"line\":{\"color\":\"#636efa\",\"dash\":\"solid\"},\"marker\":{\"symbol\":\"circle\"},\"mode\":\"lines\",\"name\":\"0\",\"orientation\":\"v\",\"showlegend\":true,\"x\":[0,1,2,3,4,5,6,7,8,9,10,11,12,13,14,15,16,17,18,19,20,21,22,23,24,25,26,27,28,29,30,31,32,33,34,35,36,37,38,39,40,41,42,43,44,45,46,47,48,49,50,51,52,53,54,55,56,57,58,59,60,61,62,63,64,65,66,67,68,69,70,71,72,73,74,75,76,77,78,79,80,81,82,83,84,85,86,87,88,89,90,91,92,93,94,95,96,97,98,99,100,101,102,103,104,105,106,107,108,109,110,111,112,113,114,115,116,117,118,119,120,121,122,123,124,125,126,127,128,129,130,131,132,133,134,135,136,137,138,139,140,141,142,143],\"xaxis\":\"x\",\"y\":[112.0,118.0,132.0,129.0,121.0,135.0,148.0,148.0,136.0,119.0,104.0,118.0,115.0,126.0,141.0,135.0,125.0,149.0,170.0,170.0,158.0,133.0,114.0,140.0,145.0,150.0,178.0,163.0,172.0,178.0,199.0,199.0,184.0,162.0,146.0,166.0,171.0,180.0,193.0,181.0,183.0,218.0,230.0,242.0,209.0,191.0,172.0,194.0,196.0,196.0,236.0,235.0,229.0,243.0,264.0,272.0,237.0,211.0,180.0,201.0,204.0,188.0,235.0,227.0,234.0,264.0,302.0,293.0,259.0,229.0,203.0,229.0,242.0,233.0,267.0,269.0,270.0,315.0,364.0,347.0,312.0,274.0,237.0,278.0,284.0,277.0,317.0,313.0,318.0,374.0,413.0,405.0,355.0,306.0,271.0,306.0,315.0,301.0,356.0,348.0,355.0,422.0,465.0,467.0,404.0,347.0,305.0,336.0,340.0,318.0,362.0,348.0,363.0,435.0,491.0,505.0,404.0,359.0,310.0,337.0,360.0,342.0,406.0,396.0,420.0,472.0,548.0,559.0,463.0,407.0,362.0,405.0,417.0,391.0,419.0,461.0,472.0,535.0,622.0,606.0,508.0,461.0,390.0,432.0],\"yaxis\":\"y\",\"type\":\"scatter\"}],                        {\"template\":{\"data\":{\"histogram2dcontour\":[{\"type\":\"histogram2dcontour\",\"colorbar\":{\"outlinewidth\":0,\"ticks\":\"\"},\"colorscale\":[[0.0,\"#0d0887\"],[0.1111111111111111,\"#46039f\"],[0.2222222222222222,\"#7201a8\"],[0.3333333333333333,\"#9c179e\"],[0.4444444444444444,\"#bd3786\"],[0.5555555555555556,\"#d8576b\"],[0.6666666666666666,\"#ed7953\"],[0.7777777777777778,\"#fb9f3a\"],[0.8888888888888888,\"#fdca26\"],[1.0,\"#f0f921\"]]}],\"choropleth\":[{\"type\":\"choropleth\",\"colorbar\":{\"outlinewidth\":0,\"ticks\":\"\"}}],\"histogram2d\":[{\"type\":\"histogram2d\",\"colorbar\":{\"outlinewidth\":0,\"ticks\":\"\"},\"colorscale\":[[0.0,\"#0d0887\"],[0.1111111111111111,\"#46039f\"],[0.2222222222222222,\"#7201a8\"],[0.3333333333333333,\"#9c179e\"],[0.4444444444444444,\"#bd3786\"],[0.5555555555555556,\"#d8576b\"],[0.6666666666666666,\"#ed7953\"],[0.7777777777777778,\"#fb9f3a\"],[0.8888888888888888,\"#fdca26\"],[1.0,\"#f0f921\"]]}],\"heatmap\":[{\"type\":\"heatmap\",\"colorbar\":{\"outlinewidth\":0,\"ticks\":\"\"},\"colorscale\":[[0.0,\"#0d0887\"],[0.1111111111111111,\"#46039f\"],[0.2222222222222222,\"#7201a8\"],[0.3333333333333333,\"#9c179e\"],[0.4444444444444444,\"#bd3786\"],[0.5555555555555556,\"#d8576b\"],[0.6666666666666666,\"#ed7953\"],[0.7777777777777778,\"#fb9f3a\"],[0.8888888888888888,\"#fdca26\"],[1.0,\"#f0f921\"]]}],\"heatmapgl\":[{\"type\":\"heatmapgl\",\"colorbar\":{\"outlinewidth\":0,\"ticks\":\"\"},\"colorscale\":[[0.0,\"#0d0887\"],[0.1111111111111111,\"#46039f\"],[0.2222222222222222,\"#7201a8\"],[0.3333333333333333,\"#9c179e\"],[0.4444444444444444,\"#bd3786\"],[0.5555555555555556,\"#d8576b\"],[0.6666666666666666,\"#ed7953\"],[0.7777777777777778,\"#fb9f3a\"],[0.8888888888888888,\"#fdca26\"],[1.0,\"#f0f921\"]]}],\"contourcarpet\":[{\"type\":\"contourcarpet\",\"colorbar\":{\"outlinewidth\":0,\"ticks\":\"\"}}],\"contour\":[{\"type\":\"contour\",\"colorbar\":{\"outlinewidth\":0,\"ticks\":\"\"},\"colorscale\":[[0.0,\"#0d0887\"],[0.1111111111111111,\"#46039f\"],[0.2222222222222222,\"#7201a8\"],[0.3333333333333333,\"#9c179e\"],[0.4444444444444444,\"#bd3786\"],[0.5555555555555556,\"#d8576b\"],[0.6666666666666666,\"#ed7953\"],[0.7777777777777778,\"#fb9f3a\"],[0.8888888888888888,\"#fdca26\"],[1.0,\"#f0f921\"]]}],\"surface\":[{\"type\":\"surface\",\"colorbar\":{\"outlinewidth\":0,\"ticks\":\"\"},\"colorscale\":[[0.0,\"#0d0887\"],[0.1111111111111111,\"#46039f\"],[0.2222222222222222,\"#7201a8\"],[0.3333333333333333,\"#9c179e\"],[0.4444444444444444,\"#bd3786\"],[0.5555555555555556,\"#d8576b\"],[0.6666666666666666,\"#ed7953\"],[0.7777777777777778,\"#fb9f3a\"],[0.8888888888888888,\"#fdca26\"],[1.0,\"#f0f921\"]]}],\"mesh3d\":[{\"type\":\"mesh3d\",\"colorbar\":{\"outlinewidth\":0,\"ticks\":\"\"}}],\"scatter\":[{\"fillpattern\":{\"fillmode\":\"overlay\",\"size\":10,\"solidity\":0.2},\"type\":\"scatter\"}],\"parcoords\":[{\"type\":\"parcoords\",\"line\":{\"colorbar\":{\"outlinewidth\":0,\"ticks\":\"\"}}}],\"scatterpolargl\":[{\"type\":\"scatterpolargl\",\"marker\":{\"colorbar\":{\"outlinewidth\":0,\"ticks\":\"\"}}}],\"bar\":[{\"error_x\":{\"color\":\"#2a3f5f\"},\"error_y\":{\"color\":\"#2a3f5f\"},\"marker\":{\"line\":{\"color\":\"#E5ECF6\",\"width\":0.5},\"pattern\":{\"fillmode\":\"overlay\",\"size\":10,\"solidity\":0.2}},\"type\":\"bar\"}],\"scattergeo\":[{\"type\":\"scattergeo\",\"marker\":{\"colorbar\":{\"outlinewidth\":0,\"ticks\":\"\"}}}],\"scatterpolar\":[{\"type\":\"scatterpolar\",\"marker\":{\"colorbar\":{\"outlinewidth\":0,\"ticks\":\"\"}}}],\"histogram\":[{\"marker\":{\"pattern\":{\"fillmode\":\"overlay\",\"size\":10,\"solidity\":0.2}},\"type\":\"histogram\"}],\"scattergl\":[{\"type\":\"scattergl\",\"marker\":{\"colorbar\":{\"outlinewidth\":0,\"ticks\":\"\"}}}],\"scatter3d\":[{\"type\":\"scatter3d\",\"line\":{\"colorbar\":{\"outlinewidth\":0,\"ticks\":\"\"}},\"marker\":{\"colorbar\":{\"outlinewidth\":0,\"ticks\":\"\"}}}],\"scattermapbox\":[{\"type\":\"scattermapbox\",\"marker\":{\"colorbar\":{\"outlinewidth\":0,\"ticks\":\"\"}}}],\"scatterternary\":[{\"type\":\"scatterternary\",\"marker\":{\"colorbar\":{\"outlinewidth\":0,\"ticks\":\"\"}}}],\"scattercarpet\":[{\"type\":\"scattercarpet\",\"marker\":{\"colorbar\":{\"outlinewidth\":0,\"ticks\":\"\"}}}],\"carpet\":[{\"aaxis\":{\"endlinecolor\":\"#2a3f5f\",\"gridcolor\":\"white\",\"linecolor\":\"white\",\"minorgridcolor\":\"white\",\"startlinecolor\":\"#2a3f5f\"},\"baxis\":{\"endlinecolor\":\"#2a3f5f\",\"gridcolor\":\"white\",\"linecolor\":\"white\",\"minorgridcolor\":\"white\",\"startlinecolor\":\"#2a3f5f\"},\"type\":\"carpet\"}],\"table\":[{\"cells\":{\"fill\":{\"color\":\"#EBF0F8\"},\"line\":{\"color\":\"white\"}},\"header\":{\"fill\":{\"color\":\"#C8D4E3\"},\"line\":{\"color\":\"white\"}},\"type\":\"table\"}],\"barpolar\":[{\"marker\":{\"line\":{\"color\":\"#E5ECF6\",\"width\":0.5},\"pattern\":{\"fillmode\":\"overlay\",\"size\":10,\"solidity\":0.2}},\"type\":\"barpolar\"}],\"pie\":[{\"automargin\":true,\"type\":\"pie\"}]},\"layout\":{\"autotypenumbers\":\"strict\",\"colorway\":[\"#636efa\",\"#EF553B\",\"#00cc96\",\"#ab63fa\",\"#FFA15A\",\"#19d3f3\",\"#FF6692\",\"#B6E880\",\"#FF97FF\",\"#FECB52\"],\"font\":{\"color\":\"#2a3f5f\"},\"hovermode\":\"closest\",\"hoverlabel\":{\"align\":\"left\"},\"paper_bgcolor\":\"white\",\"plot_bgcolor\":\"#E5ECF6\",\"polar\":{\"bgcolor\":\"#E5ECF6\",\"angularaxis\":{\"gridcolor\":\"white\",\"linecolor\":\"white\",\"ticks\":\"\"},\"radialaxis\":{\"gridcolor\":\"white\",\"linecolor\":\"white\",\"ticks\":\"\"}},\"ternary\":{\"bgcolor\":\"#E5ECF6\",\"aaxis\":{\"gridcolor\":\"white\",\"linecolor\":\"white\",\"ticks\":\"\"},\"baxis\":{\"gridcolor\":\"white\",\"linecolor\":\"white\",\"ticks\":\"\"},\"caxis\":{\"gridcolor\":\"white\",\"linecolor\":\"white\",\"ticks\":\"\"}},\"coloraxis\":{\"colorbar\":{\"outlinewidth\":0,\"ticks\":\"\"}},\"colorscale\":{\"sequential\":[[0.0,\"#0d0887\"],[0.1111111111111111,\"#46039f\"],[0.2222222222222222,\"#7201a8\"],[0.3333333333333333,\"#9c179e\"],[0.4444444444444444,\"#bd3786\"],[0.5555555555555556,\"#d8576b\"],[0.6666666666666666,\"#ed7953\"],[0.7777777777777778,\"#fb9f3a\"],[0.8888888888888888,\"#fdca26\"],[1.0,\"#f0f921\"]],\"sequentialminus\":[[0.0,\"#0d0887\"],[0.1111111111111111,\"#46039f\"],[0.2222222222222222,\"#7201a8\"],[0.3333333333333333,\"#9c179e\"],[0.4444444444444444,\"#bd3786\"],[0.5555555555555556,\"#d8576b\"],[0.6666666666666666,\"#ed7953\"],[0.7777777777777778,\"#fb9f3a\"],[0.8888888888888888,\"#fdca26\"],[1.0,\"#f0f921\"]],\"diverging\":[[0,\"#8e0152\"],[0.1,\"#c51b7d\"],[0.2,\"#de77ae\"],[0.3,\"#f1b6da\"],[0.4,\"#fde0ef\"],[0.5,\"#f7f7f7\"],[0.6,\"#e6f5d0\"],[0.7,\"#b8e186\"],[0.8,\"#7fbc41\"],[0.9,\"#4d9221\"],[1,\"#276419\"]]},\"xaxis\":{\"gridcolor\":\"white\",\"linecolor\":\"white\",\"ticks\":\"\",\"title\":{\"standoff\":15},\"zerolinecolor\":\"white\",\"automargin\":true,\"zerolinewidth\":2},\"yaxis\":{\"gridcolor\":\"white\",\"linecolor\":\"white\",\"ticks\":\"\",\"title\":{\"standoff\":15},\"zerolinecolor\":\"white\",\"automargin\":true,\"zerolinewidth\":2},\"scene\":{\"xaxis\":{\"backgroundcolor\":\"#E5ECF6\",\"gridcolor\":\"white\",\"linecolor\":\"white\",\"showbackground\":true,\"ticks\":\"\",\"zerolinecolor\":\"white\",\"gridwidth\":2},\"yaxis\":{\"backgroundcolor\":\"#E5ECF6\",\"gridcolor\":\"white\",\"linecolor\":\"white\",\"showbackground\":true,\"ticks\":\"\",\"zerolinecolor\":\"white\",\"gridwidth\":2},\"zaxis\":{\"backgroundcolor\":\"#E5ECF6\",\"gridcolor\":\"white\",\"linecolor\":\"white\",\"showbackground\":true,\"ticks\":\"\",\"zerolinecolor\":\"white\",\"gridwidth\":2}},\"shapedefaults\":{\"line\":{\"color\":\"#2a3f5f\"}},\"annotationdefaults\":{\"arrowcolor\":\"#2a3f5f\",\"arrowhead\":0,\"arrowwidth\":1},\"geo\":{\"bgcolor\":\"white\",\"landcolor\":\"#E5ECF6\",\"subunitcolor\":\"white\",\"showland\":true,\"showlakes\":true,\"lakecolor\":\"white\"},\"title\":{\"x\":0.05},\"mapbox\":{\"style\":\"light\"}}},\"xaxis\":{\"anchor\":\"y\",\"domain\":[0.0,1.0],\"title\":{\"text\":\"index\"}},\"yaxis\":{\"anchor\":\"x\",\"domain\":[0.0,1.0],\"title\":{\"text\":\"value\"}},\"legend\":{\"title\":{\"text\":\"variable\"},\"tracegroupgap\":0},\"title\":{\"text\":\"airflight passengers volume\"}},                        {\"responsive\": true}                    ).then(function(){\n",
       "                            \n",
       "var gd = document.getElementById('da46e2e2-3aaa-4ae5-8ad7-a217a4f82f73');\n",
       "var x = new MutationObserver(function (mutations, observer) {{\n",
       "        var display = window.getComputedStyle(gd).display;\n",
       "        if (!display || display === 'none') {{\n",
       "            console.log([gd, 'removed!']);\n",
       "            Plotly.purge(gd);\n",
       "            observer.disconnect();\n",
       "        }}\n",
       "}});\n",
       "\n",
       "// Listen for the removal of the full notebook cells\n",
       "var notebookContainer = gd.closest('#notebook-container');\n",
       "if (notebookContainer) {{\n",
       "    x.observe(notebookContainer, {childList: true});\n",
       "}}\n",
       "\n",
       "// Listen for the clearing of the current output cell\n",
       "var outputEl = gd.closest('.output');\n",
       "if (outputEl) {{\n",
       "    x.observe(outputEl, {childList: true});\n",
       "}}\n",
       "\n",
       "                        })                };                });            </script>        </div>"
      ]
     },
     "metadata": {},
     "output_type": "display_data"
    }
   ],
   "source": [
    "fig = px.line(timeseries, title='airflight passengers volume')\n",
    "fig.show()"
   ]
  },
  {
   "cell_type": "code",
   "execution_count": 598,
   "id": "8d7235a1-2bae-4d40-8e76-a734fd0c3f73",
   "metadata": {},
   "outputs": [
    {
     "name": "stdout",
     "output_type": "stream",
     "text": [
      "train shape: (100, 1)\n",
      "test shape: (44, 1)\n"
     ]
    }
   ],
   "source": [
    "lenght = len(timeseries)\n",
    "ratio = 0.70\n",
    "\n",
    "lenght_train = int(lenght * ratio)\n",
    "train = timeseries[0:lenght_train]\n",
    "test = timeseries[lenght_train:]\n",
    "\n",
    "print('train shape: {}'.format(train.shape))\n",
    "print('test shape: {}'.format(test.shape))"
   ]
  },
  {
   "cell_type": "markdown",
   "id": "95b3307f-ea35-427b-80f9-a144022fab37",
   "metadata": {},
   "source": [
    "# Standard scaler"
   ]
  },
  {
   "cell_type": "code",
   "execution_count": 599,
   "id": "38c8e9c6-8700-4767-99cc-266b3930899e",
   "metadata": {},
   "outputs": [],
   "source": [
    "scaler = StandardScaler()\n",
    "timeseries = scaler.fit_transform(timeseries)\n",
    "train = scaler.fit_transform(train)\n",
    "test = scaler.transform(test)"
   ]
  },
  {
   "cell_type": "markdown",
   "id": "3f41c98c-551c-411b-9981-468f47a7e879",
   "metadata": {},
   "source": [
    "# Window size"
   ]
  },
  {
   "cell_type": "markdown",
   "id": "bd9b2d15-faa7-4c35-aa33-fed4c41f3dfc",
   "metadata": {},
   "source": [
    "##### <font color='red'>LSTM model principle is that prediction at time \"t\" is a combination of input state at time \"t\" and input state at time \"t - w\" (called the window).\n",
    "So, said that, we have to define window period<font>"
   ]
  },
  {
   "cell_type": "code",
   "execution_count": 600,
   "id": "896bebe0-3880-41c9-a450-0c2f61a1494f",
   "metadata": {},
   "outputs": [],
   "source": [
    "seq_length = 6"
   ]
  },
  {
   "cell_type": "code",
   "execution_count": 601,
   "id": "5fd7797a-0f62-40af-ba1b-4880484c5fba",
   "metadata": {},
   "outputs": [],
   "source": [
    "def create_dataset(dataset, seq_length):\n",
    "    'transform timeseries into prediction dataset'\n",
    "    \n",
    "    'arguments:'\n",
    "    '1. dataset: numpy array which first dimension is time step'\n",
    "    '2. lookbach: size of window to make predictions'\n",
    "\n",
    "    X= []\n",
    "    y = []\n",
    "    for i in range(len(dataset) - seq_length - 1):\n",
    "        feature = dataset[i: i + seq_length]\n",
    "        target = dataset[i + seq_length]\n",
    "        X.append(feature)\n",
    "        y.append(target)\n",
    "    \n",
    "    #print(X)\n",
    "    #print(y)\n",
    "    print('len(X): {}'.format(len(X)))\n",
    "    print('len(y): {}'.format(len(y)))\n",
    "    X = np.asarray(X)\n",
    "    y = np.asarray(y)\n",
    "    print('X array.shape: {}'.format(X.shape))\n",
    "    print('y array.shape: {}'.format(y.shape))\n",
    "\n",
    "    \n",
    "    return X, y\n",
    "\n",
    "    \n",
    "    "
   ]
  },
  {
   "cell_type": "code",
   "execution_count": 602,
   "id": "4365d814-f3df-433b-a430-71a6f9a3a879",
   "metadata": {},
   "outputs": [
    {
     "name": "stdout",
     "output_type": "stream",
     "text": [
      "len(X): 137\n",
      "len(y): 137\n",
      "X array.shape: (137, 6, 1)\n",
      "y array.shape: (137, 1)\n",
      "X_ts.shape: (137, 6, 1), y_ts.shape: (137, 1)\n"
     ]
    }
   ],
   "source": [
    "X_ts, y_ts = create_dataset(timeseries, seq_length)\n",
    "print('X_ts.shape: {}, y_ts.shape: {}'.format(X_ts.shape, y_ts.shape))"
   ]
  },
  {
   "cell_type": "code",
   "execution_count": 603,
   "id": "0d2fcb06-6bd7-4d6f-9d74-02d0ef51e036",
   "metadata": {},
   "outputs": [
    {
     "name": "stdout",
     "output_type": "stream",
     "text": [
      "len(X): 93\n",
      "len(y): 93\n",
      "X array.shape: (93, 6, 1)\n",
      "y array.shape: (93, 1)\n",
      "X_train.shape: (93, 6, 1), y_train.shape: (93, 1)\n"
     ]
    }
   ],
   "source": [
    "X_train, y_train = create_dataset(train, seq_length)\n",
    "print('X_train.shape: {}, y_train.shape: {}'.format(X_train.shape, y_train.shape))"
   ]
  },
  {
   "cell_type": "code",
   "execution_count": 652,
   "id": "29e6855c-b87b-4f79-aee2-b5b809f1bc06",
   "metadata": {},
   "outputs": [
    {
     "name": "stdout",
     "output_type": "stream",
     "text": [
      "len(X): 37\n",
      "len(y): 37\n",
      "X array.shape: (37, 6, 1)\n",
      "y array.shape: (37, 1)\n",
      "X_test.shape: (37, 6, 1), y_test.shape: (37, 1)\n"
     ]
    }
   ],
   "source": [
    "X_test, y_test = create_dataset(test, seq_length)\n",
    "print('X_test.shape: {}, y_test.shape: {}'.format(X_test.shape, y_test.shape))"
   ]
  },
  {
   "cell_type": "code",
   "execution_count": 605,
   "id": "ed38d371-42f0-4f71-85ef-e0a5fc521d71",
   "metadata": {},
   "outputs": [
    {
     "name": "stdout",
     "output_type": "stream",
     "text": [
      "X_train.dtype: float64\n",
      "y_train.dtype: float64\n",
      "\n",
      "X_test.dtype: float64\n",
      "y_test.dtype: float64\n"
     ]
    }
   ],
   "source": [
    "print('X_train.dtype: {}'.format(X_train.dtype))\n",
    "print('y_train.dtype: {}'.format(y_train.dtype))\n",
    "print()\n",
    "print('X_test.dtype: {}'.format(X_test.dtype))\n",
    "print('y_test.dtype: {}'.format(y_test.dtype))"
   ]
  },
  {
   "cell_type": "markdown",
   "id": "4b2cfc85-643c-4a44-abb6-22a6cacbdf95",
   "metadata": {},
   "source": [
    "# To tensor"
   ]
  },
  {
   "cell_type": "code",
   "execution_count": 606,
   "id": "00e84cad-bacf-49f4-a0ab-1731ffb92059",
   "metadata": {},
   "outputs": [
    {
     "name": "stdout",
     "output_type": "stream",
     "text": [
      "X_ts.shape: torch.Size([137, 6, 1]), X_ts.dtype: torch.float32\n"
     ]
    }
   ],
   "source": [
    "X_ts = Variable(torch.Tensor(X_ts))\n",
    "print('X_ts.shape: {}, X_ts.dtype: {}'.format(X_ts.shape, X_ts.dtype))"
   ]
  },
  {
   "cell_type": "code",
   "execution_count": 607,
   "id": "ed3e7ca9-5c2e-4547-8ea2-ca15172fd278",
   "metadata": {},
   "outputs": [
    {
     "name": "stdout",
     "output_type": "stream",
     "text": [
      "y_ts.shape: torch.Size([137, 1]), y_ts.dtype: torch.float32\n"
     ]
    }
   ],
   "source": [
    "y_ts = Variable(torch.Tensor(y_ts))\n",
    "print('y_ts.shape: {}, y_ts.dtype: {}'.format(y_ts.shape, y_ts.dtype))"
   ]
  },
  {
   "cell_type": "code",
   "execution_count": 608,
   "id": "781a2c56-ec56-4092-a0e2-2fc334642a80",
   "metadata": {},
   "outputs": [
    {
     "name": "stdout",
     "output_type": "stream",
     "text": [
      "X_train.shape: torch.Size([93, 6, 1]), X_train.dtype: torch.float32\n"
     ]
    }
   ],
   "source": [
    "X_train = Variable(torch.Tensor(X_train))\n",
    "print('X_train.shape: {}, X_train.dtype: {}'.format(X_train.shape, X_train.dtype))"
   ]
  },
  {
   "cell_type": "code",
   "execution_count": 609,
   "id": "9aae8bc6-4fbb-4fbe-9708-70b78fdbe43a",
   "metadata": {},
   "outputs": [
    {
     "name": "stdout",
     "output_type": "stream",
     "text": [
      "y_train.shape: torch.Size([93, 1]), y_train.dtype: torch.float32\n"
     ]
    }
   ],
   "source": [
    "y_train = Variable(torch.Tensor(y_train))\n",
    "print('y_train.shape: {}, y_train.dtype: {}'.format(y_train.shape, y_train.dtype))"
   ]
  },
  {
   "cell_type": "code",
   "execution_count": 610,
   "id": "bf083039-37c9-4dff-b871-0bb3ebbd4f71",
   "metadata": {},
   "outputs": [
    {
     "name": "stdout",
     "output_type": "stream",
     "text": [
      "X_test.shape: torch.Size([37, 6, 1]), X_test.dtype: torch.float32\n"
     ]
    }
   ],
   "source": [
    "X_test = Variable(torch.Tensor(X_test))\n",
    "print('X_test.shape: {}, X_test.dtype: {}'.format(X_test.shape, X_test.dtype))"
   ]
  },
  {
   "cell_type": "code",
   "execution_count": 611,
   "id": "fbe2b61d-7891-4282-aaf6-b2b691557f6e",
   "metadata": {},
   "outputs": [
    {
     "name": "stdout",
     "output_type": "stream",
     "text": [
      "y_test.shape: torch.Size([37, 1]), y_test.dtype: torch.float32\n"
     ]
    }
   ],
   "source": [
    "y_test = Variable(torch.Tensor(y_test))\n",
    "print('y_test.shape: {}, y_test.dtype: {}'.format(y_test.shape, y_test.dtype))"
   ]
  },
  {
   "cell_type": "markdown",
   "id": "cf20c911-fec8-4b03-ab6c-fa9ca95f5483",
   "metadata": {},
   "source": [
    "# LSTM model"
   ]
  },
  {
   "cell_type": "markdown",
   "id": "da3e66ec-a047-4a7c-aa36-c9cdeb6de9e4",
   "metadata": {},
   "source": [
    "##### <font color='blue'>input_size: nb of features<font>\n"
   ]
  },
  {
   "cell_type": "code",
   "execution_count": 612,
   "id": "57463572-8697-4bcd-9572-63bde7ac3683",
   "metadata": {},
   "outputs": [],
   "source": [
    "input_size = 1\n",
    "hidden_size_1 = 64\n",
    "hidden_size_2 = 32\n",
    "\n",
    "n_epochs = 400\n",
    "counter = 0\n",
    "best_loss = 100\n",
    "bool = True"
   ]
  },
  {
   "cell_type": "code",
   "execution_count": 613,
   "id": "150a937b-9584-42ac-9fcc-ffa3ccd481b3",
   "metadata": {},
   "outputs": [],
   "source": [
    "class lstm_airflight(nn.Module):\n",
    "    def __init__(self):\n",
    "        super().__init__()\n",
    "        self.lstm_1 = nn.LSTM(input_size=input_size, hidden_size=hidden_size_1, num_layers=1, batch_first=True)\n",
    "        self.dropout_1 = nn.Dropout(0.2)\n",
    "\n",
    "        self.lstm_2 = nn.LSTM(input_size=hidden_size_1, hidden_size=hidden_size_2, num_layers=1, batch_first=True)\n",
    "        self.dropout_2 = nn.Dropout(0.2)\n",
    "        \n",
    "\n",
    "        self.flat = nn.Flatten()\n",
    "        \n",
    "        # Linear layer expects dimensions to be batch, hidden_size\n",
    "        in_features = hidden_size_2 * seq_length\n",
    "        out_features = 16\n",
    "        \n",
    "        self.linear_1 = nn.Linear(in_features=in_features, out_features=out_features)\n",
    "        self.dropout_linear_1 = nn.Dropout(0.2)\n",
    "        self.relu_1 = nn.ReLU()\n",
    "\n",
    "        in_features = out_features\n",
    "        out_features = 8\n",
    "        \n",
    "        self.linear_2 = nn.Linear(in_features=in_features, out_features=out_features)\n",
    "        self.dropout_linear_2 = nn.Dropout(0.2)\n",
    "        self.relu_2 = nn.ReLU()\n",
    "\n",
    "        in_features = out_features\n",
    "        out_features = 1\n",
    "        \n",
    "        self.linear_3 = nn.Linear(in_features=in_features, out_features=out_features)\n",
    "\n",
    "\n",
    "    \n",
    "\n",
    "    def forward(self, x):\n",
    "        x, notused = self.lstm_1(x)\n",
    "        #print('lstm_1_output shape: {}, lstm_1_notused shape: {}'.format(x.shape, len(notused)))\n",
    "        x = self.dropout_1(x)\n",
    "        \n",
    "        x, _ = self.lstm_2(x)\n",
    "        #print('lstm_2_output shape: {}, lstm_2_notused shape: {}'.format(x.shape, len(notused)))\n",
    "        x = self.dropout_2(x)\n",
    "        \n",
    "\n",
    "        x = x.unsqueeze(0)\n",
    "        x = self.flat(x)\n",
    "        \n",
    "        x = self.linear_1(x)\n",
    "        #print('linear_1_output shape: {}'.format(x.shape))\n",
    "        \n",
    "        x = self.dropout_linear_1(x)\n",
    "        x = self.relu_1(x)\n",
    "\n",
    "        x = self.linear_2(x)\n",
    "        #print('linear_2_output shape: {}'.format(x.shape))\n",
    "\n",
    "        x = self.dropout_linear_2(x)\n",
    "        x = self.relu_2(x)\n",
    "        #print('ReLU_2_output shape: {}'.format(x.shape))\n",
    "\n",
    "        x = self.linear_3(x)\n",
    "        #print('linear_3_output shape: {}'.format(x.shape))\n",
    "        #print('linear_3_output: {}'.format(x))\n",
    "        \n",
    "        \n",
    "        return x\n",
    "    "
   ]
  },
  {
   "cell_type": "code",
   "execution_count": 614,
   "id": "937008b8-0b82-4fcc-87ee-f13ed6f70203",
   "metadata": {},
   "outputs": [
    {
     "name": "stdout",
     "output_type": "stream",
     "text": [
      "lstm_airflight(\n",
      "  (lstm_1): LSTM(1, 64, batch_first=True)\n",
      "  (dropout_1): Dropout(p=0.2, inplace=False)\n",
      "  (lstm_2): LSTM(64, 32, batch_first=True)\n",
      "  (dropout_2): Dropout(p=0.2, inplace=False)\n",
      "  (flat): Flatten(start_dim=1, end_dim=-1)\n",
      "  (linear_1): Linear(in_features=192, out_features=16, bias=True)\n",
      "  (dropout_linear_1): Dropout(p=0.2, inplace=False)\n",
      "  (relu_1): ReLU()\n",
      "  (linear_2): Linear(in_features=16, out_features=8, bias=True)\n",
      "  (dropout_linear_2): Dropout(p=0.2, inplace=False)\n",
      "  (relu_2): ReLU()\n",
      "  (linear_3): Linear(in_features=8, out_features=1, bias=True)\n",
      ")\n"
     ]
    }
   ],
   "source": [
    "model = lstm_airflight()\n",
    "print(model)"
   ]
  },
  {
   "cell_type": "markdown",
   "id": "d0431860-5d01-4cf6-b3f4-7bffd82b8987",
   "metadata": {},
   "source": [
    "## Loss function & optimizer"
   ]
  },
  {
   "cell_type": "code",
   "execution_count": 615,
   "id": "be0e5fc9-04be-4cd6-88a6-06305c8cda00",
   "metadata": {},
   "outputs": [],
   "source": [
    "optimizer = Adam(model.parameters())"
   ]
  },
  {
   "cell_type": "code",
   "execution_count": 616,
   "id": "57e3a108-1179-4954-98ba-b53716df3df5",
   "metadata": {},
   "outputs": [],
   "source": [
    "loss_fn = nn.MSELoss()"
   ]
  },
  {
   "cell_type": "markdown",
   "id": "48742bd0-ac5f-454d-8be3-4a00a4ebf28b",
   "metadata": {},
   "source": [
    "## Training"
   ]
  },
  {
   "cell_type": "code",
   "execution_count": 617,
   "id": "0c3e6404-a614-4338-b02d-06a83590ac2b",
   "metadata": {},
   "outputs": [],
   "source": [
    "class early_stop():\n",
    "    def __init__(self, epoch, dico, path, bool):\n",
    "        self.epoch = epoch\n",
    "        self.dico = dico\n",
    "        self.path = path\n",
    "        self.bool = bool\n",
    "\n",
    "    def compute_loss(self):\n",
    "        global counter\n",
    "        global best_loss\n",
    "        global bool\n",
    "        #counter = 0\n",
    "        #best_loss = self.dico[self.epoch]\n",
    "        #print('best_loss: {}'.format(best_loss))\n",
    "\n",
    "        if self.epoch > 0:\n",
    "                \n",
    "            if self.dico[self.epoch] < self.dico[self.epoch - 1]:\n",
    "                best_loss = self.dico[self.epoch]\n",
    "                torch.save(model.state_dict(), self.path)\n",
    "                counter = 0\n",
    "                print('==============')\n",
    "                print('epoch n°: {}'.format(epoch))\n",
    "                print('self.dico[self.epoch]: {} < self.dico[self.epoch - 1]: {}'.format(self.dico[self.epoch], self.dico[self.epoch - 1]))\n",
    "                print('counter: {}'.format(counter))\n",
    "                print('==============')\n",
    "                print()\n",
    "\n",
    "            if self.dico[self.epoch] >= self.dico[self.epoch - 1]:\n",
    "                counter = counter + 1\n",
    "                print('==============')\n",
    "                print('epoch n°: {}'.format(epoch))\n",
    "                print('self.dico[self.epoch]: {} >= self.dico[self.epoch - 1]: {}'.format(self.dico[self.epoch], self.dico[self.epoch - 1]))\n",
    "                print('counter: {}'.format(counter))\n",
    "                print('==============')\n",
    "                print()\n",
    "\n",
    "            if counter > 0:\n",
    "                if self.dico[self.epoch] < self.dico[self.epoch - 1]:\n",
    "                    if self.dico[self.epoch] < best_loss:\n",
    "                        counter = 0\n",
    "                        best_loss = self.dico[self.epoch]\n",
    "                        torch.save(model.state_dict(), self.path)\n",
    "                        print('==============')\n",
    "                        print('epoch n°: {}'.format(epoch))\n",
    "                        print('Counter > 0, self.dico[self.epoch]: {} < self.dico[self.epoch - 1]: {}, best_loss: {}'.format(self.dico[self.epoch], self.dico[self.epoch - 1], best_loss))\n",
    "                        print('counter: {}'.format(counter))\n",
    "                        print('==============')\n",
    "                        print()\n",
    "\n",
    "                    if self.dico[self.epoch] >= best_loss:\n",
    "                        counter = counter + 1\n",
    "                        print('==============')\n",
    "                        print('epoch n°: {}'.format(epoch))\n",
    "                        print('Counter > 0, self.dico[self.epoch]: {} >= self.dico[self.epoch - 1]: {}, best_loss: {}'.format(self.dico[self.epoch], self.dico[self.epoch - 1], best_loss))\n",
    "                        print('counter: {}'.format(counter))\n",
    "                        print('==============')\n",
    "                        print()\n",
    "                        \n",
    "\n",
    "            \n",
    "            if counter > 5:\n",
    "                print('fin sur epoch n°: {}'.format(epoch))\n",
    "                self.bool = False\n",
    "            \n",
    "        return self.bool               \n",
    "                "
   ]
  },
  {
   "cell_type": "code",
   "execution_count": 618,
   "id": "891bfad1-d828-44c9-9304-0d6c9e753a47",
   "metadata": {},
   "outputs": [
    {
     "name": "stdout",
     "output_type": "stream",
     "text": [
      "===========\n",
      "nb_loop: 1\n",
      "X.shape: torch.Size([6, 1])\n",
      "y_pred.shape: torch.Size([1, 1]), y: torch.Size([1, 1])\n",
      "===========\n",
      "epoch: 0, var_bool: True\n"
     ]
    },
    {
     "name": "stderr",
     "output_type": "stream",
     "text": [
      "/Library/Frameworks/Python.framework/Versions/3.12/lib/python3.12/site-packages/torch/nn/modules/loss.py:535: UserWarning:\n",
      "\n",
      "Using a target size (torch.Size([1])) that is different to the input size (torch.Size([1, 1])). This will likely lead to incorrect results due to broadcasting. Please ensure they have the same size.\n",
      "\n"
     ]
    },
    {
     "name": "stdout",
     "output_type": "stream",
     "text": [
      "==============\n",
      "epoch n°: 1\n",
      "self.dico[self.epoch]: 6.923555850982666 < self.dico[self.epoch - 1]: 10.10731315612793\n",
      "counter: 0\n",
      "==============\n",
      "\n",
      "epoch: 1, var_bool: True\n",
      "==============\n",
      "epoch n°: 2\n",
      "self.dico[self.epoch]: 6.072753429412842 < self.dico[self.epoch - 1]: 6.923555850982666\n",
      "counter: 0\n",
      "==============\n",
      "\n",
      "epoch: 2, var_bool: True\n",
      "==============\n",
      "epoch n°: 3\n",
      "self.dico[self.epoch]: 5.637229919433594 < self.dico[self.epoch - 1]: 6.072753429412842\n",
      "counter: 0\n",
      "==============\n",
      "\n",
      "epoch: 3, var_bool: True\n",
      "==============\n",
      "epoch n°: 4\n",
      "self.dico[self.epoch]: 5.392576217651367 < self.dico[self.epoch - 1]: 5.637229919433594\n",
      "counter: 0\n",
      "==============\n",
      "\n",
      "epoch: 4, var_bool: True\n",
      "==============\n",
      "epoch n°: 5\n",
      "self.dico[self.epoch]: 5.264624118804932 < self.dico[self.epoch - 1]: 5.392576217651367\n",
      "counter: 0\n",
      "==============\n",
      "\n",
      "epoch: 5, var_bool: True\n",
      "==============\n",
      "epoch n°: 6\n",
      "self.dico[self.epoch]: 5.16831636428833 < self.dico[self.epoch - 1]: 5.264624118804932\n",
      "counter: 0\n",
      "==============\n",
      "\n",
      "epoch: 6, var_bool: True\n",
      "==============\n",
      "epoch n°: 7\n",
      "self.dico[self.epoch]: 4.997067451477051 < self.dico[self.epoch - 1]: 5.16831636428833\n",
      "counter: 0\n",
      "==============\n",
      "\n",
      "epoch: 7, var_bool: True\n",
      "==============\n",
      "epoch n°: 8\n",
      "self.dico[self.epoch]: 4.827332973480225 < self.dico[self.epoch - 1]: 4.997067451477051\n",
      "counter: 0\n",
      "==============\n",
      "\n",
      "epoch: 8, var_bool: True\n",
      "==============\n",
      "epoch n°: 9\n",
      "self.dico[self.epoch]: 4.684691905975342 < self.dico[self.epoch - 1]: 4.827332973480225\n",
      "counter: 0\n",
      "==============\n",
      "\n",
      "epoch: 9, var_bool: True\n",
      "==============\n",
      "epoch n°: 10\n",
      "self.dico[self.epoch]: 4.555550575256348 < self.dico[self.epoch - 1]: 4.684691905975342\n",
      "counter: 0\n",
      "==============\n",
      "\n",
      "epoch: 10, var_bool: True\n",
      "==============\n",
      "epoch n°: 11\n",
      "self.dico[self.epoch]: 4.435405731201172 < self.dico[self.epoch - 1]: 4.555550575256348\n",
      "counter: 0\n",
      "==============\n",
      "\n",
      "epoch: 11, var_bool: True\n",
      "==============\n",
      "epoch n°: 12\n",
      "self.dico[self.epoch]: 4.289804458618164 < self.dico[self.epoch - 1]: 4.435405731201172\n",
      "counter: 0\n",
      "==============\n",
      "\n",
      "epoch: 12, var_bool: True\n",
      "==============\n",
      "epoch n°: 13\n",
      "self.dico[self.epoch]: 4.133435249328613 < self.dico[self.epoch - 1]: 4.289804458618164\n",
      "counter: 0\n",
      "==============\n",
      "\n",
      "epoch: 13, var_bool: True\n",
      "==============\n",
      "epoch n°: 14\n",
      "self.dico[self.epoch]: 3.9836487770080566 < self.dico[self.epoch - 1]: 4.133435249328613\n",
      "counter: 0\n",
      "==============\n",
      "\n",
      "epoch: 14, var_bool: True\n",
      "==============\n",
      "epoch n°: 15\n",
      "self.dico[self.epoch]: 3.8080942630767822 < self.dico[self.epoch - 1]: 3.9836487770080566\n",
      "counter: 0\n",
      "==============\n",
      "\n",
      "epoch: 15, var_bool: True\n",
      "==============\n",
      "epoch n°: 16\n",
      "self.dico[self.epoch]: 3.670344829559326 < self.dico[self.epoch - 1]: 3.8080942630767822\n",
      "counter: 0\n",
      "==============\n",
      "\n",
      "epoch: 16, var_bool: True\n",
      "==============\n",
      "epoch n°: 17\n",
      "self.dico[self.epoch]: 3.508378744125366 < self.dico[self.epoch - 1]: 3.670344829559326\n",
      "counter: 0\n",
      "==============\n",
      "\n",
      "epoch: 17, var_bool: True\n",
      "==============\n",
      "epoch n°: 18\n",
      "self.dico[self.epoch]: 3.397853374481201 < self.dico[self.epoch - 1]: 3.508378744125366\n",
      "counter: 0\n",
      "==============\n",
      "\n",
      "epoch: 18, var_bool: True\n",
      "==============\n",
      "epoch n°: 19\n",
      "self.dico[self.epoch]: 3.3293139934539795 < self.dico[self.epoch - 1]: 3.397853374481201\n",
      "counter: 0\n",
      "==============\n",
      "\n",
      "epoch: 19, var_bool: True\n",
      "==============\n",
      "epoch n°: 20\n",
      "self.dico[self.epoch]: 3.2314648628234863 < self.dico[self.epoch - 1]: 3.3293139934539795\n",
      "counter: 0\n",
      "==============\n",
      "\n",
      "epoch: 20, var_bool: True\n",
      "==============\n",
      "epoch n°: 21\n",
      "self.dico[self.epoch]: 3.1346943378448486 < self.dico[self.epoch - 1]: 3.2314648628234863\n",
      "counter: 0\n",
      "==============\n",
      "\n",
      "epoch: 21, var_bool: True\n",
      "==============\n",
      "epoch n°: 22\n",
      "self.dico[self.epoch]: 3.0414035320281982 < self.dico[self.epoch - 1]: 3.1346943378448486\n",
      "counter: 0\n",
      "==============\n",
      "\n",
      "epoch: 22, var_bool: True\n",
      "==============\n",
      "epoch n°: 23\n",
      "self.dico[self.epoch]: 2.9697084426879883 < self.dico[self.epoch - 1]: 3.0414035320281982\n",
      "counter: 0\n",
      "==============\n",
      "\n",
      "epoch: 23, var_bool: True\n",
      "==============\n",
      "epoch n°: 24\n",
      "self.dico[self.epoch]: 2.885483503341675 < self.dico[self.epoch - 1]: 2.9697084426879883\n",
      "counter: 0\n",
      "==============\n",
      "\n",
      "epoch: 24, var_bool: True\n",
      "==============\n",
      "epoch n°: 25\n",
      "self.dico[self.epoch]: 2.8066823482513428 < self.dico[self.epoch - 1]: 2.885483503341675\n",
      "counter: 0\n",
      "==============\n",
      "\n",
      "epoch: 25, var_bool: True\n",
      "==============\n",
      "epoch n°: 26\n",
      "self.dico[self.epoch]: 2.740061044692993 < self.dico[self.epoch - 1]: 2.8066823482513428\n",
      "counter: 0\n",
      "==============\n",
      "\n",
      "epoch: 26, var_bool: True\n",
      "==============\n",
      "epoch n°: 27\n",
      "self.dico[self.epoch]: 2.690906047821045 < self.dico[self.epoch - 1]: 2.740061044692993\n",
      "counter: 0\n",
      "==============\n",
      "\n",
      "epoch: 27, var_bool: True\n",
      "==============\n",
      "epoch n°: 28\n",
      "self.dico[self.epoch]: 2.64591121673584 < self.dico[self.epoch - 1]: 2.690906047821045\n",
      "counter: 0\n",
      "==============\n",
      "\n",
      "epoch: 28, var_bool: True\n",
      "==============\n",
      "epoch n°: 29\n",
      "self.dico[self.epoch]: 2.6120476722717285 < self.dico[self.epoch - 1]: 2.64591121673584\n",
      "counter: 0\n",
      "==============\n",
      "\n",
      "epoch: 29, var_bool: True\n",
      "==============\n",
      "epoch n°: 30\n",
      "self.dico[self.epoch]: 2.567357301712036 < self.dico[self.epoch - 1]: 2.6120476722717285\n",
      "counter: 0\n",
      "==============\n",
      "\n",
      "epoch: 30, var_bool: True\n",
      "==============\n",
      "epoch n°: 31\n",
      "self.dico[self.epoch]: 2.520648956298828 < self.dico[self.epoch - 1]: 2.567357301712036\n",
      "counter: 0\n",
      "==============\n",
      "\n",
      "epoch: 31, var_bool: True\n",
      "==============\n",
      "epoch n°: 32\n",
      "self.dico[self.epoch]: 2.5050926208496094 < self.dico[self.epoch - 1]: 2.520648956298828\n",
      "counter: 0\n",
      "==============\n",
      "\n",
      "epoch: 32, var_bool: True\n",
      "==============\n",
      "epoch n°: 33\n",
      "self.dico[self.epoch]: 2.4901602268218994 < self.dico[self.epoch - 1]: 2.5050926208496094\n",
      "counter: 0\n",
      "==============\n",
      "\n",
      "epoch: 33, var_bool: True\n",
      "==============\n",
      "epoch n°: 34\n",
      "self.dico[self.epoch]: 2.440185785293579 < self.dico[self.epoch - 1]: 2.4901602268218994\n",
      "counter: 0\n",
      "==============\n",
      "\n",
      "epoch: 34, var_bool: True\n",
      "==============\n",
      "epoch n°: 35\n",
      "self.dico[self.epoch]: 2.408057451248169 < self.dico[self.epoch - 1]: 2.440185785293579\n",
      "counter: 0\n",
      "==============\n",
      "\n",
      "epoch: 35, var_bool: True\n",
      "==============\n",
      "epoch n°: 36\n",
      "self.dico[self.epoch]: 2.3841230869293213 < self.dico[self.epoch - 1]: 2.408057451248169\n",
      "counter: 0\n",
      "==============\n",
      "\n",
      "epoch: 36, var_bool: True\n",
      "==============\n",
      "epoch n°: 37\n",
      "self.dico[self.epoch]: 2.367649555206299 < self.dico[self.epoch - 1]: 2.3841230869293213\n",
      "counter: 0\n",
      "==============\n",
      "\n",
      "epoch: 37, var_bool: True\n",
      "==============\n",
      "epoch n°: 38\n",
      "self.dico[self.epoch]: 2.339346408843994 < self.dico[self.epoch - 1]: 2.367649555206299\n",
      "counter: 0\n",
      "==============\n",
      "\n",
      "epoch: 38, var_bool: True\n",
      "==============\n",
      "epoch n°: 39\n",
      "self.dico[self.epoch]: 2.300564765930176 < self.dico[self.epoch - 1]: 2.339346408843994\n",
      "counter: 0\n",
      "==============\n",
      "\n",
      "epoch: 39, var_bool: True\n",
      "==============\n",
      "epoch n°: 40\n",
      "self.dico[self.epoch]: 2.2680931091308594 < self.dico[self.epoch - 1]: 2.300564765930176\n",
      "counter: 0\n",
      "==============\n",
      "\n",
      "epoch: 40, var_bool: True\n",
      "==============\n",
      "epoch n°: 41\n",
      "self.dico[self.epoch]: 2.245521306991577 < self.dico[self.epoch - 1]: 2.2680931091308594\n",
      "counter: 0\n",
      "==============\n",
      "\n",
      "epoch: 41, var_bool: True\n",
      "==============\n",
      "epoch n°: 42\n",
      "self.dico[self.epoch]: 2.2317490577697754 < self.dico[self.epoch - 1]: 2.245521306991577\n",
      "counter: 0\n",
      "==============\n",
      "\n",
      "epoch: 42, var_bool: True\n",
      "==============\n",
      "epoch n°: 43\n",
      "self.dico[self.epoch]: 2.2208218574523926 < self.dico[self.epoch - 1]: 2.2317490577697754\n",
      "counter: 0\n",
      "==============\n",
      "\n",
      "epoch: 43, var_bool: True\n",
      "==============\n",
      "epoch n°: 44\n",
      "self.dico[self.epoch]: 2.2040069103240967 < self.dico[self.epoch - 1]: 2.2208218574523926\n",
      "counter: 0\n",
      "==============\n",
      "\n",
      "epoch: 44, var_bool: True\n",
      "==============\n",
      "epoch n°: 45\n",
      "self.dico[self.epoch]: 2.188109874725342 < self.dico[self.epoch - 1]: 2.2040069103240967\n",
      "counter: 0\n",
      "==============\n",
      "\n",
      "epoch: 45, var_bool: True\n",
      "==============\n",
      "epoch n°: 46\n",
      "self.dico[self.epoch]: 2.1642889976501465 < self.dico[self.epoch - 1]: 2.188109874725342\n",
      "counter: 0\n",
      "==============\n",
      "\n",
      "epoch: 46, var_bool: True\n",
      "==============\n",
      "epoch n°: 47\n",
      "self.dico[self.epoch]: 2.1398496627807617 < self.dico[self.epoch - 1]: 2.1642889976501465\n",
      "counter: 0\n",
      "==============\n",
      "\n",
      "epoch: 47, var_bool: True\n",
      "==============\n",
      "epoch n°: 48\n",
      "self.dico[self.epoch]: 2.136845350265503 < self.dico[self.epoch - 1]: 2.1398496627807617\n",
      "counter: 0\n",
      "==============\n",
      "\n",
      "epoch: 48, var_bool: True\n",
      "==============\n",
      "epoch n°: 49\n",
      "self.dico[self.epoch]: 2.117626190185547 < self.dico[self.epoch - 1]: 2.136845350265503\n",
      "counter: 0\n",
      "==============\n",
      "\n",
      "epoch: 49, var_bool: True\n",
      "==============\n",
      "epoch n°: 50\n",
      "self.dico[self.epoch]: 2.101844310760498 < self.dico[self.epoch - 1]: 2.117626190185547\n",
      "counter: 0\n",
      "==============\n",
      "\n",
      "epoch: 50, var_bool: True\n",
      "==============\n",
      "epoch n°: 51\n",
      "self.dico[self.epoch]: 2.0804576873779297 < self.dico[self.epoch - 1]: 2.101844310760498\n",
      "counter: 0\n",
      "==============\n",
      "\n",
      "epoch: 51, var_bool: True\n",
      "==============\n",
      "epoch n°: 52\n",
      "self.dico[self.epoch]: 2.0535857677459717 < self.dico[self.epoch - 1]: 2.0804576873779297\n",
      "counter: 0\n",
      "==============\n",
      "\n",
      "epoch: 52, var_bool: True\n",
      "==============\n",
      "epoch n°: 53\n",
      "self.dico[self.epoch]: 2.0323023796081543 < self.dico[self.epoch - 1]: 2.0535857677459717\n",
      "counter: 0\n",
      "==============\n",
      "\n",
      "epoch: 53, var_bool: True\n",
      "==============\n",
      "epoch n°: 54\n",
      "self.dico[self.epoch]: 2.0135393142700195 < self.dico[self.epoch - 1]: 2.0323023796081543\n",
      "counter: 0\n",
      "==============\n",
      "\n",
      "epoch: 54, var_bool: True\n",
      "==============\n",
      "epoch n°: 55\n",
      "self.dico[self.epoch]: 2.001506805419922 < self.dico[self.epoch - 1]: 2.0135393142700195\n",
      "counter: 0\n",
      "==============\n",
      "\n",
      "epoch: 55, var_bool: True\n",
      "==============\n",
      "epoch n°: 56\n",
      "self.dico[self.epoch]: 1.9879934787750244 < self.dico[self.epoch - 1]: 2.001506805419922\n",
      "counter: 0\n",
      "==============\n",
      "\n",
      "epoch: 56, var_bool: True\n",
      "==============\n",
      "epoch n°: 57\n",
      "self.dico[self.epoch]: 1.9825152158737183 < self.dico[self.epoch - 1]: 1.9879934787750244\n",
      "counter: 0\n",
      "==============\n",
      "\n",
      "epoch: 57, var_bool: True\n",
      "==============\n",
      "epoch n°: 58\n",
      "self.dico[self.epoch]: 1.967592716217041 < self.dico[self.epoch - 1]: 1.9825152158737183\n",
      "counter: 0\n",
      "==============\n",
      "\n",
      "epoch: 58, var_bool: True\n",
      "==============\n",
      "epoch n°: 59\n",
      "self.dico[self.epoch]: 1.9443247318267822 < self.dico[self.epoch - 1]: 1.967592716217041\n",
      "counter: 0\n",
      "==============\n",
      "\n",
      "epoch: 59, var_bool: True\n",
      "==============\n",
      "epoch n°: 60\n",
      "self.dico[self.epoch]: 1.9309868812561035 < self.dico[self.epoch - 1]: 1.9443247318267822\n",
      "counter: 0\n",
      "==============\n",
      "\n",
      "epoch: 60, var_bool: True\n",
      "==============\n",
      "epoch n°: 61\n",
      "self.dico[self.epoch]: 1.9306293725967407 < self.dico[self.epoch - 1]: 1.9309868812561035\n",
      "counter: 0\n",
      "==============\n",
      "\n",
      "epoch: 61, var_bool: True\n",
      "==============\n",
      "epoch n°: 62\n",
      "self.dico[self.epoch]: 1.915840983390808 < self.dico[self.epoch - 1]: 1.9306293725967407\n",
      "counter: 0\n",
      "==============\n",
      "\n",
      "epoch: 62, var_bool: True\n",
      "==============\n",
      "epoch n°: 63\n",
      "self.dico[self.epoch]: 1.9060462713241577 < self.dico[self.epoch - 1]: 1.915840983390808\n",
      "counter: 0\n",
      "==============\n",
      "\n",
      "epoch: 63, var_bool: True\n",
      "==============\n",
      "epoch n°: 64\n",
      "self.dico[self.epoch]: 1.8859587907791138 < self.dico[self.epoch - 1]: 1.9060462713241577\n",
      "counter: 0\n",
      "==============\n",
      "\n",
      "epoch: 64, var_bool: True\n",
      "==============\n",
      "epoch n°: 65\n",
      "self.dico[self.epoch]: 1.8711603879928589 < self.dico[self.epoch - 1]: 1.8859587907791138\n",
      "counter: 0\n",
      "==============\n",
      "\n",
      "epoch: 65, var_bool: True\n",
      "==============\n",
      "epoch n°: 66\n",
      "self.dico[self.epoch]: 1.8565713167190552 < self.dico[self.epoch - 1]: 1.8711603879928589\n",
      "counter: 0\n",
      "==============\n",
      "\n",
      "epoch: 66, var_bool: True\n",
      "==============\n",
      "epoch n°: 67\n",
      "self.dico[self.epoch]: 1.8394206762313843 < self.dico[self.epoch - 1]: 1.8565713167190552\n",
      "counter: 0\n",
      "==============\n",
      "\n",
      "epoch: 67, var_bool: True\n",
      "==============\n",
      "epoch n°: 68\n",
      "self.dico[self.epoch]: 1.8194575309753418 < self.dico[self.epoch - 1]: 1.8394206762313843\n",
      "counter: 0\n",
      "==============\n",
      "\n",
      "epoch: 68, var_bool: True\n",
      "==============\n",
      "epoch n°: 69\n",
      "self.dico[self.epoch]: 1.8068182468414307 < self.dico[self.epoch - 1]: 1.8194575309753418\n",
      "counter: 0\n",
      "==============\n",
      "\n",
      "epoch: 69, var_bool: True\n",
      "==============\n",
      "epoch n°: 70\n",
      "self.dico[self.epoch]: 1.803513526916504 < self.dico[self.epoch - 1]: 1.8068182468414307\n",
      "counter: 0\n",
      "==============\n",
      "\n",
      "epoch: 70, var_bool: True\n",
      "==============\n",
      "epoch n°: 71\n",
      "self.dico[self.epoch]: 1.7973277568817139 < self.dico[self.epoch - 1]: 1.803513526916504\n",
      "counter: 0\n",
      "==============\n",
      "\n",
      "epoch: 71, var_bool: True\n",
      "==============\n",
      "epoch n°: 72\n",
      "self.dico[self.epoch]: 1.783896803855896 < self.dico[self.epoch - 1]: 1.7973277568817139\n",
      "counter: 0\n",
      "==============\n",
      "\n",
      "epoch: 72, var_bool: True\n",
      "==============\n",
      "epoch n°: 73\n",
      "self.dico[self.epoch]: 1.7664875984191895 < self.dico[self.epoch - 1]: 1.783896803855896\n",
      "counter: 0\n",
      "==============\n",
      "\n",
      "epoch: 73, var_bool: True\n",
      "==============\n",
      "epoch n°: 74\n",
      "self.dico[self.epoch]: 1.7506059408187866 < self.dico[self.epoch - 1]: 1.7664875984191895\n",
      "counter: 0\n",
      "==============\n",
      "\n",
      "epoch: 74, var_bool: True\n",
      "==============\n",
      "epoch n°: 75\n",
      "self.dico[self.epoch]: 1.7367802858352661 < self.dico[self.epoch - 1]: 1.7506059408187866\n",
      "counter: 0\n",
      "==============\n",
      "\n",
      "epoch: 75, var_bool: True\n",
      "==============\n",
      "epoch n°: 76\n",
      "self.dico[self.epoch]: 1.7288535833358765 < self.dico[self.epoch - 1]: 1.7367802858352661\n",
      "counter: 0\n",
      "==============\n",
      "\n",
      "epoch: 76, var_bool: True\n",
      "==============\n",
      "epoch n°: 77\n",
      "self.dico[self.epoch]: 1.7138798236846924 < self.dico[self.epoch - 1]: 1.7288535833358765\n",
      "counter: 0\n",
      "==============\n",
      "\n",
      "epoch: 77, var_bool: True\n",
      "==============\n",
      "epoch n°: 78\n",
      "self.dico[self.epoch]: 1.700671911239624 < self.dico[self.epoch - 1]: 1.7138798236846924\n",
      "counter: 0\n",
      "==============\n",
      "\n",
      "epoch: 78, var_bool: True\n",
      "==============\n",
      "epoch n°: 79\n",
      "self.dico[self.epoch]: 1.6966755390167236 < self.dico[self.epoch - 1]: 1.700671911239624\n",
      "counter: 0\n",
      "==============\n",
      "\n",
      "epoch: 79, var_bool: True\n",
      "==============\n",
      "epoch n°: 80\n",
      "self.dico[self.epoch]: 1.6881463527679443 < self.dico[self.epoch - 1]: 1.6966755390167236\n",
      "counter: 0\n",
      "==============\n",
      "\n",
      "epoch: 80, var_bool: True\n",
      "==============\n",
      "epoch n°: 81\n",
      "self.dico[self.epoch]: 1.6756337881088257 < self.dico[self.epoch - 1]: 1.6881463527679443\n",
      "counter: 0\n",
      "==============\n",
      "\n",
      "epoch: 81, var_bool: True\n",
      "==============\n",
      "epoch n°: 82\n",
      "self.dico[self.epoch]: 1.6642367839813232 < self.dico[self.epoch - 1]: 1.6756337881088257\n",
      "counter: 0\n",
      "==============\n",
      "\n",
      "epoch: 82, var_bool: True\n",
      "==============\n",
      "epoch n°: 83\n",
      "self.dico[self.epoch]: 1.6601063013076782 < self.dico[self.epoch - 1]: 1.6642367839813232\n",
      "counter: 0\n",
      "==============\n",
      "\n",
      "epoch: 83, var_bool: True\n",
      "==============\n",
      "epoch n°: 84\n",
      "self.dico[self.epoch]: 1.6527704000473022 < self.dico[self.epoch - 1]: 1.6601063013076782\n",
      "counter: 0\n",
      "==============\n",
      "\n",
      "epoch: 84, var_bool: True\n",
      "==============\n",
      "epoch n°: 85\n",
      "self.dico[self.epoch]: 1.6441562175750732 < self.dico[self.epoch - 1]: 1.6527704000473022\n",
      "counter: 0\n",
      "==============\n",
      "\n",
      "epoch: 85, var_bool: True\n",
      "==============\n",
      "epoch n°: 86\n",
      "self.dico[self.epoch]: 1.6329128742218018 < self.dico[self.epoch - 1]: 1.6441562175750732\n",
      "counter: 0\n",
      "==============\n",
      "\n",
      "epoch: 86, var_bool: True\n",
      "==============\n",
      "epoch n°: 87\n",
      "self.dico[self.epoch]: 1.6275745630264282 < self.dico[self.epoch - 1]: 1.6329128742218018\n",
      "counter: 0\n",
      "==============\n",
      "\n",
      "epoch: 87, var_bool: True\n",
      "==============\n",
      "epoch n°: 88\n",
      "self.dico[self.epoch]: 1.619351863861084 < self.dico[self.epoch - 1]: 1.6275745630264282\n",
      "counter: 0\n",
      "==============\n",
      "\n",
      "epoch: 88, var_bool: True\n",
      "==============\n",
      "epoch n°: 89\n",
      "self.dico[self.epoch]: 1.6058541536331177 < self.dico[self.epoch - 1]: 1.619351863861084\n",
      "counter: 0\n",
      "==============\n",
      "\n",
      "epoch: 89, var_bool: True\n",
      "==============\n",
      "epoch n°: 90\n",
      "self.dico[self.epoch]: 1.5967930555343628 < self.dico[self.epoch - 1]: 1.6058541536331177\n",
      "counter: 0\n",
      "==============\n",
      "\n",
      "epoch: 90, var_bool: True\n",
      "==============\n",
      "epoch n°: 91\n",
      "self.dico[self.epoch]: 1.5847612619400024 < self.dico[self.epoch - 1]: 1.5967930555343628\n",
      "counter: 0\n",
      "==============\n",
      "\n",
      "epoch: 91, var_bool: True\n",
      "==============\n",
      "epoch n°: 92\n",
      "self.dico[self.epoch]: 1.5734138488769531 < self.dico[self.epoch - 1]: 1.5847612619400024\n",
      "counter: 0\n",
      "==============\n",
      "\n",
      "epoch: 92, var_bool: True\n",
      "==============\n",
      "epoch n°: 93\n",
      "self.dico[self.epoch]: 1.5776503086090088 >= self.dico[self.epoch - 1]: 1.5734138488769531\n",
      "counter: 1\n",
      "==============\n",
      "\n",
      "epoch: 93, var_bool: True\n",
      "==============\n",
      "epoch n°: 94\n",
      "self.dico[self.epoch]: 1.578621745109558 >= self.dico[self.epoch - 1]: 1.5776503086090088\n",
      "counter: 2\n",
      "==============\n",
      "\n",
      "epoch: 94, var_bool: True\n",
      "==============\n",
      "epoch n°: 95\n",
      "self.dico[self.epoch]: 1.5730997323989868 < self.dico[self.epoch - 1]: 1.578621745109558\n",
      "counter: 0\n",
      "==============\n",
      "\n",
      "epoch: 95, var_bool: True\n",
      "==============\n",
      "epoch n°: 96\n",
      "self.dico[self.epoch]: 1.568579077720642 < self.dico[self.epoch - 1]: 1.5730997323989868\n",
      "counter: 0\n",
      "==============\n",
      "\n",
      "epoch: 96, var_bool: True\n",
      "==============\n",
      "epoch n°: 97\n",
      "self.dico[self.epoch]: 1.5626250505447388 < self.dico[self.epoch - 1]: 1.568579077720642\n",
      "counter: 0\n",
      "==============\n",
      "\n",
      "epoch: 97, var_bool: True\n",
      "==============\n",
      "epoch n°: 98\n",
      "self.dico[self.epoch]: 1.5556752681732178 < self.dico[self.epoch - 1]: 1.5626250505447388\n",
      "counter: 0\n",
      "==============\n",
      "\n",
      "epoch: 98, var_bool: True\n",
      "==============\n",
      "epoch n°: 99\n",
      "self.dico[self.epoch]: 1.558153510093689 >= self.dico[self.epoch - 1]: 1.5556752681732178\n",
      "counter: 1\n",
      "==============\n",
      "\n",
      "epoch: 99, var_bool: True\n",
      "==============\n",
      "epoch n°: 100\n",
      "self.dico[self.epoch]: 1.5540673732757568 < self.dico[self.epoch - 1]: 1.558153510093689\n",
      "counter: 0\n",
      "==============\n",
      "\n",
      "epoch: 100, var_bool: True\n",
      "==============\n",
      "epoch n°: 101\n",
      "self.dico[self.epoch]: 1.5532265901565552 < self.dico[self.epoch - 1]: 1.5540673732757568\n",
      "counter: 0\n",
      "==============\n",
      "\n",
      "epoch: 101, var_bool: True\n",
      "==============\n",
      "epoch n°: 102\n",
      "self.dico[self.epoch]: 1.5496313571929932 < self.dico[self.epoch - 1]: 1.5532265901565552\n",
      "counter: 0\n",
      "==============\n",
      "\n",
      "epoch: 102, var_bool: True\n",
      "==============\n",
      "epoch n°: 103\n",
      "self.dico[self.epoch]: 1.544264793395996 < self.dico[self.epoch - 1]: 1.5496313571929932\n",
      "counter: 0\n",
      "==============\n",
      "\n",
      "epoch: 103, var_bool: True\n",
      "==============\n",
      "epoch n°: 104\n",
      "self.dico[self.epoch]: 1.5370169878005981 < self.dico[self.epoch - 1]: 1.544264793395996\n",
      "counter: 0\n",
      "==============\n",
      "\n",
      "epoch: 104, var_bool: True\n",
      "==============\n",
      "epoch n°: 105\n",
      "self.dico[self.epoch]: 1.5310487747192383 < self.dico[self.epoch - 1]: 1.5370169878005981\n",
      "counter: 0\n",
      "==============\n",
      "\n",
      "epoch: 105, var_bool: True\n",
      "==============\n",
      "epoch n°: 106\n",
      "self.dico[self.epoch]: 1.5248687267303467 < self.dico[self.epoch - 1]: 1.5310487747192383\n",
      "counter: 0\n",
      "==============\n",
      "\n",
      "epoch: 106, var_bool: True\n",
      "==============\n",
      "epoch n°: 107\n",
      "self.dico[self.epoch]: 1.5224249362945557 < self.dico[self.epoch - 1]: 1.5248687267303467\n",
      "counter: 0\n",
      "==============\n",
      "\n",
      "epoch: 107, var_bool: True\n",
      "==============\n",
      "epoch n°: 108\n",
      "self.dico[self.epoch]: 1.515854835510254 < self.dico[self.epoch - 1]: 1.5224249362945557\n",
      "counter: 0\n",
      "==============\n",
      "\n",
      "epoch: 108, var_bool: True\n",
      "==============\n",
      "epoch n°: 109\n",
      "self.dico[self.epoch]: 1.5083781480789185 < self.dico[self.epoch - 1]: 1.515854835510254\n",
      "counter: 0\n",
      "==============\n",
      "\n",
      "epoch: 109, var_bool: True\n",
      "==============\n",
      "epoch n°: 110\n",
      "self.dico[self.epoch]: 1.5121530294418335 >= self.dico[self.epoch - 1]: 1.5083781480789185\n",
      "counter: 1\n",
      "==============\n",
      "\n",
      "epoch: 110, var_bool: True\n",
      "==============\n",
      "epoch n°: 111\n",
      "self.dico[self.epoch]: 1.5054211616516113 < self.dico[self.epoch - 1]: 1.5121530294418335\n",
      "counter: 0\n",
      "==============\n",
      "\n",
      "epoch: 111, var_bool: True\n",
      "==============\n",
      "epoch n°: 112\n",
      "self.dico[self.epoch]: 1.5009034872055054 < self.dico[self.epoch - 1]: 1.5054211616516113\n",
      "counter: 0\n",
      "==============\n",
      "\n",
      "epoch: 112, var_bool: True\n",
      "==============\n",
      "epoch n°: 113\n",
      "self.dico[self.epoch]: 1.4973900318145752 < self.dico[self.epoch - 1]: 1.5009034872055054\n",
      "counter: 0\n",
      "==============\n",
      "\n",
      "epoch: 113, var_bool: True\n",
      "==============\n",
      "epoch n°: 114\n",
      "self.dico[self.epoch]: 1.4934403896331787 < self.dico[self.epoch - 1]: 1.4973900318145752\n",
      "counter: 0\n",
      "==============\n",
      "\n",
      "epoch: 114, var_bool: True\n",
      "==============\n",
      "epoch n°: 115\n",
      "self.dico[self.epoch]: 1.4900145530700684 < self.dico[self.epoch - 1]: 1.4934403896331787\n",
      "counter: 0\n",
      "==============\n",
      "\n",
      "epoch: 115, var_bool: True\n",
      "==============\n",
      "epoch n°: 116\n",
      "self.dico[self.epoch]: 1.489240050315857 < self.dico[self.epoch - 1]: 1.4900145530700684\n",
      "counter: 0\n",
      "==============\n",
      "\n",
      "epoch: 116, var_bool: True\n",
      "==============\n",
      "epoch n°: 117\n",
      "self.dico[self.epoch]: 1.485392689704895 < self.dico[self.epoch - 1]: 1.489240050315857\n",
      "counter: 0\n",
      "==============\n",
      "\n",
      "epoch: 117, var_bool: True\n",
      "==============\n",
      "epoch n°: 118\n",
      "self.dico[self.epoch]: 1.4798442125320435 < self.dico[self.epoch - 1]: 1.485392689704895\n",
      "counter: 0\n",
      "==============\n",
      "\n",
      "epoch: 118, var_bool: True\n",
      "==============\n",
      "epoch n°: 119\n",
      "self.dico[self.epoch]: 1.4753105640411377 < self.dico[self.epoch - 1]: 1.4798442125320435\n",
      "counter: 0\n",
      "==============\n",
      "\n",
      "epoch: 119, var_bool: True\n",
      "==============\n",
      "epoch n°: 120\n",
      "self.dico[self.epoch]: 1.473366379737854 < self.dico[self.epoch - 1]: 1.4753105640411377\n",
      "counter: 0\n",
      "==============\n",
      "\n",
      "epoch: 120, var_bool: True\n",
      "==============\n",
      "epoch n°: 121\n",
      "self.dico[self.epoch]: 1.4699958562850952 < self.dico[self.epoch - 1]: 1.473366379737854\n",
      "counter: 0\n",
      "==============\n",
      "\n",
      "epoch: 121, var_bool: True\n",
      "==============\n",
      "epoch n°: 122\n",
      "self.dico[self.epoch]: 1.4704633951187134 >= self.dico[self.epoch - 1]: 1.4699958562850952\n",
      "counter: 1\n",
      "==============\n",
      "\n",
      "epoch: 122, var_bool: True\n",
      "==============\n",
      "epoch n°: 123\n",
      "self.dico[self.epoch]: 1.4677972793579102 < self.dico[self.epoch - 1]: 1.4704633951187134\n",
      "counter: 0\n",
      "==============\n",
      "\n",
      "epoch: 123, var_bool: True\n",
      "==============\n",
      "epoch n°: 124\n",
      "self.dico[self.epoch]: 1.4639605283737183 < self.dico[self.epoch - 1]: 1.4677972793579102\n",
      "counter: 0\n",
      "==============\n",
      "\n",
      "epoch: 124, var_bool: True\n",
      "==============\n",
      "epoch n°: 125\n",
      "self.dico[self.epoch]: 1.4635833501815796 < self.dico[self.epoch - 1]: 1.4639605283737183\n",
      "counter: 0\n",
      "==============\n",
      "\n",
      "epoch: 125, var_bool: True\n",
      "==============\n",
      "epoch n°: 126\n",
      "self.dico[self.epoch]: 1.4574947357177734 < self.dico[self.epoch - 1]: 1.4635833501815796\n",
      "counter: 0\n",
      "==============\n",
      "\n",
      "epoch: 126, var_bool: True\n",
      "==============\n",
      "epoch n°: 127\n",
      "self.dico[self.epoch]: 1.4547239542007446 < self.dico[self.epoch - 1]: 1.4574947357177734\n",
      "counter: 0\n",
      "==============\n",
      "\n",
      "epoch: 127, var_bool: True\n",
      "==============\n",
      "epoch n°: 128\n",
      "self.dico[self.epoch]: 1.4535717964172363 < self.dico[self.epoch - 1]: 1.4547239542007446\n",
      "counter: 0\n",
      "==============\n",
      "\n",
      "epoch: 128, var_bool: True\n",
      "==============\n",
      "epoch n°: 129\n",
      "self.dico[self.epoch]: 1.455108404159546 >= self.dico[self.epoch - 1]: 1.4535717964172363\n",
      "counter: 1\n",
      "==============\n",
      "\n",
      "epoch: 129, var_bool: True\n",
      "==============\n",
      "epoch n°: 130\n",
      "self.dico[self.epoch]: 1.4539722204208374 < self.dico[self.epoch - 1]: 1.455108404159546\n",
      "counter: 0\n",
      "==============\n",
      "\n",
      "epoch: 130, var_bool: True\n",
      "==============\n",
      "epoch n°: 131\n",
      "self.dico[self.epoch]: 1.4524121284484863 < self.dico[self.epoch - 1]: 1.4539722204208374\n",
      "counter: 0\n",
      "==============\n",
      "\n",
      "epoch: 131, var_bool: True\n",
      "==============\n",
      "epoch n°: 132\n",
      "self.dico[self.epoch]: 1.4495172500610352 < self.dico[self.epoch - 1]: 1.4524121284484863\n",
      "counter: 0\n",
      "==============\n",
      "\n",
      "epoch: 132, var_bool: True\n",
      "==============\n",
      "epoch n°: 133\n",
      "self.dico[self.epoch]: 1.4476124048233032 < self.dico[self.epoch - 1]: 1.4495172500610352\n",
      "counter: 0\n",
      "==============\n",
      "\n",
      "epoch: 133, var_bool: True\n",
      "==============\n",
      "epoch n°: 134\n",
      "self.dico[self.epoch]: 1.4409843683242798 < self.dico[self.epoch - 1]: 1.4476124048233032\n",
      "counter: 0\n",
      "==============\n",
      "\n",
      "epoch: 134, var_bool: True\n",
      "==============\n",
      "epoch n°: 135\n",
      "self.dico[self.epoch]: 1.4336851835250854 < self.dico[self.epoch - 1]: 1.4409843683242798\n",
      "counter: 0\n",
      "==============\n",
      "\n",
      "epoch: 135, var_bool: True\n",
      "==============\n",
      "epoch n°: 136\n",
      "self.dico[self.epoch]: 1.4274463653564453 < self.dico[self.epoch - 1]: 1.4336851835250854\n",
      "counter: 0\n",
      "==============\n",
      "\n",
      "epoch: 136, var_bool: True\n",
      "==============\n",
      "epoch n°: 137\n",
      "self.dico[self.epoch]: 1.4201767444610596 < self.dico[self.epoch - 1]: 1.4274463653564453\n",
      "counter: 0\n",
      "==============\n",
      "\n",
      "epoch: 137, var_bool: True\n",
      "==============\n",
      "epoch n°: 138\n",
      "self.dico[self.epoch]: 1.4126057624816895 < self.dico[self.epoch - 1]: 1.4201767444610596\n",
      "counter: 0\n",
      "==============\n",
      "\n",
      "epoch: 138, var_bool: True\n",
      "==============\n",
      "epoch n°: 139\n",
      "self.dico[self.epoch]: 1.4071601629257202 < self.dico[self.epoch - 1]: 1.4126057624816895\n",
      "counter: 0\n",
      "==============\n",
      "\n",
      "epoch: 139, var_bool: True\n",
      "==============\n",
      "epoch n°: 140\n",
      "self.dico[self.epoch]: 1.403704285621643 < self.dico[self.epoch - 1]: 1.4071601629257202\n",
      "counter: 0\n",
      "==============\n",
      "\n",
      "epoch: 140, var_bool: True\n",
      "==============\n",
      "epoch n°: 141\n",
      "self.dico[self.epoch]: 1.399640679359436 < self.dico[self.epoch - 1]: 1.403704285621643\n",
      "counter: 0\n",
      "==============\n",
      "\n",
      "epoch: 141, var_bool: True\n",
      "==============\n",
      "epoch n°: 142\n",
      "self.dico[self.epoch]: 1.3976880311965942 < self.dico[self.epoch - 1]: 1.399640679359436\n",
      "counter: 0\n",
      "==============\n",
      "\n",
      "epoch: 142, var_bool: True\n",
      "==============\n",
      "epoch n°: 143\n",
      "self.dico[self.epoch]: 1.3933619260787964 < self.dico[self.epoch - 1]: 1.3976880311965942\n",
      "counter: 0\n",
      "==============\n",
      "\n",
      "epoch: 143, var_bool: True\n",
      "==============\n",
      "epoch n°: 144\n",
      "self.dico[self.epoch]: 1.3909047842025757 < self.dico[self.epoch - 1]: 1.3933619260787964\n",
      "counter: 0\n",
      "==============\n",
      "\n",
      "epoch: 144, var_bool: True\n",
      "==============\n",
      "epoch n°: 145\n",
      "self.dico[self.epoch]: 1.3886879682540894 < self.dico[self.epoch - 1]: 1.3909047842025757\n",
      "counter: 0\n",
      "==============\n",
      "\n",
      "epoch: 145, var_bool: True\n",
      "==============\n",
      "epoch n°: 146\n",
      "self.dico[self.epoch]: 1.3842962980270386 < self.dico[self.epoch - 1]: 1.3886879682540894\n",
      "counter: 0\n",
      "==============\n",
      "\n",
      "epoch: 146, var_bool: True\n",
      "==============\n",
      "epoch n°: 147\n",
      "self.dico[self.epoch]: 1.383815050125122 < self.dico[self.epoch - 1]: 1.3842962980270386\n",
      "counter: 0\n",
      "==============\n",
      "\n",
      "epoch: 147, var_bool: True\n",
      "==============\n",
      "epoch n°: 148\n",
      "self.dico[self.epoch]: 1.3831257820129395 < self.dico[self.epoch - 1]: 1.383815050125122\n",
      "counter: 0\n",
      "==============\n",
      "\n",
      "epoch: 148, var_bool: True\n",
      "==============\n",
      "epoch n°: 149\n",
      "self.dico[self.epoch]: 1.3790054321289062 < self.dico[self.epoch - 1]: 1.3831257820129395\n",
      "counter: 0\n",
      "==============\n",
      "\n",
      "epoch: 149, var_bool: True\n",
      "==============\n",
      "epoch n°: 150\n",
      "self.dico[self.epoch]: 1.3766604661941528 < self.dico[self.epoch - 1]: 1.3790054321289062\n",
      "counter: 0\n",
      "==============\n",
      "\n",
      "epoch: 150, var_bool: True\n",
      "==============\n",
      "epoch n°: 151\n",
      "self.dico[self.epoch]: 1.376806378364563 >= self.dico[self.epoch - 1]: 1.3766604661941528\n",
      "counter: 1\n",
      "==============\n",
      "\n",
      "epoch: 151, var_bool: True\n",
      "==============\n",
      "epoch n°: 152\n",
      "self.dico[self.epoch]: 1.3726344108581543 < self.dico[self.epoch - 1]: 1.376806378364563\n",
      "counter: 0\n",
      "==============\n",
      "\n",
      "epoch: 152, var_bool: True\n",
      "==============\n",
      "epoch n°: 153\n",
      "self.dico[self.epoch]: 1.3700581789016724 < self.dico[self.epoch - 1]: 1.3726344108581543\n",
      "counter: 0\n",
      "==============\n",
      "\n",
      "epoch: 153, var_bool: True\n",
      "==============\n",
      "epoch n°: 154\n",
      "self.dico[self.epoch]: 1.3675570487976074 < self.dico[self.epoch - 1]: 1.3700581789016724\n",
      "counter: 0\n",
      "==============\n",
      "\n",
      "epoch: 154, var_bool: True\n",
      "==============\n",
      "epoch n°: 155\n",
      "self.dico[self.epoch]: 1.3739567995071411 >= self.dico[self.epoch - 1]: 1.3675570487976074\n",
      "counter: 1\n",
      "==============\n",
      "\n",
      "epoch: 155, var_bool: True\n",
      "==============\n",
      "epoch n°: 156\n",
      "self.dico[self.epoch]: 1.375129222869873 >= self.dico[self.epoch - 1]: 1.3739567995071411\n",
      "counter: 2\n",
      "==============\n",
      "\n",
      "epoch: 156, var_bool: True\n",
      "==============\n",
      "epoch n°: 157\n",
      "self.dico[self.epoch]: 1.378897786140442 >= self.dico[self.epoch - 1]: 1.375129222869873\n",
      "counter: 3\n",
      "==============\n",
      "\n",
      "epoch: 157, var_bool: True\n",
      "==============\n",
      "epoch n°: 158\n",
      "self.dico[self.epoch]: 1.3748973608016968 < self.dico[self.epoch - 1]: 1.378897786140442\n",
      "counter: 0\n",
      "==============\n",
      "\n",
      "epoch: 158, var_bool: True\n",
      "==============\n",
      "epoch n°: 159\n",
      "self.dico[self.epoch]: 1.3752189874649048 >= self.dico[self.epoch - 1]: 1.3748973608016968\n",
      "counter: 1\n",
      "==============\n",
      "\n",
      "epoch: 159, var_bool: True\n",
      "==============\n",
      "epoch n°: 160\n",
      "self.dico[self.epoch]: 1.3736852407455444 < self.dico[self.epoch - 1]: 1.3752189874649048\n",
      "counter: 0\n",
      "==============\n",
      "\n",
      "epoch: 160, var_bool: True\n",
      "==============\n",
      "epoch n°: 161\n",
      "self.dico[self.epoch]: 1.37277352809906 < self.dico[self.epoch - 1]: 1.3736852407455444\n",
      "counter: 0\n",
      "==============\n",
      "\n",
      "epoch: 161, var_bool: True\n",
      "==============\n",
      "epoch n°: 162\n",
      "self.dico[self.epoch]: 1.3686789274215698 < self.dico[self.epoch - 1]: 1.37277352809906\n",
      "counter: 0\n",
      "==============\n",
      "\n",
      "epoch: 162, var_bool: True\n",
      "==============\n",
      "epoch n°: 163\n",
      "self.dico[self.epoch]: 1.3686729669570923 < self.dico[self.epoch - 1]: 1.3686789274215698\n",
      "counter: 0\n",
      "==============\n",
      "\n",
      "epoch: 163, var_bool: True\n",
      "==============\n",
      "epoch n°: 164\n",
      "self.dico[self.epoch]: 1.366207242012024 < self.dico[self.epoch - 1]: 1.3686729669570923\n",
      "counter: 0\n",
      "==============\n",
      "\n",
      "epoch: 164, var_bool: True\n",
      "==============\n",
      "epoch n°: 165\n",
      "self.dico[self.epoch]: 1.3652429580688477 < self.dico[self.epoch - 1]: 1.366207242012024\n",
      "counter: 0\n",
      "==============\n",
      "\n",
      "epoch: 165, var_bool: True\n",
      "==============\n",
      "epoch n°: 166\n",
      "self.dico[self.epoch]: 1.3620144128799438 < self.dico[self.epoch - 1]: 1.3652429580688477\n",
      "counter: 0\n",
      "==============\n",
      "\n",
      "epoch: 166, var_bool: True\n",
      "==============\n",
      "epoch n°: 167\n",
      "self.dico[self.epoch]: 1.3605281114578247 < self.dico[self.epoch - 1]: 1.3620144128799438\n",
      "counter: 0\n",
      "==============\n",
      "\n",
      "epoch: 167, var_bool: True\n",
      "==============\n",
      "epoch n°: 168\n",
      "self.dico[self.epoch]: 1.3577698469161987 < self.dico[self.epoch - 1]: 1.3605281114578247\n",
      "counter: 0\n",
      "==============\n",
      "\n",
      "epoch: 168, var_bool: True\n",
      "==============\n",
      "epoch n°: 169\n",
      "self.dico[self.epoch]: 1.3546913862228394 < self.dico[self.epoch - 1]: 1.3577698469161987\n",
      "counter: 0\n",
      "==============\n",
      "\n",
      "epoch: 169, var_bool: True\n",
      "==============\n",
      "epoch n°: 170\n",
      "self.dico[self.epoch]: 1.3554798364639282 >= self.dico[self.epoch - 1]: 1.3546913862228394\n",
      "counter: 1\n",
      "==============\n",
      "\n",
      "epoch: 170, var_bool: True\n",
      "==============\n",
      "epoch n°: 171\n",
      "self.dico[self.epoch]: 1.3550810813903809 < self.dico[self.epoch - 1]: 1.3554798364639282\n",
      "counter: 0\n",
      "==============\n",
      "\n",
      "epoch: 171, var_bool: True\n",
      "==============\n",
      "epoch n°: 172\n",
      "self.dico[self.epoch]: 1.355948567390442 >= self.dico[self.epoch - 1]: 1.3550810813903809\n",
      "counter: 1\n",
      "==============\n",
      "\n",
      "epoch: 172, var_bool: True\n",
      "==============\n",
      "epoch n°: 173\n",
      "self.dico[self.epoch]: 1.3521240949630737 < self.dico[self.epoch - 1]: 1.355948567390442\n",
      "counter: 0\n",
      "==============\n",
      "\n",
      "epoch: 173, var_bool: True\n",
      "==============\n",
      "epoch n°: 174\n",
      "self.dico[self.epoch]: 1.3496549129486084 < self.dico[self.epoch - 1]: 1.3521240949630737\n",
      "counter: 0\n",
      "==============\n",
      "\n",
      "epoch: 174, var_bool: True\n",
      "==============\n",
      "epoch n°: 175\n",
      "self.dico[self.epoch]: 1.3490991592407227 < self.dico[self.epoch - 1]: 1.3496549129486084\n",
      "counter: 0\n",
      "==============\n",
      "\n",
      "epoch: 175, var_bool: True\n",
      "==============\n",
      "epoch n°: 176\n",
      "self.dico[self.epoch]: 1.3525956869125366 >= self.dico[self.epoch - 1]: 1.3490991592407227\n",
      "counter: 1\n",
      "==============\n",
      "\n",
      "epoch: 176, var_bool: True\n",
      "==============\n",
      "epoch n°: 177\n",
      "self.dico[self.epoch]: 1.3524258136749268 < self.dico[self.epoch - 1]: 1.3525956869125366\n",
      "counter: 0\n",
      "==============\n",
      "\n",
      "epoch: 177, var_bool: True\n",
      "==============\n",
      "epoch n°: 178\n",
      "self.dico[self.epoch]: 1.3532885313034058 >= self.dico[self.epoch - 1]: 1.3524258136749268\n",
      "counter: 1\n",
      "==============\n",
      "\n",
      "epoch: 178, var_bool: True\n",
      "==============\n",
      "epoch n°: 179\n",
      "self.dico[self.epoch]: 1.3520786762237549 < self.dico[self.epoch - 1]: 1.3532885313034058\n",
      "counter: 0\n",
      "==============\n",
      "\n",
      "epoch: 179, var_bool: True\n",
      "==============\n",
      "epoch n°: 180\n",
      "self.dico[self.epoch]: 1.3530315160751343 >= self.dico[self.epoch - 1]: 1.3520786762237549\n",
      "counter: 1\n",
      "==============\n",
      "\n",
      "epoch: 180, var_bool: True\n",
      "==============\n",
      "epoch n°: 181\n",
      "self.dico[self.epoch]: 1.3529431819915771 < self.dico[self.epoch - 1]: 1.3530315160751343\n",
      "counter: 0\n",
      "==============\n",
      "\n",
      "epoch: 181, var_bool: True\n",
      "==============\n",
      "epoch n°: 182\n",
      "self.dico[self.epoch]: 1.3510066270828247 < self.dico[self.epoch - 1]: 1.3529431819915771\n",
      "counter: 0\n",
      "==============\n",
      "\n",
      "epoch: 182, var_bool: True\n",
      "==============\n",
      "epoch n°: 183\n",
      "self.dico[self.epoch]: 1.347702145576477 < self.dico[self.epoch - 1]: 1.3510066270828247\n",
      "counter: 0\n",
      "==============\n",
      "\n",
      "epoch: 183, var_bool: True\n",
      "==============\n",
      "epoch n°: 184\n",
      "self.dico[self.epoch]: 1.3509290218353271 >= self.dico[self.epoch - 1]: 1.347702145576477\n",
      "counter: 1\n",
      "==============\n",
      "\n",
      "epoch: 184, var_bool: True\n",
      "==============\n",
      "epoch n°: 185\n",
      "self.dico[self.epoch]: 1.3504048585891724 < self.dico[self.epoch - 1]: 1.3509290218353271\n",
      "counter: 0\n",
      "==============\n",
      "\n",
      "epoch: 185, var_bool: True\n",
      "==============\n",
      "epoch n°: 186\n",
      "self.dico[self.epoch]: 1.3496677875518799 < self.dico[self.epoch - 1]: 1.3504048585891724\n",
      "counter: 0\n",
      "==============\n",
      "\n",
      "epoch: 186, var_bool: True\n",
      "==============\n",
      "epoch n°: 187\n",
      "self.dico[self.epoch]: 1.3484350442886353 < self.dico[self.epoch - 1]: 1.3496677875518799\n",
      "counter: 0\n",
      "==============\n",
      "\n",
      "epoch: 187, var_bool: True\n",
      "==============\n",
      "epoch n°: 188\n",
      "self.dico[self.epoch]: 1.3485569953918457 >= self.dico[self.epoch - 1]: 1.3484350442886353\n",
      "counter: 1\n",
      "==============\n",
      "\n",
      "epoch: 188, var_bool: True\n",
      "==============\n",
      "epoch n°: 189\n",
      "self.dico[self.epoch]: 1.3464336395263672 < self.dico[self.epoch - 1]: 1.3485569953918457\n",
      "counter: 0\n",
      "==============\n",
      "\n",
      "epoch: 189, var_bool: True\n",
      "==============\n",
      "epoch n°: 190\n",
      "self.dico[self.epoch]: 1.3498201370239258 >= self.dico[self.epoch - 1]: 1.3464336395263672\n",
      "counter: 1\n",
      "==============\n",
      "\n",
      "epoch: 190, var_bool: True\n",
      "==============\n",
      "epoch n°: 191\n",
      "self.dico[self.epoch]: 1.349845051765442 >= self.dico[self.epoch - 1]: 1.3498201370239258\n",
      "counter: 2\n",
      "==============\n",
      "\n",
      "epoch: 191, var_bool: True\n",
      "==============\n",
      "epoch n°: 192\n",
      "self.dico[self.epoch]: 1.3503515720367432 >= self.dico[self.epoch - 1]: 1.349845051765442\n",
      "counter: 3\n",
      "==============\n",
      "\n",
      "epoch: 192, var_bool: True\n",
      "==============\n",
      "epoch n°: 193\n",
      "self.dico[self.epoch]: 1.351728916168213 >= self.dico[self.epoch - 1]: 1.3503515720367432\n",
      "counter: 4\n",
      "==============\n",
      "\n",
      "epoch: 193, var_bool: True\n",
      "==============\n",
      "epoch n°: 194\n",
      "self.dico[self.epoch]: 1.3560975790023804 >= self.dico[self.epoch - 1]: 1.351728916168213\n",
      "counter: 5\n",
      "==============\n",
      "\n",
      "epoch: 194, var_bool: True\n",
      "==============\n",
      "epoch n°: 195\n",
      "self.dico[self.epoch]: 1.3595478534698486 >= self.dico[self.epoch - 1]: 1.3560975790023804\n",
      "counter: 6\n",
      "==============\n",
      "\n",
      "fin sur epoch n°: 195\n",
      "epoch: 195, var_bool: False\n"
     ]
    }
   ],
   "source": [
    "l_train = []\n",
    "l_test = []\n",
    "d_train = {}\n",
    "d_test = {}\n",
    "\n",
    "nb_loop = 0\n",
    "\n",
    "l_y = []\n",
    "l_y_pred = []\n",
    "\n",
    "l_mean_y = []\n",
    "l_mean_y_pred = []\n",
    "\n",
    "path = '/Users/olivierdebeyssac/Python_LSTM/best_model.pt'\n",
    "\n",
    "for epoch in range(n_epochs):\n",
    "    model.train()\n",
    "    for X, y in zip(X_train, y_train):\n",
    "        nb_loop = nb_loop + 1\n",
    "        y_pred = model(X)\n",
    "\n",
    "        if nb_loop < 2:\n",
    "            #print('nb_loop: {}'.format(nb_loop))\n",
    "            y = np.reshape(y, (1, 1))\n",
    "\n",
    "\n",
    "            print('===========')\n",
    "            print('nb_loop: {}'.format(nb_loop))\n",
    "            print('X.shape: {}'.format(X.shape))        \n",
    "            print('y_pred.shape: {}, y: {}'.format(y_pred.shape, y.shape))\n",
    "            print('===========')\n",
    "        \n",
    "        loss_train = loss_fn (y_pred, y)\n",
    "        l_train.append(loss_train.detach().numpy())\n",
    "        \n",
    "        optimizer.zero_grad()\n",
    "        loss_train.backward()\n",
    "        optimizer.step()\n",
    "    d_train[epoch] = np.mean(l_train)\n",
    "    \n",
    "\n",
    "\n",
    "    # Pour chaque batch on save la valeur moyenne de l'erreur dans une liste.\n",
    "    # En fin d'epoch, on a stocké toutes les valeurs de loss correspondantes aux batchs.\n",
    "    # On va donc pouvoir comparer des valeurs moyennes entre elles.\n",
    "    # Si un modèle fonctionne bien, ca veut dire qu'il produit des erreurs relativement faibles\n",
    "    # quelque soit le batch, et un modèle qui fonctionne moins bien aura quelques valeurs d'ereur\n",
    "    # plus élevées et donc une moyenne lègèrement plus élévée.\n",
    "    # Il est tout à fait possible que dans ce modèle qui fonctionne un peu moins bien, on ait\n",
    "    # une valeur d'erreur très faible pour un batch donné.\n",
    "    # Si on avait choisi de sélectionner le modèle sur la base d'un valeur min() plutôt que sur\n",
    "    # la base d'une valeur moyenne on aurait alors choisi ce modèle qui fonctionne un peu moins bien...\n",
    "    # Il vaut donc mieux travailler avec un critère de moyenne plutôt qu'avec un critère de valeur min()\n",
    "\n",
    "    \n",
    "    model.eval()\n",
    "    for X, y in zip(X_test, y_test):\n",
    "        with torch.no_grad():\n",
    "\n",
    "            y_pred = model(X)\n",
    "            y = np.reshape(y, (1,1))\n",
    "            loss_test = loss_fn(y_pred, y)\n",
    "            l_test.append(loss_test.numpy())\n",
    "\n",
    "            l_y.append(y)\n",
    "            l_y_pred.append(y_pred)\n",
    "\n",
    "                \n",
    "    mean_y = np.mean(l_y)\n",
    "    mean_y_pred = np.mean(l_y_pred)\n",
    "    l_mean_y.append(mean_y)\n",
    "    l_mean_y_pred.append(mean_y_pred)\n",
    "\n",
    "#    if epoch < 3:\n",
    "#       print(len(l_mean_y))\n",
    "#       print(len(l_mean_y_pred))\n",
    "    \n",
    "    \n",
    "    \n",
    "    d_test[epoch] = np.mean(l_test)\n",
    "    es = early_stop(epoch, d_test, path, bool)\n",
    "    var_bool = es.compute_loss()\n",
    "    print('epoch: {}, var_bool: {}'.format(epoch, var_bool))\n",
    "    \n",
    "    if var_bool == False:\n",
    "        break\n",
    "    \n",
    "\n",
    "    "
   ]
  },
  {
   "cell_type": "markdown",
   "id": "918439f4-6208-4fbe-824a-f646db74423b",
   "metadata": {},
   "source": [
    "## Loss visualization"
   ]
  },
  {
   "cell_type": "code",
   "execution_count": 619,
   "id": "9ac75d79-6914-4762-ba8f-6aa0a60b2abc",
   "metadata": {},
   "outputs": [],
   "source": [
    "df_loss_train = pd.DataFrame(d_train, columns=range(len(d_train)), index=[0])\n",
    "df_loss_train = df_loss_train.T\n",
    "df_loss_train = df_loss_train.rename(columns={0: 'loss_tr'})\n",
    "\n",
    "df_loss_test = pd.DataFrame(d_test, columns=range(len(d_test)), index=[0])\n",
    "df_loss_test = df_loss_test.T\n",
    "df_loss_test = df_loss_test.rename(columns={0: 'loss_t'})\n"
   ]
  },
  {
   "cell_type": "code",
   "execution_count": 620,
   "id": "132ea218-6c5d-4176-8cab-9c0eca03089b",
   "metadata": {},
   "outputs": [
    {
     "data": {
      "text/html": [
       "<div>\n",
       "<style scoped>\n",
       "    .dataframe tbody tr th:only-of-type {\n",
       "        vertical-align: middle;\n",
       "    }\n",
       "\n",
       "    .dataframe tbody tr th {\n",
       "        vertical-align: top;\n",
       "    }\n",
       "\n",
       "    .dataframe thead th {\n",
       "        text-align: right;\n",
       "    }\n",
       "</style>\n",
       "<table border=\"1\" class=\"dataframe\">\n",
       "  <thead>\n",
       "    <tr style=\"text-align: right;\">\n",
       "      <th></th>\n",
       "      <th>loss_tr</th>\n",
       "      <th>loss_t</th>\n",
       "    </tr>\n",
       "  </thead>\n",
       "  <tbody>\n",
       "    <tr>\n",
       "      <th>0</th>\n",
       "      <td>1.056164</td>\n",
       "      <td>10.107313</td>\n",
       "    </tr>\n",
       "    <tr>\n",
       "      <th>1</th>\n",
       "      <td>0.872100</td>\n",
       "      <td>6.923556</td>\n",
       "    </tr>\n",
       "    <tr>\n",
       "      <th>2</th>\n",
       "      <td>0.854765</td>\n",
       "      <td>6.072753</td>\n",
       "    </tr>\n",
       "    <tr>\n",
       "      <th>3</th>\n",
       "      <td>0.809744</td>\n",
       "      <td>5.637230</td>\n",
       "    </tr>\n",
       "    <tr>\n",
       "      <th>4</th>\n",
       "      <td>0.782755</td>\n",
       "      <td>5.392576</td>\n",
       "    </tr>\n",
       "  </tbody>\n",
       "</table>\n",
       "</div>"
      ],
      "text/plain": [
       "    loss_tr     loss_t\n",
       "0  1.056164  10.107313\n",
       "1  0.872100   6.923556\n",
       "2  0.854765   6.072753\n",
       "3  0.809744   5.637230\n",
       "4  0.782755   5.392576"
      ]
     },
     "execution_count": 620,
     "metadata": {},
     "output_type": "execute_result"
    }
   ],
   "source": [
    "df_loss = pd.concat([df_loss_train, df_loss_test], axis=1)\n",
    "df_loss.head()"
   ]
  },
  {
   "cell_type": "code",
   "execution_count": 621,
   "id": "9790b952-7ee2-4631-b61e-fd340fdf18bb",
   "metadata": {},
   "outputs": [
    {
     "name": "stdout",
     "output_type": "stream",
     "text": [
      "min_loss: 0.1866951286792755, epoch: Index([195], dtype='int64')\n"
     ]
    }
   ],
   "source": [
    "min_loss = df_loss['loss_tr'].min()\n",
    "idx_loss = df_loss[df_loss['loss_tr'] == min_loss].index\n",
    "print('min_loss: {}, epoch: {}'.format(min_loss, idx_loss))"
   ]
  },
  {
   "cell_type": "code",
   "execution_count": 622,
   "id": "26321a60-1ca2-4381-af01-2c473fe6f2ee",
   "metadata": {},
   "outputs": [
    {
     "data": {
      "application/vnd.plotly.v1+json": {
       "config": {
        "plotlyServerURL": "https://plot.ly"
       },
       "data": [
        {
         "hovertemplate": "variable=loss_tr<br>x=%{x}<br>value=%{y}<extra></extra>",
         "legendgroup": "loss_tr",
         "line": {
          "color": "#636efa",
          "dash": "solid"
         },
         "marker": {
          "symbol": "circle"
         },
         "mode": "lines",
         "name": "loss_tr",
         "orientation": "v",
         "showlegend": true,
         "type": "scatter",
         "x": [
          0,
          1,
          2,
          3,
          4,
          5,
          6,
          7,
          8,
          9,
          10,
          11,
          12,
          13,
          14,
          15,
          16,
          17,
          18,
          19,
          20,
          21,
          22,
          23,
          24,
          25,
          26,
          27,
          28,
          29,
          30,
          31,
          32,
          33,
          34,
          35,
          36,
          37,
          38,
          39,
          40,
          41,
          42,
          43,
          44,
          45,
          46,
          47,
          48,
          49,
          50,
          51,
          52,
          53,
          54,
          55,
          56,
          57,
          58,
          59,
          60,
          61,
          62,
          63,
          64,
          65,
          66,
          67,
          68,
          69,
          70,
          71,
          72,
          73,
          74,
          75,
          76,
          77,
          78,
          79,
          80,
          81,
          82,
          83,
          84,
          85,
          86,
          87,
          88,
          89,
          90,
          91,
          92,
          93,
          94,
          95,
          96,
          97,
          98,
          99,
          100,
          101,
          102,
          103,
          104,
          105,
          106,
          107,
          108,
          109,
          110,
          111,
          112,
          113,
          114,
          115,
          116,
          117,
          118,
          119,
          120,
          121,
          122,
          123,
          124,
          125,
          126,
          127,
          128,
          129,
          130,
          131,
          132,
          133,
          134,
          135,
          136,
          137,
          138,
          139,
          140,
          141,
          142,
          143,
          144,
          145,
          146,
          147,
          148,
          149,
          150,
          151,
          152,
          153,
          154,
          155,
          156,
          157,
          158,
          159,
          160,
          161,
          162,
          163,
          164,
          165,
          166,
          167,
          168,
          169,
          170,
          171,
          172,
          173,
          174,
          175,
          176,
          177,
          178,
          179,
          180,
          181,
          182,
          183,
          184,
          185,
          186,
          187,
          188,
          189,
          190,
          191,
          192,
          193,
          194,
          195
         ],
         "xaxis": "x",
         "y": [
          1.0561641454696655,
          0.8720995187759399,
          0.8547651171684265,
          0.8097438216209412,
          0.7827554941177368,
          0.7619942426681519,
          0.7365624904632568,
          0.7113820314407349,
          0.6919406056404114,
          0.6727294921875,
          0.6608565449714661,
          0.6448878645896912,
          0.6234877109527588,
          0.6086911559104919,
          0.5895655751228333,
          0.5703123211860657,
          0.5566969513893127,
          0.5434570908546448,
          0.5325390100479126,
          0.5179059505462646,
          0.5071919560432434,
          0.4936163127422333,
          0.48108401894569397,
          0.4716847240924835,
          0.46092841029167175,
          0.4508751928806305,
          0.44177132844924927,
          0.4329465627670288,
          0.4254404902458191,
          0.41805383563041687,
          0.41285941004753113,
          0.40734121203422546,
          0.3997434079647064,
          0.3924653232097626,
          0.38734742999076843,
          0.38258448243141174,
          0.376962274312973,
          0.37089213728904724,
          0.36540716886520386,
          0.3615991175174713,
          0.3577742874622345,
          0.35420647263526917,
          0.349436491727829,
          0.34556278586387634,
          0.34163567423820496,
          0.33764225244522095,
          0.33424973487854004,
          0.33156856894493103,
          0.3281005620956421,
          0.32639044523239136,
          0.32383018732070923,
          0.32065272331237793,
          0.31904324889183044,
          0.3177833557128906,
          0.31428954005241394,
          0.311432421207428,
          0.30867260694503784,
          0.304964154958725,
          0.3027103841304779,
          0.3000383973121643,
          0.2982119619846344,
          0.29546916484832764,
          0.29303112626075745,
          0.29090622067451477,
          0.28941231966018677,
          0.28774121403694153,
          0.2865390181541443,
          0.28464072942733765,
          0.28282466530799866,
          0.28079020977020264,
          0.2795545756816864,
          0.2776677906513214,
          0.27622225880622864,
          0.27442288398742676,
          0.2729983329772949,
          0.27157458662986755,
          0.2707381844520569,
          0.26903754472732544,
          0.2672705352306366,
          0.26610592007637024,
          0.26465335488319397,
          0.263884574174881,
          0.262167364358902,
          0.2612362205982208,
          0.26019251346588135,
          0.2585573196411133,
          0.25777602195739746,
          0.25692635774612427,
          0.2554428279399872,
          0.2544500529766083,
          0.2529379427433014,
          0.2517569363117218,
          0.2503427565097809,
          0.249625101685524,
          0.24929021298885345,
          0.2484062761068344,
          0.24706301093101501,
          0.24587798118591309,
          0.24485260248184204,
          0.24381425976753235,
          0.24292124807834625,
          0.24244803190231323,
          0.24135743081569672,
          0.24044759571552277,
          0.23915310204029083,
          0.23777759075164795,
          0.23701366782188416,
          0.23584316670894623,
          0.2344628870487213,
          0.2338036149740219,
          0.23298124969005585,
          0.23222187161445618,
          0.23145319521427155,
          0.2309611290693283,
          0.23049798607826233,
          0.22952234745025635,
          0.2288675755262375,
          0.22806620597839355,
          0.2272186577320099,
          0.22637860476970673,
          0.22574898600578308,
          0.2248254120349884,
          0.2241363823413849,
          0.22325657308101654,
          0.2224503755569458,
          0.22161637246608734,
          0.22106513381004333,
          0.22043108940124512,
          0.2198748141527176,
          0.21935182809829712,
          0.21859051287174225,
          0.21805283427238464,
          0.21758054196834564,
          0.21682824194431305,
          0.2159826010465622,
          0.21545358002185822,
          0.21481889486312866,
          0.21427172422409058,
          0.21335572004318237,
          0.212825208902359,
          0.21221046149730682,
          0.21166761219501495,
          0.2111491858959198,
          0.2105703353881836,
          0.2100643515586853,
          0.20943647623062134,
          0.2087877243757248,
          0.20793206989765167,
          0.20760822296142578,
          0.20711791515350342,
          0.2063497006893158,
          0.20567366480827332,
          0.205218106508255,
          0.20445771515369415,
          0.20381920039653778,
          0.20329582691192627,
          0.2033151090145111,
          0.20266997814178467,
          0.20214024186134338,
          0.20152506232261658,
          0.20102059841156006,
          0.20044396817684174,
          0.19984206557273865,
          0.1997622698545456,
          0.1993340402841568,
          0.198710635304451,
          0.1985413283109665,
          0.19808036088943481,
          0.19753307104110718,
          0.19738058745861053,
          0.19697225093841553,
          0.19638673961162567,
          0.19576719403266907,
          0.19521979987621307,
          0.1949583888053894,
          0.19456633925437927,
          0.19423791766166687,
          0.19391915202140808,
          0.1934642344713211,
          0.19301097095012665,
          0.19278860092163086,
          0.19218938052654266,
          0.19180552661418915,
          0.19146960973739624,
          0.19133798778057098,
          0.19115161895751953,
          0.19084608554840088,
          0.19047778844833374,
          0.18998903036117554,
          0.18942056596279144,
          0.1888715922832489,
          0.18850424885749817,
          0.18794956803321838,
          0.1876887083053589,
          0.1872115284204483,
          0.1866951286792755
         ],
         "yaxis": "y"
        },
        {
         "hovertemplate": "variable=loss_t<br>x=%{x}<br>value=%{y}<extra></extra>",
         "legendgroup": "loss_t",
         "line": {
          "color": "#EF553B",
          "dash": "solid"
         },
         "marker": {
          "symbol": "circle"
         },
         "mode": "lines",
         "name": "loss_t",
         "orientation": "v",
         "showlegend": true,
         "type": "scatter",
         "x": [
          0,
          1,
          2,
          3,
          4,
          5,
          6,
          7,
          8,
          9,
          10,
          11,
          12,
          13,
          14,
          15,
          16,
          17,
          18,
          19,
          20,
          21,
          22,
          23,
          24,
          25,
          26,
          27,
          28,
          29,
          30,
          31,
          32,
          33,
          34,
          35,
          36,
          37,
          38,
          39,
          40,
          41,
          42,
          43,
          44,
          45,
          46,
          47,
          48,
          49,
          50,
          51,
          52,
          53,
          54,
          55,
          56,
          57,
          58,
          59,
          60,
          61,
          62,
          63,
          64,
          65,
          66,
          67,
          68,
          69,
          70,
          71,
          72,
          73,
          74,
          75,
          76,
          77,
          78,
          79,
          80,
          81,
          82,
          83,
          84,
          85,
          86,
          87,
          88,
          89,
          90,
          91,
          92,
          93,
          94,
          95,
          96,
          97,
          98,
          99,
          100,
          101,
          102,
          103,
          104,
          105,
          106,
          107,
          108,
          109,
          110,
          111,
          112,
          113,
          114,
          115,
          116,
          117,
          118,
          119,
          120,
          121,
          122,
          123,
          124,
          125,
          126,
          127,
          128,
          129,
          130,
          131,
          132,
          133,
          134,
          135,
          136,
          137,
          138,
          139,
          140,
          141,
          142,
          143,
          144,
          145,
          146,
          147,
          148,
          149,
          150,
          151,
          152,
          153,
          154,
          155,
          156,
          157,
          158,
          159,
          160,
          161,
          162,
          163,
          164,
          165,
          166,
          167,
          168,
          169,
          170,
          171,
          172,
          173,
          174,
          175,
          176,
          177,
          178,
          179,
          180,
          181,
          182,
          183,
          184,
          185,
          186,
          187,
          188,
          189,
          190,
          191,
          192,
          193,
          194,
          195
         ],
         "xaxis": "x",
         "y": [
          10.10731315612793,
          6.923555850982666,
          6.072753429412842,
          5.637229919433594,
          5.392576217651367,
          5.264624118804932,
          5.16831636428833,
          4.997067451477051,
          4.827332973480225,
          4.684691905975342,
          4.555550575256348,
          4.435405731201172,
          4.289804458618164,
          4.133435249328613,
          3.9836487770080566,
          3.8080942630767822,
          3.670344829559326,
          3.508378744125366,
          3.397853374481201,
          3.3293139934539795,
          3.2314648628234863,
          3.1346943378448486,
          3.0414035320281982,
          2.9697084426879883,
          2.885483503341675,
          2.8066823482513428,
          2.740061044692993,
          2.690906047821045,
          2.64591121673584,
          2.6120476722717285,
          2.567357301712036,
          2.520648956298828,
          2.5050926208496094,
          2.4901602268218994,
          2.440185785293579,
          2.408057451248169,
          2.3841230869293213,
          2.367649555206299,
          2.339346408843994,
          2.300564765930176,
          2.2680931091308594,
          2.245521306991577,
          2.2317490577697754,
          2.2208218574523926,
          2.2040069103240967,
          2.188109874725342,
          2.1642889976501465,
          2.1398496627807617,
          2.136845350265503,
          2.117626190185547,
          2.101844310760498,
          2.0804576873779297,
          2.0535857677459717,
          2.0323023796081543,
          2.0135393142700195,
          2.001506805419922,
          1.9879934787750244,
          1.9825152158737183,
          1.967592716217041,
          1.9443247318267822,
          1.9309868812561035,
          1.9306293725967407,
          1.915840983390808,
          1.9060462713241577,
          1.8859587907791138,
          1.8711603879928589,
          1.8565713167190552,
          1.8394206762313843,
          1.8194575309753418,
          1.8068182468414307,
          1.803513526916504,
          1.7973277568817139,
          1.783896803855896,
          1.7664875984191895,
          1.7506059408187866,
          1.7367802858352661,
          1.7288535833358765,
          1.7138798236846924,
          1.700671911239624,
          1.6966755390167236,
          1.6881463527679443,
          1.6756337881088257,
          1.6642367839813232,
          1.6601063013076782,
          1.6527704000473022,
          1.6441562175750732,
          1.6329128742218018,
          1.6275745630264282,
          1.619351863861084,
          1.6058541536331177,
          1.5967930555343628,
          1.5847612619400024,
          1.5734138488769531,
          1.5776503086090088,
          1.578621745109558,
          1.5730997323989868,
          1.568579077720642,
          1.5626250505447388,
          1.5556752681732178,
          1.558153510093689,
          1.5540673732757568,
          1.5532265901565552,
          1.5496313571929932,
          1.544264793395996,
          1.5370169878005981,
          1.5310487747192383,
          1.5248687267303467,
          1.5224249362945557,
          1.515854835510254,
          1.5083781480789185,
          1.5121530294418335,
          1.5054211616516113,
          1.5009034872055054,
          1.4973900318145752,
          1.4934403896331787,
          1.4900145530700684,
          1.489240050315857,
          1.485392689704895,
          1.4798442125320435,
          1.4753105640411377,
          1.473366379737854,
          1.4699958562850952,
          1.4704633951187134,
          1.4677972793579102,
          1.4639605283737183,
          1.4635833501815796,
          1.4574947357177734,
          1.4547239542007446,
          1.4535717964172363,
          1.455108404159546,
          1.4539722204208374,
          1.4524121284484863,
          1.4495172500610352,
          1.4476124048233032,
          1.4409843683242798,
          1.4336851835250854,
          1.4274463653564453,
          1.4201767444610596,
          1.4126057624816895,
          1.4071601629257202,
          1.403704285621643,
          1.399640679359436,
          1.3976880311965942,
          1.3933619260787964,
          1.3909047842025757,
          1.3886879682540894,
          1.3842962980270386,
          1.383815050125122,
          1.3831257820129395,
          1.3790054321289062,
          1.3766604661941528,
          1.376806378364563,
          1.3726344108581543,
          1.3700581789016724,
          1.3675570487976074,
          1.3739567995071411,
          1.375129222869873,
          1.378897786140442,
          1.3748973608016968,
          1.3752189874649048,
          1.3736852407455444,
          1.37277352809906,
          1.3686789274215698,
          1.3686729669570923,
          1.366207242012024,
          1.3652429580688477,
          1.3620144128799438,
          1.3605281114578247,
          1.3577698469161987,
          1.3546913862228394,
          1.3554798364639282,
          1.3550810813903809,
          1.355948567390442,
          1.3521240949630737,
          1.3496549129486084,
          1.3490991592407227,
          1.3525956869125366,
          1.3524258136749268,
          1.3532885313034058,
          1.3520786762237549,
          1.3530315160751343,
          1.3529431819915771,
          1.3510066270828247,
          1.347702145576477,
          1.3509290218353271,
          1.3504048585891724,
          1.3496677875518799,
          1.3484350442886353,
          1.3485569953918457,
          1.3464336395263672,
          1.3498201370239258,
          1.349845051765442,
          1.3503515720367432,
          1.351728916168213,
          1.3560975790023804,
          1.3595478534698486
         ],
         "yaxis": "y"
        }
       ],
       "layout": {
        "autosize": true,
        "legend": {
         "title": {
          "text": "variable"
         },
         "tracegroupgap": 0
        },
        "margin": {
         "t": 60
        },
        "template": {
         "data": {
          "bar": [
           {
            "error_x": {
             "color": "#2a3f5f"
            },
            "error_y": {
             "color": "#2a3f5f"
            },
            "marker": {
             "line": {
              "color": "#E5ECF6",
              "width": 0.5
             },
             "pattern": {
              "fillmode": "overlay",
              "size": 10,
              "solidity": 0.2
             }
            },
            "type": "bar"
           }
          ],
          "barpolar": [
           {
            "marker": {
             "line": {
              "color": "#E5ECF6",
              "width": 0.5
             },
             "pattern": {
              "fillmode": "overlay",
              "size": 10,
              "solidity": 0.2
             }
            },
            "type": "barpolar"
           }
          ],
          "carpet": [
           {
            "aaxis": {
             "endlinecolor": "#2a3f5f",
             "gridcolor": "white",
             "linecolor": "white",
             "minorgridcolor": "white",
             "startlinecolor": "#2a3f5f"
            },
            "baxis": {
             "endlinecolor": "#2a3f5f",
             "gridcolor": "white",
             "linecolor": "white",
             "minorgridcolor": "white",
             "startlinecolor": "#2a3f5f"
            },
            "type": "carpet"
           }
          ],
          "choropleth": [
           {
            "colorbar": {
             "outlinewidth": 0,
             "ticks": ""
            },
            "type": "choropleth"
           }
          ],
          "contour": [
           {
            "colorbar": {
             "outlinewidth": 0,
             "ticks": ""
            },
            "colorscale": [
             [
              0,
              "#0d0887"
             ],
             [
              0.1111111111111111,
              "#46039f"
             ],
             [
              0.2222222222222222,
              "#7201a8"
             ],
             [
              0.3333333333333333,
              "#9c179e"
             ],
             [
              0.4444444444444444,
              "#bd3786"
             ],
             [
              0.5555555555555556,
              "#d8576b"
             ],
             [
              0.6666666666666666,
              "#ed7953"
             ],
             [
              0.7777777777777778,
              "#fb9f3a"
             ],
             [
              0.8888888888888888,
              "#fdca26"
             ],
             [
              1,
              "#f0f921"
             ]
            ],
            "type": "contour"
           }
          ],
          "contourcarpet": [
           {
            "colorbar": {
             "outlinewidth": 0,
             "ticks": ""
            },
            "type": "contourcarpet"
           }
          ],
          "heatmap": [
           {
            "colorbar": {
             "outlinewidth": 0,
             "ticks": ""
            },
            "colorscale": [
             [
              0,
              "#0d0887"
             ],
             [
              0.1111111111111111,
              "#46039f"
             ],
             [
              0.2222222222222222,
              "#7201a8"
             ],
             [
              0.3333333333333333,
              "#9c179e"
             ],
             [
              0.4444444444444444,
              "#bd3786"
             ],
             [
              0.5555555555555556,
              "#d8576b"
             ],
             [
              0.6666666666666666,
              "#ed7953"
             ],
             [
              0.7777777777777778,
              "#fb9f3a"
             ],
             [
              0.8888888888888888,
              "#fdca26"
             ],
             [
              1,
              "#f0f921"
             ]
            ],
            "type": "heatmap"
           }
          ],
          "heatmapgl": [
           {
            "colorbar": {
             "outlinewidth": 0,
             "ticks": ""
            },
            "colorscale": [
             [
              0,
              "#0d0887"
             ],
             [
              0.1111111111111111,
              "#46039f"
             ],
             [
              0.2222222222222222,
              "#7201a8"
             ],
             [
              0.3333333333333333,
              "#9c179e"
             ],
             [
              0.4444444444444444,
              "#bd3786"
             ],
             [
              0.5555555555555556,
              "#d8576b"
             ],
             [
              0.6666666666666666,
              "#ed7953"
             ],
             [
              0.7777777777777778,
              "#fb9f3a"
             ],
             [
              0.8888888888888888,
              "#fdca26"
             ],
             [
              1,
              "#f0f921"
             ]
            ],
            "type": "heatmapgl"
           }
          ],
          "histogram": [
           {
            "marker": {
             "pattern": {
              "fillmode": "overlay",
              "size": 10,
              "solidity": 0.2
             }
            },
            "type": "histogram"
           }
          ],
          "histogram2d": [
           {
            "colorbar": {
             "outlinewidth": 0,
             "ticks": ""
            },
            "colorscale": [
             [
              0,
              "#0d0887"
             ],
             [
              0.1111111111111111,
              "#46039f"
             ],
             [
              0.2222222222222222,
              "#7201a8"
             ],
             [
              0.3333333333333333,
              "#9c179e"
             ],
             [
              0.4444444444444444,
              "#bd3786"
             ],
             [
              0.5555555555555556,
              "#d8576b"
             ],
             [
              0.6666666666666666,
              "#ed7953"
             ],
             [
              0.7777777777777778,
              "#fb9f3a"
             ],
             [
              0.8888888888888888,
              "#fdca26"
             ],
             [
              1,
              "#f0f921"
             ]
            ],
            "type": "histogram2d"
           }
          ],
          "histogram2dcontour": [
           {
            "colorbar": {
             "outlinewidth": 0,
             "ticks": ""
            },
            "colorscale": [
             [
              0,
              "#0d0887"
             ],
             [
              0.1111111111111111,
              "#46039f"
             ],
             [
              0.2222222222222222,
              "#7201a8"
             ],
             [
              0.3333333333333333,
              "#9c179e"
             ],
             [
              0.4444444444444444,
              "#bd3786"
             ],
             [
              0.5555555555555556,
              "#d8576b"
             ],
             [
              0.6666666666666666,
              "#ed7953"
             ],
             [
              0.7777777777777778,
              "#fb9f3a"
             ],
             [
              0.8888888888888888,
              "#fdca26"
             ],
             [
              1,
              "#f0f921"
             ]
            ],
            "type": "histogram2dcontour"
           }
          ],
          "mesh3d": [
           {
            "colorbar": {
             "outlinewidth": 0,
             "ticks": ""
            },
            "type": "mesh3d"
           }
          ],
          "parcoords": [
           {
            "line": {
             "colorbar": {
              "outlinewidth": 0,
              "ticks": ""
             }
            },
            "type": "parcoords"
           }
          ],
          "pie": [
           {
            "automargin": true,
            "type": "pie"
           }
          ],
          "scatter": [
           {
            "fillpattern": {
             "fillmode": "overlay",
             "size": 10,
             "solidity": 0.2
            },
            "type": "scatter"
           }
          ],
          "scatter3d": [
           {
            "line": {
             "colorbar": {
              "outlinewidth": 0,
              "ticks": ""
             }
            },
            "marker": {
             "colorbar": {
              "outlinewidth": 0,
              "ticks": ""
             }
            },
            "type": "scatter3d"
           }
          ],
          "scattercarpet": [
           {
            "marker": {
             "colorbar": {
              "outlinewidth": 0,
              "ticks": ""
             }
            },
            "type": "scattercarpet"
           }
          ],
          "scattergeo": [
           {
            "marker": {
             "colorbar": {
              "outlinewidth": 0,
              "ticks": ""
             }
            },
            "type": "scattergeo"
           }
          ],
          "scattergl": [
           {
            "marker": {
             "colorbar": {
              "outlinewidth": 0,
              "ticks": ""
             }
            },
            "type": "scattergl"
           }
          ],
          "scattermapbox": [
           {
            "marker": {
             "colorbar": {
              "outlinewidth": 0,
              "ticks": ""
             }
            },
            "type": "scattermapbox"
           }
          ],
          "scatterpolar": [
           {
            "marker": {
             "colorbar": {
              "outlinewidth": 0,
              "ticks": ""
             }
            },
            "type": "scatterpolar"
           }
          ],
          "scatterpolargl": [
           {
            "marker": {
             "colorbar": {
              "outlinewidth": 0,
              "ticks": ""
             }
            },
            "type": "scatterpolargl"
           }
          ],
          "scatterternary": [
           {
            "marker": {
             "colorbar": {
              "outlinewidth": 0,
              "ticks": ""
             }
            },
            "type": "scatterternary"
           }
          ],
          "surface": [
           {
            "colorbar": {
             "outlinewidth": 0,
             "ticks": ""
            },
            "colorscale": [
             [
              0,
              "#0d0887"
             ],
             [
              0.1111111111111111,
              "#46039f"
             ],
             [
              0.2222222222222222,
              "#7201a8"
             ],
             [
              0.3333333333333333,
              "#9c179e"
             ],
             [
              0.4444444444444444,
              "#bd3786"
             ],
             [
              0.5555555555555556,
              "#d8576b"
             ],
             [
              0.6666666666666666,
              "#ed7953"
             ],
             [
              0.7777777777777778,
              "#fb9f3a"
             ],
             [
              0.8888888888888888,
              "#fdca26"
             ],
             [
              1,
              "#f0f921"
             ]
            ],
            "type": "surface"
           }
          ],
          "table": [
           {
            "cells": {
             "fill": {
              "color": "#EBF0F8"
             },
             "line": {
              "color": "white"
             }
            },
            "header": {
             "fill": {
              "color": "#C8D4E3"
             },
             "line": {
              "color": "white"
             }
            },
            "type": "table"
           }
          ]
         },
         "layout": {
          "annotationdefaults": {
           "arrowcolor": "#2a3f5f",
           "arrowhead": 0,
           "arrowwidth": 1
          },
          "autotypenumbers": "strict",
          "coloraxis": {
           "colorbar": {
            "outlinewidth": 0,
            "ticks": ""
           }
          },
          "colorscale": {
           "diverging": [
            [
             0,
             "#8e0152"
            ],
            [
             0.1,
             "#c51b7d"
            ],
            [
             0.2,
             "#de77ae"
            ],
            [
             0.3,
             "#f1b6da"
            ],
            [
             0.4,
             "#fde0ef"
            ],
            [
             0.5,
             "#f7f7f7"
            ],
            [
             0.6,
             "#e6f5d0"
            ],
            [
             0.7,
             "#b8e186"
            ],
            [
             0.8,
             "#7fbc41"
            ],
            [
             0.9,
             "#4d9221"
            ],
            [
             1,
             "#276419"
            ]
           ],
           "sequential": [
            [
             0,
             "#0d0887"
            ],
            [
             0.1111111111111111,
             "#46039f"
            ],
            [
             0.2222222222222222,
             "#7201a8"
            ],
            [
             0.3333333333333333,
             "#9c179e"
            ],
            [
             0.4444444444444444,
             "#bd3786"
            ],
            [
             0.5555555555555556,
             "#d8576b"
            ],
            [
             0.6666666666666666,
             "#ed7953"
            ],
            [
             0.7777777777777778,
             "#fb9f3a"
            ],
            [
             0.8888888888888888,
             "#fdca26"
            ],
            [
             1,
             "#f0f921"
            ]
           ],
           "sequentialminus": [
            [
             0,
             "#0d0887"
            ],
            [
             0.1111111111111111,
             "#46039f"
            ],
            [
             0.2222222222222222,
             "#7201a8"
            ],
            [
             0.3333333333333333,
             "#9c179e"
            ],
            [
             0.4444444444444444,
             "#bd3786"
            ],
            [
             0.5555555555555556,
             "#d8576b"
            ],
            [
             0.6666666666666666,
             "#ed7953"
            ],
            [
             0.7777777777777778,
             "#fb9f3a"
            ],
            [
             0.8888888888888888,
             "#fdca26"
            ],
            [
             1,
             "#f0f921"
            ]
           ]
          },
          "colorway": [
           "#636efa",
           "#EF553B",
           "#00cc96",
           "#ab63fa",
           "#FFA15A",
           "#19d3f3",
           "#FF6692",
           "#B6E880",
           "#FF97FF",
           "#FECB52"
          ],
          "font": {
           "color": "#2a3f5f"
          },
          "geo": {
           "bgcolor": "white",
           "lakecolor": "white",
           "landcolor": "#E5ECF6",
           "showlakes": true,
           "showland": true,
           "subunitcolor": "white"
          },
          "hoverlabel": {
           "align": "left"
          },
          "hovermode": "closest",
          "mapbox": {
           "style": "light"
          },
          "paper_bgcolor": "white",
          "plot_bgcolor": "#E5ECF6",
          "polar": {
           "angularaxis": {
            "gridcolor": "white",
            "linecolor": "white",
            "ticks": ""
           },
           "bgcolor": "#E5ECF6",
           "radialaxis": {
            "gridcolor": "white",
            "linecolor": "white",
            "ticks": ""
           }
          },
          "scene": {
           "xaxis": {
            "backgroundcolor": "#E5ECF6",
            "gridcolor": "white",
            "gridwidth": 2,
            "linecolor": "white",
            "showbackground": true,
            "ticks": "",
            "zerolinecolor": "white"
           },
           "yaxis": {
            "backgroundcolor": "#E5ECF6",
            "gridcolor": "white",
            "gridwidth": 2,
            "linecolor": "white",
            "showbackground": true,
            "ticks": "",
            "zerolinecolor": "white"
           },
           "zaxis": {
            "backgroundcolor": "#E5ECF6",
            "gridcolor": "white",
            "gridwidth": 2,
            "linecolor": "white",
            "showbackground": true,
            "ticks": "",
            "zerolinecolor": "white"
           }
          },
          "shapedefaults": {
           "line": {
            "color": "#2a3f5f"
           }
          },
          "ternary": {
           "aaxis": {
            "gridcolor": "white",
            "linecolor": "white",
            "ticks": ""
           },
           "baxis": {
            "gridcolor": "white",
            "linecolor": "white",
            "ticks": ""
           },
           "bgcolor": "#E5ECF6",
           "caxis": {
            "gridcolor": "white",
            "linecolor": "white",
            "ticks": ""
           }
          },
          "title": {
           "x": 0.05
          },
          "xaxis": {
           "automargin": true,
           "gridcolor": "white",
           "linecolor": "white",
           "ticks": "",
           "title": {
            "standoff": 15
           },
           "zerolinecolor": "white",
           "zerolinewidth": 2
          },
          "yaxis": {
           "automargin": true,
           "gridcolor": "white",
           "linecolor": "white",
           "ticks": "",
           "title": {
            "standoff": 15
           },
           "zerolinecolor": "white",
           "zerolinewidth": 2
          }
         }
        },
        "xaxis": {
         "anchor": "y",
         "autorange": true,
         "domain": [
          0,
          1
         ],
         "range": [
          0,
          195
         ],
         "title": {
          "text": "x"
         },
         "type": "linear"
        },
        "yaxis": {
         "anchor": "x",
         "autorange": true,
         "domain": [
          0,
          1
         ],
         "range": [
          -0.36445031729009414,
          10.6584586020973
         ],
         "title": {
          "text": "value"
         },
         "type": "linear"
        }
       }
      },
      "image/png": "[encoded data removed]",
      "text/html": [
       "<div>                            <div id=\"be0f790a-5c13-4c56-9ef6-139ad88989eb\" class=\"plotly-graph-div\" style=\"height:525px; width:100%;\"></div>            <script type=\"text/javascript\">                require([\"plotly\"], function(Plotly) {                    window.PLOTLYENV=window.PLOTLYENV || {};                                    if (document.getElementById(\"be0f790a-5c13-4c56-9ef6-139ad88989eb\")) {                    Plotly.newPlot(                        \"be0f790a-5c13-4c56-9ef6-139ad88989eb\",                        [{\"hovertemplate\":\"variable=loss_tr\\u003cbr\\u003ex=%{x}\\u003cbr\\u003evalue=%{y}\\u003cextra\\u003e\\u003c\\u002fextra\\u003e\",\"legendgroup\":\"loss_tr\",\"line\":{\"color\":\"#636efa\",\"dash\":\"solid\"},\"marker\":{\"symbol\":\"circle\"},\"mode\":\"lines\",\"name\":\"loss_tr\",\"orientation\":\"v\",\"showlegend\":true,\"x\":[0,1,2,3,4,5,6,7,8,9,10,11,12,13,14,15,16,17,18,19,20,21,22,23,24,25,26,27,28,29,30,31,32,33,34,35,36,37,38,39,40,41,42,43,44,45,46,47,48,49,50,51,52,53,54,55,56,57,58,59,60,61,62,63,64,65,66,67,68,69,70,71,72,73,74,75,76,77,78,79,80,81,82,83,84,85,86,87,88,89,90,91,92,93,94,95,96,97,98,99,100,101,102,103,104,105,106,107,108,109,110,111,112,113,114,115,116,117,118,119,120,121,122,123,124,125,126,127,128,129,130,131,132,133,134,135,136,137,138,139,140,141,142,143,144,145,146,147,148,149,150,151,152,153,154,155,156,157,158,159,160,161,162,163,164,165,166,167,168,169,170,171,172,173,174,175,176,177,178,179,180,181,182,183,184,185,186,187,188,189,190,191,192,193,194,195],\"xaxis\":\"x\",\"y\":[1.0561641454696655,0.8720995187759399,0.8547651171684265,0.8097438216209412,0.7827554941177368,0.7619942426681519,0.7365624904632568,0.7113820314407349,0.6919406056404114,0.6727294921875,0.6608565449714661,0.6448878645896912,0.6234877109527588,0.6086911559104919,0.5895655751228333,0.5703123211860657,0.5566969513893127,0.5434570908546448,0.5325390100479126,0.5179059505462646,0.5071919560432434,0.4936163127422333,0.48108401894569397,0.4716847240924835,0.46092841029167175,0.4508751928806305,0.44177132844924927,0.4329465627670288,0.4254404902458191,0.41805383563041687,0.41285941004753113,0.40734121203422546,0.3997434079647064,0.3924653232097626,0.38734742999076843,0.38258448243141174,0.376962274312973,0.37089213728904724,0.36540716886520386,0.3615991175174713,0.3577742874622345,0.35420647263526917,0.349436491727829,0.34556278586387634,0.34163567423820496,0.33764225244522095,0.33424973487854004,0.33156856894493103,0.3281005620956421,0.32639044523239136,0.32383018732070923,0.32065272331237793,0.31904324889183044,0.3177833557128906,0.31428954005241394,0.311432421207428,0.30867260694503784,0.304964154958725,0.3027103841304779,0.3000383973121643,0.2982119619846344,0.29546916484832764,0.29303112626075745,0.29090622067451477,0.28941231966018677,0.28774121403694153,0.2865390181541443,0.28464072942733765,0.28282466530799866,0.28079020977020264,0.2795545756816864,0.2776677906513214,0.27622225880622864,0.27442288398742676,0.2729983329772949,0.27157458662986755,0.2707381844520569,0.26903754472732544,0.2672705352306366,0.26610592007637024,0.26465335488319397,0.263884574174881,0.262167364358902,0.2612362205982208,0.26019251346588135,0.2585573196411133,0.25777602195739746,0.25692635774612427,0.2554428279399872,0.2544500529766083,0.2529379427433014,0.2517569363117218,0.2503427565097809,0.249625101685524,0.24929021298885345,0.2484062761068344,0.24706301093101501,0.24587798118591309,0.24485260248184204,0.24381425976753235,0.24292124807834625,0.24244803190231323,0.24135743081569672,0.24044759571552277,0.23915310204029083,0.23777759075164795,0.23701366782188416,0.23584316670894623,0.2344628870487213,0.2338036149740219,0.23298124969005585,0.23222187161445618,0.23145319521427155,0.2309611290693283,0.23049798607826233,0.22952234745025635,0.2288675755262375,0.22806620597839355,0.2272186577320099,0.22637860476970673,0.22574898600578308,0.2248254120349884,0.2241363823413849,0.22325657308101654,0.2224503755569458,0.22161637246608734,0.22106513381004333,0.22043108940124512,0.2198748141527176,0.21935182809829712,0.21859051287174225,0.21805283427238464,0.21758054196834564,0.21682824194431305,0.2159826010465622,0.21545358002185822,0.21481889486312866,0.21427172422409058,0.21335572004318237,0.212825208902359,0.21221046149730682,0.21166761219501495,0.2111491858959198,0.2105703353881836,0.2100643515586853,0.20943647623062134,0.2087877243757248,0.20793206989765167,0.20760822296142578,0.20711791515350342,0.2063497006893158,0.20567366480827332,0.205218106508255,0.20445771515369415,0.20381920039653778,0.20329582691192627,0.2033151090145111,0.20266997814178467,0.20214024186134338,0.20152506232261658,0.20102059841156006,0.20044396817684174,0.19984206557273865,0.1997622698545456,0.1993340402841568,0.198710635304451,0.1985413283109665,0.19808036088943481,0.19753307104110718,0.19738058745861053,0.19697225093841553,0.19638673961162567,0.19576719403266907,0.19521979987621307,0.1949583888053894,0.19456633925437927,0.19423791766166687,0.19391915202140808,0.1934642344713211,0.19301097095012665,0.19278860092163086,0.19218938052654266,0.19180552661418915,0.19146960973739624,0.19133798778057098,0.19115161895751953,0.19084608554840088,0.19047778844833374,0.18998903036117554,0.18942056596279144,0.1888715922832489,0.18850424885749817,0.18794956803321838,0.1876887083053589,0.1872115284204483,0.1866951286792755],\"yaxis\":\"y\",\"type\":\"scatter\"},{\"hovertemplate\":\"variable=loss_t\\u003cbr\\u003ex=%{x}\\u003cbr\\u003evalue=%{y}\\u003cextra\\u003e\\u003c\\u002fextra\\u003e\",\"legendgroup\":\"loss_t\",\"line\":{\"color\":\"#EF553B\",\"dash\":\"solid\"},\"marker\":{\"symbol\":\"circle\"},\"mode\":\"lines\",\"name\":\"loss_t\",\"orientation\":\"v\",\"showlegend\":true,\"x\":[0,1,2,3,4,5,6,7,8,9,10,11,12,13,14,15,16,17,18,19,20,21,22,23,24,25,26,27,28,29,30,31,32,33,34,35,36,37,38,39,40,41,42,43,44,45,46,47,48,49,50,51,52,53,54,55,56,57,58,59,60,61,62,63,64,65,66,67,68,69,70,71,72,73,74,75,76,77,78,79,80,81,82,83,84,85,86,87,88,89,90,91,92,93,94,95,96,97,98,99,100,101,102,103,104,105,106,107,108,109,110,111,112,113,114,115,116,117,118,119,120,121,122,123,124,125,126,127,128,129,130,131,132,133,134,135,136,137,138,139,140,141,142,143,144,145,146,147,148,149,150,151,152,153,154,155,156,157,158,159,160,161,162,163,164,165,166,167,168,169,170,171,172,173,174,175,176,177,178,179,180,181,182,183,184,185,186,187,188,189,190,191,192,193,194,195],\"xaxis\":\"x\",\"y\":[10.10731315612793,6.923555850982666,6.072753429412842,5.637229919433594,5.392576217651367,5.264624118804932,5.16831636428833,4.997067451477051,4.827332973480225,4.684691905975342,4.555550575256348,4.435405731201172,4.289804458618164,4.133435249328613,3.9836487770080566,3.8080942630767822,3.670344829559326,3.508378744125366,3.397853374481201,3.3293139934539795,3.2314648628234863,3.1346943378448486,3.0414035320281982,2.9697084426879883,2.885483503341675,2.8066823482513428,2.740061044692993,2.690906047821045,2.64591121673584,2.6120476722717285,2.567357301712036,2.520648956298828,2.5050926208496094,2.4901602268218994,2.440185785293579,2.408057451248169,2.3841230869293213,2.367649555206299,2.339346408843994,2.300564765930176,2.2680931091308594,2.245521306991577,2.2317490577697754,2.2208218574523926,2.2040069103240967,2.188109874725342,2.1642889976501465,2.1398496627807617,2.136845350265503,2.117626190185547,2.101844310760498,2.0804576873779297,2.0535857677459717,2.0323023796081543,2.0135393142700195,2.001506805419922,1.9879934787750244,1.9825152158737183,1.967592716217041,1.9443247318267822,1.9309868812561035,1.9306293725967407,1.915840983390808,1.9060462713241577,1.8859587907791138,1.8711603879928589,1.8565713167190552,1.8394206762313843,1.8194575309753418,1.8068182468414307,1.803513526916504,1.7973277568817139,1.783896803855896,1.7664875984191895,1.7506059408187866,1.7367802858352661,1.7288535833358765,1.7138798236846924,1.700671911239624,1.6966755390167236,1.6881463527679443,1.6756337881088257,1.6642367839813232,1.6601063013076782,1.6527704000473022,1.6441562175750732,1.6329128742218018,1.6275745630264282,1.619351863861084,1.6058541536331177,1.5967930555343628,1.5847612619400024,1.5734138488769531,1.5776503086090088,1.578621745109558,1.5730997323989868,1.568579077720642,1.5626250505447388,1.5556752681732178,1.558153510093689,1.5540673732757568,1.5532265901565552,1.5496313571929932,1.544264793395996,1.5370169878005981,1.5310487747192383,1.5248687267303467,1.5224249362945557,1.515854835510254,1.5083781480789185,1.5121530294418335,1.5054211616516113,1.5009034872055054,1.4973900318145752,1.4934403896331787,1.4900145530700684,1.489240050315857,1.485392689704895,1.4798442125320435,1.4753105640411377,1.473366379737854,1.4699958562850952,1.4704633951187134,1.4677972793579102,1.4639605283737183,1.4635833501815796,1.4574947357177734,1.4547239542007446,1.4535717964172363,1.455108404159546,1.4539722204208374,1.4524121284484863,1.4495172500610352,1.4476124048233032,1.4409843683242798,1.4336851835250854,1.4274463653564453,1.4201767444610596,1.4126057624816895,1.4071601629257202,1.403704285621643,1.399640679359436,1.3976880311965942,1.3933619260787964,1.3909047842025757,1.3886879682540894,1.3842962980270386,1.383815050125122,1.3831257820129395,1.3790054321289062,1.3766604661941528,1.376806378364563,1.3726344108581543,1.3700581789016724,1.3675570487976074,1.3739567995071411,1.375129222869873,1.378897786140442,1.3748973608016968,1.3752189874649048,1.3736852407455444,1.37277352809906,1.3686789274215698,1.3686729669570923,1.366207242012024,1.3652429580688477,1.3620144128799438,1.3605281114578247,1.3577698469161987,1.3546913862228394,1.3554798364639282,1.3550810813903809,1.355948567390442,1.3521240949630737,1.3496549129486084,1.3490991592407227,1.3525956869125366,1.3524258136749268,1.3532885313034058,1.3520786762237549,1.3530315160751343,1.3529431819915771,1.3510066270828247,1.347702145576477,1.3509290218353271,1.3504048585891724,1.3496677875518799,1.3484350442886353,1.3485569953918457,1.3464336395263672,1.3498201370239258,1.349845051765442,1.3503515720367432,1.351728916168213,1.3560975790023804,1.3595478534698486],\"yaxis\":\"y\",\"type\":\"scatter\"}],                        {\"template\":{\"data\":{\"histogram2dcontour\":[{\"type\":\"histogram2dcontour\",\"colorbar\":{\"outlinewidth\":0,\"ticks\":\"\"},\"colorscale\":[[0.0,\"#0d0887\"],[0.1111111111111111,\"#46039f\"],[0.2222222222222222,\"#7201a8\"],[0.3333333333333333,\"#9c179e\"],[0.4444444444444444,\"#bd3786\"],[0.5555555555555556,\"#d8576b\"],[0.6666666666666666,\"#ed7953\"],[0.7777777777777778,\"#fb9f3a\"],[0.8888888888888888,\"#fdca26\"],[1.0,\"#f0f921\"]]}],\"choropleth\":[{\"type\":\"choropleth\",\"colorbar\":{\"outlinewidth\":0,\"ticks\":\"\"}}],\"histogram2d\":[{\"type\":\"histogram2d\",\"colorbar\":{\"outlinewidth\":0,\"ticks\":\"\"},\"colorscale\":[[0.0,\"#0d0887\"],[0.1111111111111111,\"#46039f\"],[0.2222222222222222,\"#7201a8\"],[0.3333333333333333,\"#9c179e\"],[0.4444444444444444,\"#bd3786\"],[0.5555555555555556,\"#d8576b\"],[0.6666666666666666,\"#ed7953\"],[0.7777777777777778,\"#fb9f3a\"],[0.8888888888888888,\"#fdca26\"],[1.0,\"#f0f921\"]]}],\"heatmap\":[{\"type\":\"heatmap\",\"colorbar\":{\"outlinewidth\":0,\"ticks\":\"\"},\"colorscale\":[[0.0,\"#0d0887\"],[0.1111111111111111,\"#46039f\"],[0.2222222222222222,\"#7201a8\"],[0.3333333333333333,\"#9c179e\"],[0.4444444444444444,\"#bd3786\"],[0.5555555555555556,\"#d8576b\"],[0.6666666666666666,\"#ed7953\"],[0.7777777777777778,\"#fb9f3a\"],[0.8888888888888888,\"#fdca26\"],[1.0,\"#f0f921\"]]}],\"heatmapgl\":[{\"type\":\"heatmapgl\",\"colorbar\":{\"outlinewidth\":0,\"ticks\":\"\"},\"colorscale\":[[0.0,\"#0d0887\"],[0.1111111111111111,\"#46039f\"],[0.2222222222222222,\"#7201a8\"],[0.3333333333333333,\"#9c179e\"],[0.4444444444444444,\"#bd3786\"],[0.5555555555555556,\"#d8576b\"],[0.6666666666666666,\"#ed7953\"],[0.7777777777777778,\"#fb9f3a\"],[0.8888888888888888,\"#fdca26\"],[1.0,\"#f0f921\"]]}],\"contourcarpet\":[{\"type\":\"contourcarpet\",\"colorbar\":{\"outlinewidth\":0,\"ticks\":\"\"}}],\"contour\":[{\"type\":\"contour\",\"colorbar\":{\"outlinewidth\":0,\"ticks\":\"\"},\"colorscale\":[[0.0,\"#0d0887\"],[0.1111111111111111,\"#46039f\"],[0.2222222222222222,\"#7201a8\"],[0.3333333333333333,\"#9c179e\"],[0.4444444444444444,\"#bd3786\"],[0.5555555555555556,\"#d8576b\"],[0.6666666666666666,\"#ed7953\"],[0.7777777777777778,\"#fb9f3a\"],[0.8888888888888888,\"#fdca26\"],[1.0,\"#f0f921\"]]}],\"surface\":[{\"type\":\"surface\",\"colorbar\":{\"outlinewidth\":0,\"ticks\":\"\"},\"colorscale\":[[0.0,\"#0d0887\"],[0.1111111111111111,\"#46039f\"],[0.2222222222222222,\"#7201a8\"],[0.3333333333333333,\"#9c179e\"],[0.4444444444444444,\"#bd3786\"],[0.5555555555555556,\"#d8576b\"],[0.6666666666666666,\"#ed7953\"],[0.7777777777777778,\"#fb9f3a\"],[0.8888888888888888,\"#fdca26\"],[1.0,\"#f0f921\"]]}],\"mesh3d\":[{\"type\":\"mesh3d\",\"colorbar\":{\"outlinewidth\":0,\"ticks\":\"\"}}],\"scatter\":[{\"fillpattern\":{\"fillmode\":\"overlay\",\"size\":10,\"solidity\":0.2},\"type\":\"scatter\"}],\"parcoords\":[{\"type\":\"parcoords\",\"line\":{\"colorbar\":{\"outlinewidth\":0,\"ticks\":\"\"}}}],\"scatterpolargl\":[{\"type\":\"scatterpolargl\",\"marker\":{\"colorbar\":{\"outlinewidth\":0,\"ticks\":\"\"}}}],\"bar\":[{\"error_x\":{\"color\":\"#2a3f5f\"},\"error_y\":{\"color\":\"#2a3f5f\"},\"marker\":{\"line\":{\"color\":\"#E5ECF6\",\"width\":0.5},\"pattern\":{\"fillmode\":\"overlay\",\"size\":10,\"solidity\":0.2}},\"type\":\"bar\"}],\"scattergeo\":[{\"type\":\"scattergeo\",\"marker\":{\"colorbar\":{\"outlinewidth\":0,\"ticks\":\"\"}}}],\"scatterpolar\":[{\"type\":\"scatterpolar\",\"marker\":{\"colorbar\":{\"outlinewidth\":0,\"ticks\":\"\"}}}],\"histogram\":[{\"marker\":{\"pattern\":{\"fillmode\":\"overlay\",\"size\":10,\"solidity\":0.2}},\"type\":\"histogram\"}],\"scattergl\":[{\"type\":\"scattergl\",\"marker\":{\"colorbar\":{\"outlinewidth\":0,\"ticks\":\"\"}}}],\"scatter3d\":[{\"type\":\"scatter3d\",\"line\":{\"colorbar\":{\"outlinewidth\":0,\"ticks\":\"\"}},\"marker\":{\"colorbar\":{\"outlinewidth\":0,\"ticks\":\"\"}}}],\"scattermapbox\":[{\"type\":\"scattermapbox\",\"marker\":{\"colorbar\":{\"outlinewidth\":0,\"ticks\":\"\"}}}],\"scatterternary\":[{\"type\":\"scatterternary\",\"marker\":{\"colorbar\":{\"outlinewidth\":0,\"ticks\":\"\"}}}],\"scattercarpet\":[{\"type\":\"scattercarpet\",\"marker\":{\"colorbar\":{\"outlinewidth\":0,\"ticks\":\"\"}}}],\"carpet\":[{\"aaxis\":{\"endlinecolor\":\"#2a3f5f\",\"gridcolor\":\"white\",\"linecolor\":\"white\",\"minorgridcolor\":\"white\",\"startlinecolor\":\"#2a3f5f\"},\"baxis\":{\"endlinecolor\":\"#2a3f5f\",\"gridcolor\":\"white\",\"linecolor\":\"white\",\"minorgridcolor\":\"white\",\"startlinecolor\":\"#2a3f5f\"},\"type\":\"carpet\"}],\"table\":[{\"cells\":{\"fill\":{\"color\":\"#EBF0F8\"},\"line\":{\"color\":\"white\"}},\"header\":{\"fill\":{\"color\":\"#C8D4E3\"},\"line\":{\"color\":\"white\"}},\"type\":\"table\"}],\"barpolar\":[{\"marker\":{\"line\":{\"color\":\"#E5ECF6\",\"width\":0.5},\"pattern\":{\"fillmode\":\"overlay\",\"size\":10,\"solidity\":0.2}},\"type\":\"barpolar\"}],\"pie\":[{\"automargin\":true,\"type\":\"pie\"}]},\"layout\":{\"autotypenumbers\":\"strict\",\"colorway\":[\"#636efa\",\"#EF553B\",\"#00cc96\",\"#ab63fa\",\"#FFA15A\",\"#19d3f3\",\"#FF6692\",\"#B6E880\",\"#FF97FF\",\"#FECB52\"],\"font\":{\"color\":\"#2a3f5f\"},\"hovermode\":\"closest\",\"hoverlabel\":{\"align\":\"left\"},\"paper_bgcolor\":\"white\",\"plot_bgcolor\":\"#E5ECF6\",\"polar\":{\"bgcolor\":\"#E5ECF6\",\"angularaxis\":{\"gridcolor\":\"white\",\"linecolor\":\"white\",\"ticks\":\"\"},\"radialaxis\":{\"gridcolor\":\"white\",\"linecolor\":\"white\",\"ticks\":\"\"}},\"ternary\":{\"bgcolor\":\"#E5ECF6\",\"aaxis\":{\"gridcolor\":\"white\",\"linecolor\":\"white\",\"ticks\":\"\"},\"baxis\":{\"gridcolor\":\"white\",\"linecolor\":\"white\",\"ticks\":\"\"},\"caxis\":{\"gridcolor\":\"white\",\"linecolor\":\"white\",\"ticks\":\"\"}},\"coloraxis\":{\"colorbar\":{\"outlinewidth\":0,\"ticks\":\"\"}},\"colorscale\":{\"sequential\":[[0.0,\"#0d0887\"],[0.1111111111111111,\"#46039f\"],[0.2222222222222222,\"#7201a8\"],[0.3333333333333333,\"#9c179e\"],[0.4444444444444444,\"#bd3786\"],[0.5555555555555556,\"#d8576b\"],[0.6666666666666666,\"#ed7953\"],[0.7777777777777778,\"#fb9f3a\"],[0.8888888888888888,\"#fdca26\"],[1.0,\"#f0f921\"]],\"sequentialminus\":[[0.0,\"#0d0887\"],[0.1111111111111111,\"#46039f\"],[0.2222222222222222,\"#7201a8\"],[0.3333333333333333,\"#9c179e\"],[0.4444444444444444,\"#bd3786\"],[0.5555555555555556,\"#d8576b\"],[0.6666666666666666,\"#ed7953\"],[0.7777777777777778,\"#fb9f3a\"],[0.8888888888888888,\"#fdca26\"],[1.0,\"#f0f921\"]],\"diverging\":[[0,\"#8e0152\"],[0.1,\"#c51b7d\"],[0.2,\"#de77ae\"],[0.3,\"#f1b6da\"],[0.4,\"#fde0ef\"],[0.5,\"#f7f7f7\"],[0.6,\"#e6f5d0\"],[0.7,\"#b8e186\"],[0.8,\"#7fbc41\"],[0.9,\"#4d9221\"],[1,\"#276419\"]]},\"xaxis\":{\"gridcolor\":\"white\",\"linecolor\":\"white\",\"ticks\":\"\",\"title\":{\"standoff\":15},\"zerolinecolor\":\"white\",\"automargin\":true,\"zerolinewidth\":2},\"yaxis\":{\"gridcolor\":\"white\",\"linecolor\":\"white\",\"ticks\":\"\",\"title\":{\"standoff\":15},\"zerolinecolor\":\"white\",\"automargin\":true,\"zerolinewidth\":2},\"scene\":{\"xaxis\":{\"backgroundcolor\":\"#E5ECF6\",\"gridcolor\":\"white\",\"linecolor\":\"white\",\"showbackground\":true,\"ticks\":\"\",\"zerolinecolor\":\"white\",\"gridwidth\":2},\"yaxis\":{\"backgroundcolor\":\"#E5ECF6\",\"gridcolor\":\"white\",\"linecolor\":\"white\",\"showbackground\":true,\"ticks\":\"\",\"zerolinecolor\":\"white\",\"gridwidth\":2},\"zaxis\":{\"backgroundcolor\":\"#E5ECF6\",\"gridcolor\":\"white\",\"linecolor\":\"white\",\"showbackground\":true,\"ticks\":\"\",\"zerolinecolor\":\"white\",\"gridwidth\":2}},\"shapedefaults\":{\"line\":{\"color\":\"#2a3f5f\"}},\"annotationdefaults\":{\"arrowcolor\":\"#2a3f5f\",\"arrowhead\":0,\"arrowwidth\":1},\"geo\":{\"bgcolor\":\"white\",\"landcolor\":\"#E5ECF6\",\"subunitcolor\":\"white\",\"showland\":true,\"showlakes\":true,\"lakecolor\":\"white\"},\"title\":{\"x\":0.05},\"mapbox\":{\"style\":\"light\"}}},\"xaxis\":{\"anchor\":\"y\",\"domain\":[0.0,1.0],\"title\":{\"text\":\"x\"}},\"yaxis\":{\"anchor\":\"x\",\"domain\":[0.0,1.0],\"title\":{\"text\":\"value\"}},\"legend\":{\"title\":{\"text\":\"variable\"},\"tracegroupgap\":0},\"margin\":{\"t\":60}},                        {\"responsive\": true}                    ).then(function(){\n",
       "                            \n",
       "var gd = document.getElementById('be0f790a-5c13-4c56-9ef6-139ad88989eb');\n",
       "var x = new MutationObserver(function (mutations, observer) {{\n",
       "        var display = window.getComputedStyle(gd).display;\n",
       "        if (!display || display === 'none') {{\n",
       "            console.log([gd, 'removed!']);\n",
       "            Plotly.purge(gd);\n",
       "            observer.disconnect();\n",
       "        }}\n",
       "}});\n",
       "\n",
       "// Listen for the removal of the full notebook cells\n",
       "var notebookContainer = gd.closest('#notebook-container');\n",
       "if (notebookContainer) {{\n",
       "    x.observe(notebookContainer, {childList: true});\n",
       "}}\n",
       "\n",
       "// Listen for the clearing of the current output cell\n",
       "var outputEl = gd.closest('.output');\n",
       "if (outputEl) {{\n",
       "    x.observe(outputEl, {childList: true});\n",
       "}}\n",
       "\n",
       "                        })                };                });            </script>        </div>"
      ]
     },
     "metadata": {},
     "output_type": "display_data"
    }
   ],
   "source": [
    "fig = px.line(df_loss, x=df_loss_train.index, y=['loss_tr', 'loss_t'])\n",
    "fig.show()"
   ]
  },
  {
   "cell_type": "code",
   "execution_count": 623,
   "id": "67a0c9d7-e678-4a7e-995e-a87cdfa1f691",
   "metadata": {},
   "outputs": [
    {
     "data": {
      "text/plain": [
       "<All keys matched successfully>"
      ]
     },
     "execution_count": 623,
     "metadata": {},
     "output_type": "execute_result"
    }
   ],
   "source": [
    "model.load_state_dict(torch.load(path))"
   ]
  },
  {
   "cell_type": "code",
   "execution_count": 765,
   "id": "d8464228-f63d-483a-bafb-11cc96d85373",
   "metadata": {},
   "outputs": [
    {
     "name": "stdout",
     "output_type": "stream",
     "text": [
      "(37, 1) (137, 1)\n"
     ]
    }
   ],
   "source": [
    "l_pred = []\n",
    "l_actuals = []\n",
    "for epoch in range(1):\n",
    "    model.eval()\n",
    "    with torch.no_grad():\n",
    "        for X, y in zip(X_ts[lenght_train:,:,:], y_ts[lenght_train:, :]):\n",
    "            y_pred = model(X)\n",
    "            y_pred = y_pred[0]\n",
    "            #print('y_pred: {}'.format(y_pred.shape))\n",
    "            l_pred.append(y_pred.detach().numpy())\n",
    "            #l_actuals.append(y)\n",
    "preds = np.asarray(l_pred)\n",
    "actuals = y_ts.numpy()\n",
    "\n",
    "print(preds.shape, actuals.shape)"
   ]
  },
  {
   "cell_type": "code",
   "execution_count": null,
   "id": "2eddfe7f-3738-4381-9682-ae936b3e8f71",
   "metadata": {},
   "outputs": [],
   "source": []
  },
  {
   "cell_type": "markdown",
   "id": "cd0e5a9a-527d-4975-a73c-3561fb664c70",
   "metadata": {},
   "source": [
    "# Preds visualization"
   ]
  },
  {
   "cell_type": "code",
   "execution_count": 766,
   "id": "70d99068-6384-4a85-8b03-400aa8da5bcb",
   "metadata": {},
   "outputs": [
    {
     "name": "stdout",
     "output_type": "stream",
     "text": [
      "df_actuals: (137, 1)\n",
      "df_preds: (37, 1)\n",
      "RangeIndex(start=0, stop=137, step=1)\n",
      "RangeIndex(start=100, stop=137, step=1)\n",
      "y2.shape: (37,)\n"
     ]
    }
   ],
   "source": [
    "df_actuals = pd.DataFrame(scaler.inverse_transform(actuals), columns=['actuals'])\n",
    "#print(df_actuals[0:5])\n",
    "\n",
    "df_preds = pd.DataFrame(scaler.inverse_transform(preds), columns=['preds'], index=range(lenght_train, len(y_ts)))\n",
    "#print(df_preds[0:5])\n",
    "\n",
    "#df_preds['shifted'] = df_preds['preds'].shift(seq_length - 1, axis=0)\n",
    "\n",
    "print('df_actuals: {}'.format(df_actuals.shape))\n",
    "print('df_preds: {}'.format(df_preds.shape))\n",
    "\n",
    "#print('df_actuals {}'.format(df_actuals))\n",
    "#print('df_preds {}'.format(df_preds))\n",
    "\n",
    "\n",
    "x1 = df_actuals.index\n",
    "x2 = df_preds.index\n",
    "\n",
    "print(x1)\n",
    "print(x2)\n",
    "\n",
    "y1 = df_actuals['actuals'].values\n",
    "y2 = df_preds['preds'].values\n",
    "\n",
    "print('y2.shape: {}'.format(y2.shape))\n"
   ]
  },
  {
   "cell_type": "code",
   "execution_count": 767,
   "id": "15d462bc-cbfc-4670-9424-023df98c474b",
   "metadata": {},
   "outputs": [
    {
     "data": {
      "application/vnd.plotly.v1+json": {
       "config": {
        "plotlyServerURL": "https://plot.ly"
       },
       "data": [
        {
         "name": "first",
         "type": "scatter",
         "x": [
          0,
          1,
          2,
          3,
          4,
          5,
          6,
          7,
          8,
          9,
          10,
          11,
          12,
          13,
          14,
          15,
          16,
          17,
          18,
          19,
          20,
          21,
          22,
          23,
          24,
          25,
          26,
          27,
          28,
          29,
          30,
          31,
          32,
          33,
          34,
          35,
          36,
          37,
          38,
          39,
          40,
          41,
          42,
          43,
          44,
          45,
          46,
          47,
          48,
          49,
          50,
          51,
          52,
          53,
          54,
          55,
          56,
          57,
          58,
          59,
          60,
          61,
          62,
          63,
          64,
          65,
          66,
          67,
          68,
          69,
          70,
          71,
          72,
          73,
          74,
          75,
          76,
          77,
          78,
          79,
          80,
          81,
          82,
          83,
          84,
          85,
          86,
          87,
          88,
          89,
          90,
          91,
          92,
          93,
          94,
          95,
          96,
          97,
          98,
          99,
          100,
          101,
          102,
          103,
          104,
          105,
          106,
          107,
          108,
          109,
          110,
          111,
          112,
          113,
          114,
          115,
          116,
          117,
          118,
          119,
          120,
          121,
          122,
          123,
          124,
          125,
          126,
          127,
          128,
          129,
          130,
          131,
          132,
          133,
          134,
          135,
          136
         ],
         "y": [
          136.63584899902344,
          136.63584899902344,
          129.22314453125,
          118.72181701660156,
          109.45594787597656,
          118.10409545898438,
          116.25091552734375,
          123.0458984375,
          132.311767578125,
          128.6054229736328,
          122.42816925048828,
          137.25357055664062,
          150.2257843017578,
          150.2257843017578,
          142.81309509277344,
          127.3699722290039,
          115.6332015991211,
          131.69403076171875,
          134.7826690673828,
          137.8712921142578,
          155.16758728027344,
          145.90171813964844,
          151.46124267578125,
          155.16758728027344,
          168.1398162841797,
          168.1398162841797,
          158.8739471435547,
          145.28399658203125,
          135.400390625,
          147.7548828125,
          150.84352111816406,
          156.40304565429688,
          164.4334716796875,
          157.02076721191406,
          158.25621032714844,
          179.8765869140625,
          187.28929138183594,
          194.70199584960938,
          174.3170623779297,
          163.19801330566406,
          151.46124267578125,
          165.0511932373047,
          166.28663635253906,
          166.28663635253906,
          190.99563598632812,
          190.37791442871094,
          186.67156982421875,
          195.31971740722656,
          208.2919464111328,
          213.23373413085938,
          191.61337280273438,
          175.55252075195312,
          156.40304565429688,
          169.37527465820312,
          171.2284393310547,
          161.3448486328125,
          190.37791442871094,
          185.4361114501953,
          189.76019287109375,
          208.2919464111328,
          231.76548767089844,
          226.20596313476562,
          205.2033233642578,
          186.67156982421875,
          170.6107177734375,
          186.67156982421875,
          194.70199584960938,
          189.14247131347656,
          210.14511108398438,
          211.3805694580078,
          211.998291015625,
          239.79591369628906,
          270.0644226074219,
          259.5631103515625,
          237.94273376464844,
          214.4691925048828,
          191.61337280273438,
          216.94009399414062,
          220.6464385986328,
          216.32237243652344,
          241.0313720703125,
          238.5604705810547,
          241.6490936279297,
          276.24169921875,
          300.33294677734375,
          295.39117431640625,
          264.5049133300781,
          234.23638916015625,
          212.6160125732422,
          234.23638916015625,
          239.79591369628906,
          231.14776611328125,
          265.1226501464844,
          260.18084716796875,
          264.5049133300781,
          305.8924865722656,
          332.45465087890625,
          333.6900939941406,
          294.7734375,
          259.5631103515625,
          233.61866760253906,
          252.7681427001953,
          255.23904418945312,
          241.6490936279297,
          268.8289794921875,
          260.18084716796875,
          269.44671630859375,
          313.92291259765625,
          348.5155029296875,
          357.1636657714844,
          294.7734375,
          266.9757995605469,
          236.70729064941406,
          253.3858642578125,
          267.5935363769531,
          256.4744873046875,
          296.0088806152344,
          289.8316345214844,
          304.65704345703125,
          336.77874755859375,
          383.725830078125,
          390.5207824707031,
          331.2192077636719,
          296.6266174316406,
          268.8289794921875,
          295.39117431640625,
          302.8038635253906,
          286.7430114746094,
          304.039306640625,
          329.9837646484375,
          336.77874755859375,
          375.6954040527344,
          429.4374694824219,
          419.5538635253906,
          359.0168151855469,
          329.9837646484375,
          286.1252746582031
         ]
        },
        {
         "name": "second",
         "type": "scatter",
         "x": [
          100,
          101,
          102,
          103,
          104,
          105,
          106,
          107,
          108,
          109,
          110,
          111,
          112,
          113,
          114,
          115,
          116,
          117,
          118,
          119,
          120,
          121,
          122,
          123,
          124,
          125,
          126,
          127,
          128,
          129,
          130,
          131,
          132,
          133,
          134,
          135,
          136
         ],
         "y": [
          229.06382751464844,
          260.7000732421875,
          259.8851013183594,
          257.0126647949219,
          270.7626647949219,
          273.0066223144531,
          271.1117248535156,
          294.6986999511719,
          321.7320861816406,
          327.1842956542969,
          313.9890441894531,
          282.4220275878906,
          248.94664001464844,
          275.59356689453125,
          264.3352966308594,
          265.3580627441406,
          273.2502746582031,
          297.7555847167969,
          296.0836181640625,
          340.4029541015625,
          359.9312744140625,
          392.0350341796875,
          342.322021484375,
          297.6473083496094,
          265.25762939453125,
          295.9190673828125,
          289.68768310546875,
          289.6231994628906,
          313.5800476074219,
          320.3987121582031,
          361.4189453125,
          338.926025390625,
          380.7519836425781,
          426.42266845703125,
          355.4887390136719,
          304.6155700683594,
          278.28167724609375
         ]
        }
       ],
       "layout": {
        "autosize": true,
        "shapes": [
         {
          "line": {
           "color": "green",
           "dash": "dash",
           "width": 3
          },
          "type": "line",
          "x0": 100,
          "x1": 100,
          "xref": "x",
          "y0": 0,
          "y1": 1,
          "yref": "y domain"
         }
        ],
        "template": {
         "data": {
          "bar": [
           {
            "error_x": {
             "color": "#2a3f5f"
            },
            "error_y": {
             "color": "#2a3f5f"
            },
            "marker": {
             "line": {
              "color": "#E5ECF6",
              "width": 0.5
             },
             "pattern": {
              "fillmode": "overlay",
              "size": 10,
              "solidity": 0.2
             }
            },
            "type": "bar"
           }
          ],
          "barpolar": [
           {
            "marker": {
             "line": {
              "color": "#E5ECF6",
              "width": 0.5
             },
             "pattern": {
              "fillmode": "overlay",
              "size": 10,
              "solidity": 0.2
             }
            },
            "type": "barpolar"
           }
          ],
          "carpet": [
           {
            "aaxis": {
             "endlinecolor": "#2a3f5f",
             "gridcolor": "white",
             "linecolor": "white",
             "minorgridcolor": "white",
             "startlinecolor": "#2a3f5f"
            },
            "baxis": {
             "endlinecolor": "#2a3f5f",
             "gridcolor": "white",
             "linecolor": "white",
             "minorgridcolor": "white",
             "startlinecolor": "#2a3f5f"
            },
            "type": "carpet"
           }
          ],
          "choropleth": [
           {
            "colorbar": {
             "outlinewidth": 0,
             "ticks": ""
            },
            "type": "choropleth"
           }
          ],
          "contour": [
           {
            "colorbar": {
             "outlinewidth": 0,
             "ticks": ""
            },
            "colorscale": [
             [
              0,
              "#0d0887"
             ],
             [
              0.1111111111111111,
              "#46039f"
             ],
             [
              0.2222222222222222,
              "#7201a8"
             ],
             [
              0.3333333333333333,
              "#9c179e"
             ],
             [
              0.4444444444444444,
              "#bd3786"
             ],
             [
              0.5555555555555556,
              "#d8576b"
             ],
             [
              0.6666666666666666,
              "#ed7953"
             ],
             [
              0.7777777777777778,
              "#fb9f3a"
             ],
             [
              0.8888888888888888,
              "#fdca26"
             ],
             [
              1,
              "#f0f921"
             ]
            ],
            "type": "contour"
           }
          ],
          "contourcarpet": [
           {
            "colorbar": {
             "outlinewidth": 0,
             "ticks": ""
            },
            "type": "contourcarpet"
           }
          ],
          "heatmap": [
           {
            "colorbar": {
             "outlinewidth": 0,
             "ticks": ""
            },
            "colorscale": [
             [
              0,
              "#0d0887"
             ],
             [
              0.1111111111111111,
              "#46039f"
             ],
             [
              0.2222222222222222,
              "#7201a8"
             ],
             [
              0.3333333333333333,
              "#9c179e"
             ],
             [
              0.4444444444444444,
              "#bd3786"
             ],
             [
              0.5555555555555556,
              "#d8576b"
             ],
             [
              0.6666666666666666,
              "#ed7953"
             ],
             [
              0.7777777777777778,
              "#fb9f3a"
             ],
             [
              0.8888888888888888,
              "#fdca26"
             ],
             [
              1,
              "#f0f921"
             ]
            ],
            "type": "heatmap"
           }
          ],
          "heatmapgl": [
           {
            "colorbar": {
             "outlinewidth": 0,
             "ticks": ""
            },
            "colorscale": [
             [
              0,
              "#0d0887"
             ],
             [
              0.1111111111111111,
              "#46039f"
             ],
             [
              0.2222222222222222,
              "#7201a8"
             ],
             [
              0.3333333333333333,
              "#9c179e"
             ],
             [
              0.4444444444444444,
              "#bd3786"
             ],
             [
              0.5555555555555556,
              "#d8576b"
             ],
             [
              0.6666666666666666,
              "#ed7953"
             ],
             [
              0.7777777777777778,
              "#fb9f3a"
             ],
             [
              0.8888888888888888,
              "#fdca26"
             ],
             [
              1,
              "#f0f921"
             ]
            ],
            "type": "heatmapgl"
           }
          ],
          "histogram": [
           {
            "marker": {
             "pattern": {
              "fillmode": "overlay",
              "size": 10,
              "solidity": 0.2
             }
            },
            "type": "histogram"
           }
          ],
          "histogram2d": [
           {
            "colorbar": {
             "outlinewidth": 0,
             "ticks": ""
            },
            "colorscale": [
             [
              0,
              "#0d0887"
             ],
             [
              0.1111111111111111,
              "#46039f"
             ],
             [
              0.2222222222222222,
              "#7201a8"
             ],
             [
              0.3333333333333333,
              "#9c179e"
             ],
             [
              0.4444444444444444,
              "#bd3786"
             ],
             [
              0.5555555555555556,
              "#d8576b"
             ],
             [
              0.6666666666666666,
              "#ed7953"
             ],
             [
              0.7777777777777778,
              "#fb9f3a"
             ],
             [
              0.8888888888888888,
              "#fdca26"
             ],
             [
              1,
              "#f0f921"
             ]
            ],
            "type": "histogram2d"
           }
          ],
          "histogram2dcontour": [
           {
            "colorbar": {
             "outlinewidth": 0,
             "ticks": ""
            },
            "colorscale": [
             [
              0,
              "#0d0887"
             ],
             [
              0.1111111111111111,
              "#46039f"
             ],
             [
              0.2222222222222222,
              "#7201a8"
             ],
             [
              0.3333333333333333,
              "#9c179e"
             ],
             [
              0.4444444444444444,
              "#bd3786"
             ],
             [
              0.5555555555555556,
              "#d8576b"
             ],
             [
              0.6666666666666666,
              "#ed7953"
             ],
             [
              0.7777777777777778,
              "#fb9f3a"
             ],
             [
              0.8888888888888888,
              "#fdca26"
             ],
             [
              1,
              "#f0f921"
             ]
            ],
            "type": "histogram2dcontour"
           }
          ],
          "mesh3d": [
           {
            "colorbar": {
             "outlinewidth": 0,
             "ticks": ""
            },
            "type": "mesh3d"
           }
          ],
          "parcoords": [
           {
            "line": {
             "colorbar": {
              "outlinewidth": 0,
              "ticks": ""
             }
            },
            "type": "parcoords"
           }
          ],
          "pie": [
           {
            "automargin": true,
            "type": "pie"
           }
          ],
          "scatter": [
           {
            "fillpattern": {
             "fillmode": "overlay",
             "size": 10,
             "solidity": 0.2
            },
            "type": "scatter"
           }
          ],
          "scatter3d": [
           {
            "line": {
             "colorbar": {
              "outlinewidth": 0,
              "ticks": ""
             }
            },
            "marker": {
             "colorbar": {
              "outlinewidth": 0,
              "ticks": ""
             }
            },
            "type": "scatter3d"
           }
          ],
          "scattercarpet": [
           {
            "marker": {
             "colorbar": {
              "outlinewidth": 0,
              "ticks": ""
             }
            },
            "type": "scattercarpet"
           }
          ],
          "scattergeo": [
           {
            "marker": {
             "colorbar": {
              "outlinewidth": 0,
              "ticks": ""
             }
            },
            "type": "scattergeo"
           }
          ],
          "scattergl": [
           {
            "marker": {
             "colorbar": {
              "outlinewidth": 0,
              "ticks": ""
             }
            },
            "type": "scattergl"
           }
          ],
          "scattermapbox": [
           {
            "marker": {
             "colorbar": {
              "outlinewidth": 0,
              "ticks": ""
             }
            },
            "type": "scattermapbox"
           }
          ],
          "scatterpolar": [
           {
            "marker": {
             "colorbar": {
              "outlinewidth": 0,
              "ticks": ""
             }
            },
            "type": "scatterpolar"
           }
          ],
          "scatterpolargl": [
           {
            "marker": {
             "colorbar": {
              "outlinewidth": 0,
              "ticks": ""
             }
            },
            "type": "scatterpolargl"
           }
          ],
          "scatterternary": [
           {
            "marker": {
             "colorbar": {
              "outlinewidth": 0,
              "ticks": ""
             }
            },
            "type": "scatterternary"
           }
          ],
          "surface": [
           {
            "colorbar": {
             "outlinewidth": 0,
             "ticks": ""
            },
            "colorscale": [
             [
              0,
              "#0d0887"
             ],
             [
              0.1111111111111111,
              "#46039f"
             ],
             [
              0.2222222222222222,
              "#7201a8"
             ],
             [
              0.3333333333333333,
              "#9c179e"
             ],
             [
              0.4444444444444444,
              "#bd3786"
             ],
             [
              0.5555555555555556,
              "#d8576b"
             ],
             [
              0.6666666666666666,
              "#ed7953"
             ],
             [
              0.7777777777777778,
              "#fb9f3a"
             ],
             [
              0.8888888888888888,
              "#fdca26"
             ],
             [
              1,
              "#f0f921"
             ]
            ],
            "type": "surface"
           }
          ],
          "table": [
           {
            "cells": {
             "fill": {
              "color": "#EBF0F8"
             },
             "line": {
              "color": "white"
             }
            },
            "header": {
             "fill": {
              "color": "#C8D4E3"
             },
             "line": {
              "color": "white"
             }
            },
            "type": "table"
           }
          ]
         },
         "layout": {
          "annotationdefaults": {
           "arrowcolor": "#2a3f5f",
           "arrowhead": 0,
           "arrowwidth": 1
          },
          "autotypenumbers": "strict",
          "coloraxis": {
           "colorbar": {
            "outlinewidth": 0,
            "ticks": ""
           }
          },
          "colorscale": {
           "diverging": [
            [
             0,
             "#8e0152"
            ],
            [
             0.1,
             "#c51b7d"
            ],
            [
             0.2,
             "#de77ae"
            ],
            [
             0.3,
             "#f1b6da"
            ],
            [
             0.4,
             "#fde0ef"
            ],
            [
             0.5,
             "#f7f7f7"
            ],
            [
             0.6,
             "#e6f5d0"
            ],
            [
             0.7,
             "#b8e186"
            ],
            [
             0.8,
             "#7fbc41"
            ],
            [
             0.9,
             "#4d9221"
            ],
            [
             1,
             "#276419"
            ]
           ],
           "sequential": [
            [
             0,
             "#0d0887"
            ],
            [
             0.1111111111111111,
             "#46039f"
            ],
            [
             0.2222222222222222,
             "#7201a8"
            ],
            [
             0.3333333333333333,
             "#9c179e"
            ],
            [
             0.4444444444444444,
             "#bd3786"
            ],
            [
             0.5555555555555556,
             "#d8576b"
            ],
            [
             0.6666666666666666,
             "#ed7953"
            ],
            [
             0.7777777777777778,
             "#fb9f3a"
            ],
            [
             0.8888888888888888,
             "#fdca26"
            ],
            [
             1,
             "#f0f921"
            ]
           ],
           "sequentialminus": [
            [
             0,
             "#0d0887"
            ],
            [
             0.1111111111111111,
             "#46039f"
            ],
            [
             0.2222222222222222,
             "#7201a8"
            ],
            [
             0.3333333333333333,
             "#9c179e"
            ],
            [
             0.4444444444444444,
             "#bd3786"
            ],
            [
             0.5555555555555556,
             "#d8576b"
            ],
            [
             0.6666666666666666,
             "#ed7953"
            ],
            [
             0.7777777777777778,
             "#fb9f3a"
            ],
            [
             0.8888888888888888,
             "#fdca26"
            ],
            [
             1,
             "#f0f921"
            ]
           ]
          },
          "colorway": [
           "#636efa",
           "#EF553B",
           "#00cc96",
           "#ab63fa",
           "#FFA15A",
           "#19d3f3",
           "#FF6692",
           "#B6E880",
           "#FF97FF",
           "#FECB52"
          ],
          "font": {
           "color": "#2a3f5f"
          },
          "geo": {
           "bgcolor": "white",
           "lakecolor": "white",
           "landcolor": "#E5ECF6",
           "showlakes": true,
           "showland": true,
           "subunitcolor": "white"
          },
          "hoverlabel": {
           "align": "left"
          },
          "hovermode": "closest",
          "mapbox": {
           "style": "light"
          },
          "paper_bgcolor": "white",
          "plot_bgcolor": "#E5ECF6",
          "polar": {
           "angularaxis": {
            "gridcolor": "white",
            "linecolor": "white",
            "ticks": ""
           },
           "bgcolor": "#E5ECF6",
           "radialaxis": {
            "gridcolor": "white",
            "linecolor": "white",
            "ticks": ""
           }
          },
          "scene": {
           "xaxis": {
            "backgroundcolor": "#E5ECF6",
            "gridcolor": "white",
            "gridwidth": 2,
            "linecolor": "white",
            "showbackground": true,
            "ticks": "",
            "zerolinecolor": "white"
           },
           "yaxis": {
            "backgroundcolor": "#E5ECF6",
            "gridcolor": "white",
            "gridwidth": 2,
            "linecolor": "white",
            "showbackground": true,
            "ticks": "",
            "zerolinecolor": "white"
           },
           "zaxis": {
            "backgroundcolor": "#E5ECF6",
            "gridcolor": "white",
            "gridwidth": 2,
            "linecolor": "white",
            "showbackground": true,
            "ticks": "",
            "zerolinecolor": "white"
           }
          },
          "shapedefaults": {
           "line": {
            "color": "#2a3f5f"
           }
          },
          "ternary": {
           "aaxis": {
            "gridcolor": "white",
            "linecolor": "white",
            "ticks": ""
           },
           "baxis": {
            "gridcolor": "white",
            "linecolor": "white",
            "ticks": ""
           },
           "bgcolor": "#E5ECF6",
           "caxis": {
            "gridcolor": "white",
            "linecolor": "white",
            "ticks": ""
           }
          },
          "title": {
           "x": 0.05
          },
          "xaxis": {
           "automargin": true,
           "gridcolor": "white",
           "linecolor": "white",
           "ticks": "",
           "title": {
            "standoff": 15
           },
           "zerolinecolor": "white",
           "zerolinewidth": 2
          },
          "yaxis": {
           "automargin": true,
           "gridcolor": "white",
           "linecolor": "white",
           "ticks": "",
           "title": {
            "standoff": 15
           },
           "zerolinecolor": "white",
           "zerolinewidth": 2
          }
         }
        },
        "title": {
         "text": "nb passengers pred."
        },
        "xaxis": {
         "autorange": true,
         "range": [
          0,
          136
         ],
         "title": {
          "text": "Months"
         },
         "type": "linear"
        },
        "yaxis": {
         "autorange": true,
         "range": [
          91.67919667561848,
          447.21422068277997
         ],
         "title": {
          "text": "Nb passengers"
         },
         "type": "linear"
        }
       }
      },
      "image/png": "[encoded data removed]",
      "text/html": [
       "<div>                            <div id=\"0274263d-8d89-4e14-ae38-66d3b6fee024\" class=\"plotly-graph-div\" style=\"height:525px; width:100%;\"></div>            <script type=\"text/javascript\">                require([\"plotly\"], function(Plotly) {                    window.PLOTLYENV=window.PLOTLYENV || {};                                    if (document.getElementById(\"0274263d-8d89-4e14-ae38-66d3b6fee024\")) {                    Plotly.newPlot(                        \"0274263d-8d89-4e14-ae38-66d3b6fee024\",                        [{\"name\":\"first\",\"x\":[0,1,2,3,4,5,6,7,8,9,10,11,12,13,14,15,16,17,18,19,20,21,22,23,24,25,26,27,28,29,30,31,32,33,34,35,36,37,38,39,40,41,42,43,44,45,46,47,48,49,50,51,52,53,54,55,56,57,58,59,60,61,62,63,64,65,66,67,68,69,70,71,72,73,74,75,76,77,78,79,80,81,82,83,84,85,86,87,88,89,90,91,92,93,94,95,96,97,98,99,100,101,102,103,104,105,106,107,108,109,110,111,112,113,114,115,116,117,118,119,120,121,122,123,124,125,126,127,128,129,130,131,132,133,134,135,136],\"y\":[136.63584899902344,136.63584899902344,129.22314453125,118.72181701660156,109.45594787597656,118.10409545898438,116.25091552734375,123.0458984375,132.311767578125,128.6054229736328,122.42816925048828,137.25357055664062,150.2257843017578,150.2257843017578,142.81309509277344,127.3699722290039,115.6332015991211,131.69403076171875,134.7826690673828,137.8712921142578,155.16758728027344,145.90171813964844,151.46124267578125,155.16758728027344,168.1398162841797,168.1398162841797,158.8739471435547,145.28399658203125,135.400390625,147.7548828125,150.84352111816406,156.40304565429688,164.4334716796875,157.02076721191406,158.25621032714844,179.8765869140625,187.28929138183594,194.70199584960938,174.3170623779297,163.19801330566406,151.46124267578125,165.0511932373047,166.28663635253906,166.28663635253906,190.99563598632812,190.37791442871094,186.67156982421875,195.31971740722656,208.2919464111328,213.23373413085938,191.61337280273438,175.55252075195312,156.40304565429688,169.37527465820312,171.2284393310547,161.3448486328125,190.37791442871094,185.4361114501953,189.76019287109375,208.2919464111328,231.76548767089844,226.20596313476562,205.2033233642578,186.67156982421875,170.6107177734375,186.67156982421875,194.70199584960938,189.14247131347656,210.14511108398438,211.3805694580078,211.998291015625,239.79591369628906,270.0644226074219,259.5631103515625,237.94273376464844,214.4691925048828,191.61337280273438,216.94009399414062,220.6464385986328,216.32237243652344,241.0313720703125,238.5604705810547,241.6490936279297,276.24169921875,300.33294677734375,295.39117431640625,264.5049133300781,234.23638916015625,212.6160125732422,234.23638916015625,239.79591369628906,231.14776611328125,265.1226501464844,260.18084716796875,264.5049133300781,305.8924865722656,332.45465087890625,333.6900939941406,294.7734375,259.5631103515625,233.61866760253906,252.7681427001953,255.23904418945312,241.6490936279297,268.8289794921875,260.18084716796875,269.44671630859375,313.92291259765625,348.5155029296875,357.1636657714844,294.7734375,266.9757995605469,236.70729064941406,253.3858642578125,267.5935363769531,256.4744873046875,296.0088806152344,289.8316345214844,304.65704345703125,336.77874755859375,383.725830078125,390.5207824707031,331.2192077636719,296.6266174316406,268.8289794921875,295.39117431640625,302.8038635253906,286.7430114746094,304.039306640625,329.9837646484375,336.77874755859375,375.6954040527344,429.4374694824219,419.5538635253906,359.0168151855469,329.9837646484375,286.1252746582031],\"type\":\"scatter\"},{\"name\":\"second\",\"x\":[100,101,102,103,104,105,106,107,108,109,110,111,112,113,114,115,116,117,118,119,120,121,122,123,124,125,126,127,128,129,130,131,132,133,134,135,136],\"y\":[229.06382751464844,260.7000732421875,259.8851013183594,257.0126647949219,270.7626647949219,273.0066223144531,271.1117248535156,294.6986999511719,321.7320861816406,327.1842956542969,313.9890441894531,282.4220275878906,248.94664001464844,275.59356689453125,264.3352966308594,265.3580627441406,273.2502746582031,297.7555847167969,296.0836181640625,340.4029541015625,359.9312744140625,392.0350341796875,342.322021484375,297.6473083496094,265.25762939453125,295.9190673828125,289.68768310546875,289.6231994628906,313.5800476074219,320.3987121582031,361.4189453125,338.926025390625,380.7519836425781,426.42266845703125,355.4887390136719,304.6155700683594,278.28167724609375],\"type\":\"scatter\"}],                        {\"title\":{\"text\":\"nb passengers pred.\"},\"xaxis\":{\"title\":{\"text\":\"Months\"}},\"yaxis\":{\"title\":{\"text\":\"Nb passengers\"}},\"template\":{\"data\":{\"histogram2dcontour\":[{\"type\":\"histogram2dcontour\",\"colorbar\":{\"outlinewidth\":0,\"ticks\":\"\"},\"colorscale\":[[0.0,\"#0d0887\"],[0.1111111111111111,\"#46039f\"],[0.2222222222222222,\"#7201a8\"],[0.3333333333333333,\"#9c179e\"],[0.4444444444444444,\"#bd3786\"],[0.5555555555555556,\"#d8576b\"],[0.6666666666666666,\"#ed7953\"],[0.7777777777777778,\"#fb9f3a\"],[0.8888888888888888,\"#fdca26\"],[1.0,\"#f0f921\"]]}],\"choropleth\":[{\"type\":\"choropleth\",\"colorbar\":{\"outlinewidth\":0,\"ticks\":\"\"}}],\"histogram2d\":[{\"type\":\"histogram2d\",\"colorbar\":{\"outlinewidth\":0,\"ticks\":\"\"},\"colorscale\":[[0.0,\"#0d0887\"],[0.1111111111111111,\"#46039f\"],[0.2222222222222222,\"#7201a8\"],[0.3333333333333333,\"#9c179e\"],[0.4444444444444444,\"#bd3786\"],[0.5555555555555556,\"#d8576b\"],[0.6666666666666666,\"#ed7953\"],[0.7777777777777778,\"#fb9f3a\"],[0.8888888888888888,\"#fdca26\"],[1.0,\"#f0f921\"]]}],\"heatmap\":[{\"type\":\"heatmap\",\"colorbar\":{\"outlinewidth\":0,\"ticks\":\"\"},\"colorscale\":[[0.0,\"#0d0887\"],[0.1111111111111111,\"#46039f\"],[0.2222222222222222,\"#7201a8\"],[0.3333333333333333,\"#9c179e\"],[0.4444444444444444,\"#bd3786\"],[0.5555555555555556,\"#d8576b\"],[0.6666666666666666,\"#ed7953\"],[0.7777777777777778,\"#fb9f3a\"],[0.8888888888888888,\"#fdca26\"],[1.0,\"#f0f921\"]]}],\"heatmapgl\":[{\"type\":\"heatmapgl\",\"colorbar\":{\"outlinewidth\":0,\"ticks\":\"\"},\"colorscale\":[[0.0,\"#0d0887\"],[0.1111111111111111,\"#46039f\"],[0.2222222222222222,\"#7201a8\"],[0.3333333333333333,\"#9c179e\"],[0.4444444444444444,\"#bd3786\"],[0.5555555555555556,\"#d8576b\"],[0.6666666666666666,\"#ed7953\"],[0.7777777777777778,\"#fb9f3a\"],[0.8888888888888888,\"#fdca26\"],[1.0,\"#f0f921\"]]}],\"contourcarpet\":[{\"type\":\"contourcarpet\",\"colorbar\":{\"outlinewidth\":0,\"ticks\":\"\"}}],\"contour\":[{\"type\":\"contour\",\"colorbar\":{\"outlinewidth\":0,\"ticks\":\"\"},\"colorscale\":[[0.0,\"#0d0887\"],[0.1111111111111111,\"#46039f\"],[0.2222222222222222,\"#7201a8\"],[0.3333333333333333,\"#9c179e\"],[0.4444444444444444,\"#bd3786\"],[0.5555555555555556,\"#d8576b\"],[0.6666666666666666,\"#ed7953\"],[0.7777777777777778,\"#fb9f3a\"],[0.8888888888888888,\"#fdca26\"],[1.0,\"#f0f921\"]]}],\"surface\":[{\"type\":\"surface\",\"colorbar\":{\"outlinewidth\":0,\"ticks\":\"\"},\"colorscale\":[[0.0,\"#0d0887\"],[0.1111111111111111,\"#46039f\"],[0.2222222222222222,\"#7201a8\"],[0.3333333333333333,\"#9c179e\"],[0.4444444444444444,\"#bd3786\"],[0.5555555555555556,\"#d8576b\"],[0.6666666666666666,\"#ed7953\"],[0.7777777777777778,\"#fb9f3a\"],[0.8888888888888888,\"#fdca26\"],[1.0,\"#f0f921\"]]}],\"mesh3d\":[{\"type\":\"mesh3d\",\"colorbar\":{\"outlinewidth\":0,\"ticks\":\"\"}}],\"scatter\":[{\"fillpattern\":{\"fillmode\":\"overlay\",\"size\":10,\"solidity\":0.2},\"type\":\"scatter\"}],\"parcoords\":[{\"type\":\"parcoords\",\"line\":{\"colorbar\":{\"outlinewidth\":0,\"ticks\":\"\"}}}],\"scatterpolargl\":[{\"type\":\"scatterpolargl\",\"marker\":{\"colorbar\":{\"outlinewidth\":0,\"ticks\":\"\"}}}],\"bar\":[{\"error_x\":{\"color\":\"#2a3f5f\"},\"error_y\":{\"color\":\"#2a3f5f\"},\"marker\":{\"line\":{\"color\":\"#E5ECF6\",\"width\":0.5},\"pattern\":{\"fillmode\":\"overlay\",\"size\":10,\"solidity\":0.2}},\"type\":\"bar\"}],\"scattergeo\":[{\"type\":\"scattergeo\",\"marker\":{\"colorbar\":{\"outlinewidth\":0,\"ticks\":\"\"}}}],\"scatterpolar\":[{\"type\":\"scatterpolar\",\"marker\":{\"colorbar\":{\"outlinewidth\":0,\"ticks\":\"\"}}}],\"histogram\":[{\"marker\":{\"pattern\":{\"fillmode\":\"overlay\",\"size\":10,\"solidity\":0.2}},\"type\":\"histogram\"}],\"scattergl\":[{\"type\":\"scattergl\",\"marker\":{\"colorbar\":{\"outlinewidth\":0,\"ticks\":\"\"}}}],\"scatter3d\":[{\"type\":\"scatter3d\",\"line\":{\"colorbar\":{\"outlinewidth\":0,\"ticks\":\"\"}},\"marker\":{\"colorbar\":{\"outlinewidth\":0,\"ticks\":\"\"}}}],\"scattermapbox\":[{\"type\":\"scattermapbox\",\"marker\":{\"colorbar\":{\"outlinewidth\":0,\"ticks\":\"\"}}}],\"scatterternary\":[{\"type\":\"scatterternary\",\"marker\":{\"colorbar\":{\"outlinewidth\":0,\"ticks\":\"\"}}}],\"scattercarpet\":[{\"type\":\"scattercarpet\",\"marker\":{\"colorbar\":{\"outlinewidth\":0,\"ticks\":\"\"}}}],\"carpet\":[{\"aaxis\":{\"endlinecolor\":\"#2a3f5f\",\"gridcolor\":\"white\",\"linecolor\":\"white\",\"minorgridcolor\":\"white\",\"startlinecolor\":\"#2a3f5f\"},\"baxis\":{\"endlinecolor\":\"#2a3f5f\",\"gridcolor\":\"white\",\"linecolor\":\"white\",\"minorgridcolor\":\"white\",\"startlinecolor\":\"#2a3f5f\"},\"type\":\"carpet\"}],\"table\":[{\"cells\":{\"fill\":{\"color\":\"#EBF0F8\"},\"line\":{\"color\":\"white\"}},\"header\":{\"fill\":{\"color\":\"#C8D4E3\"},\"line\":{\"color\":\"white\"}},\"type\":\"table\"}],\"barpolar\":[{\"marker\":{\"line\":{\"color\":\"#E5ECF6\",\"width\":0.5},\"pattern\":{\"fillmode\":\"overlay\",\"size\":10,\"solidity\":0.2}},\"type\":\"barpolar\"}],\"pie\":[{\"automargin\":true,\"type\":\"pie\"}]},\"layout\":{\"autotypenumbers\":\"strict\",\"colorway\":[\"#636efa\",\"#EF553B\",\"#00cc96\",\"#ab63fa\",\"#FFA15A\",\"#19d3f3\",\"#FF6692\",\"#B6E880\",\"#FF97FF\",\"#FECB52\"],\"font\":{\"color\":\"#2a3f5f\"},\"hovermode\":\"closest\",\"hoverlabel\":{\"align\":\"left\"},\"paper_bgcolor\":\"white\",\"plot_bgcolor\":\"#E5ECF6\",\"polar\":{\"bgcolor\":\"#E5ECF6\",\"angularaxis\":{\"gridcolor\":\"white\",\"linecolor\":\"white\",\"ticks\":\"\"},\"radialaxis\":{\"gridcolor\":\"white\",\"linecolor\":\"white\",\"ticks\":\"\"}},\"ternary\":{\"bgcolor\":\"#E5ECF6\",\"aaxis\":{\"gridcolor\":\"white\",\"linecolor\":\"white\",\"ticks\":\"\"},\"baxis\":{\"gridcolor\":\"white\",\"linecolor\":\"white\",\"ticks\":\"\"},\"caxis\":{\"gridcolor\":\"white\",\"linecolor\":\"white\",\"ticks\":\"\"}},\"coloraxis\":{\"colorbar\":{\"outlinewidth\":0,\"ticks\":\"\"}},\"colorscale\":{\"sequential\":[[0.0,\"#0d0887\"],[0.1111111111111111,\"#46039f\"],[0.2222222222222222,\"#7201a8\"],[0.3333333333333333,\"#9c179e\"],[0.4444444444444444,\"#bd3786\"],[0.5555555555555556,\"#d8576b\"],[0.6666666666666666,\"#ed7953\"],[0.7777777777777778,\"#fb9f3a\"],[0.8888888888888888,\"#fdca26\"],[1.0,\"#f0f921\"]],\"sequentialminus\":[[0.0,\"#0d0887\"],[0.1111111111111111,\"#46039f\"],[0.2222222222222222,\"#7201a8\"],[0.3333333333333333,\"#9c179e\"],[0.4444444444444444,\"#bd3786\"],[0.5555555555555556,\"#d8576b\"],[0.6666666666666666,\"#ed7953\"],[0.7777777777777778,\"#fb9f3a\"],[0.8888888888888888,\"#fdca26\"],[1.0,\"#f0f921\"]],\"diverging\":[[0,\"#8e0152\"],[0.1,\"#c51b7d\"],[0.2,\"#de77ae\"],[0.3,\"#f1b6da\"],[0.4,\"#fde0ef\"],[0.5,\"#f7f7f7\"],[0.6,\"#e6f5d0\"],[0.7,\"#b8e186\"],[0.8,\"#7fbc41\"],[0.9,\"#4d9221\"],[1,\"#276419\"]]},\"xaxis\":{\"gridcolor\":\"white\",\"linecolor\":\"white\",\"ticks\":\"\",\"title\":{\"standoff\":15},\"zerolinecolor\":\"white\",\"automargin\":true,\"zerolinewidth\":2},\"yaxis\":{\"gridcolor\":\"white\",\"linecolor\":\"white\",\"ticks\":\"\",\"title\":{\"standoff\":15},\"zerolinecolor\":\"white\",\"automargin\":true,\"zerolinewidth\":2},\"scene\":{\"xaxis\":{\"backgroundcolor\":\"#E5ECF6\",\"gridcolor\":\"white\",\"linecolor\":\"white\",\"showbackground\":true,\"ticks\":\"\",\"zerolinecolor\":\"white\",\"gridwidth\":2},\"yaxis\":{\"backgroundcolor\":\"#E5ECF6\",\"gridcolor\":\"white\",\"linecolor\":\"white\",\"showbackground\":true,\"ticks\":\"\",\"zerolinecolor\":\"white\",\"gridwidth\":2},\"zaxis\":{\"backgroundcolor\":\"#E5ECF6\",\"gridcolor\":\"white\",\"linecolor\":\"white\",\"showbackground\":true,\"ticks\":\"\",\"zerolinecolor\":\"white\",\"gridwidth\":2}},\"shapedefaults\":{\"line\":{\"color\":\"#2a3f5f\"}},\"annotationdefaults\":{\"arrowcolor\":\"#2a3f5f\",\"arrowhead\":0,\"arrowwidth\":1},\"geo\":{\"bgcolor\":\"white\",\"landcolor\":\"#E5ECF6\",\"subunitcolor\":\"white\",\"showland\":true,\"showlakes\":true,\"lakecolor\":\"white\"},\"title\":{\"x\":0.05},\"mapbox\":{\"style\":\"light\"}}},\"shapes\":[{\"line\":{\"color\":\"green\",\"dash\":\"dash\",\"width\":3},\"type\":\"line\",\"x0\":100,\"x1\":100,\"xref\":\"x\",\"y0\":0,\"y1\":1,\"yref\":\"y domain\"}]},                        {\"responsive\": true}                    ).then(function(){\n",
       "                            \n",
       "var gd = document.getElementById('0274263d-8d89-4e14-ae38-66d3b6fee024');\n",
       "var x = new MutationObserver(function (mutations, observer) {{\n",
       "        var display = window.getComputedStyle(gd).display;\n",
       "        if (!display || display === 'none') {{\n",
       "            console.log([gd, 'removed!']);\n",
       "            Plotly.purge(gd);\n",
       "            observer.disconnect();\n",
       "        }}\n",
       "}});\n",
       "\n",
       "// Listen for the removal of the full notebook cells\n",
       "var notebookContainer = gd.closest('#notebook-container');\n",
       "if (notebookContainer) {{\n",
       "    x.observe(notebookContainer, {childList: true});\n",
       "}}\n",
       "\n",
       "// Listen for the clearing of the current output cell\n",
       "var outputEl = gd.closest('.output');\n",
       "if (outputEl) {{\n",
       "    x.observe(outputEl, {childList: true});\n",
       "}}\n",
       "\n",
       "                        })                };                });            </script>        </div>"
      ]
     },
     "metadata": {},
     "output_type": "display_data"
    }
   ],
   "source": [
    "f1 = go.Figure(\n",
    "    data = [\n",
    "        go.Scatter(x=x1, y=y1, name=\"first\"),\n",
    "        go.Scatter(x=x2, y=y2, name=\"second\"),\n",
    "    ],\n",
    "    layout = {\"xaxis\": {\"title\": \"Months\"}, \"yaxis\": {\"title\": \"Nb passengers\"}, \"title\": \"nb passengers pred.\"}\n",
    ")\n",
    "f1.add_vline(x=lenght_train, line_width=3, line_dash=\"dash\", line_color=\"green\")\n",
    "f1.show()\n"
   ]
  },
  {
   "cell_type": "markdown",
   "id": "176b35ea-107f-4115-ad2f-f1b3bacbbfce",
   "metadata": {},
   "source": [
    "# Preds metrics"
   ]
  },
  {
   "cell_type": "code",
   "execution_count": 768,
   "id": "b4d6c2e9-dd18-4d61-ab8f-0e6a4126b401",
   "metadata": {},
   "outputs": [],
   "source": [
    "actuals = y_ts[lenght_train:, :].numpy()\n",
    "actuals = scaler.inverse_transform(actuals)\n",
    "preds = scaler.inverse_transform(preds)"
   ]
  },
  {
   "cell_type": "code",
   "execution_count": 769,
   "id": "b7bbc911-456c-4610-9fcb-de51d801e811",
   "metadata": {},
   "outputs": [
    {
     "name": "stdout",
     "output_type": "stream",
     "text": [
      "actuals.shape: (37, 1)\n",
      "preds.shape: (37, 1)\n"
     ]
    }
   ],
   "source": [
    "print('actuals.shape: {}'.format(actuals.shape))\n",
    "print('preds.shape: {}'.format(preds.shape))"
   ]
  },
  {
   "cell_type": "code",
   "execution_count": 780,
   "id": "23080ca8-df83-4fd3-abf5-0aaa070215a2",
   "metadata": {},
   "outputs": [
    {
     "name": "stdout",
     "output_type": "stream",
     "text": [
      "mse: 288.3475036621094, mae: 12.95665454864502\n",
      "error in %: 0.040980786085128784\n"
     ]
    }
   ],
   "source": [
    "mse = mean_squared_error(actuals, preds)\n",
    "mae = mean_absolute_error(actuals, preds)\n",
    "mae_percent = mean_absolute_percentage_error(actuals, preds)\n",
    "print('mse: {}, mae: {}'.format(mse, mae, np.round((mae/np.sum(actuals)), 3)))\n",
    "print('error in %: {}'.format(mae_percent))\n"
   ]
  },
  {
   "cell_type": "code",
   "execution_count": null,
   "id": "e1fb8afa-6932-40da-9348-b3be2512fc56",
   "metadata": {},
   "outputs": [],
   "source": []
  },
  {
   "cell_type": "code",
   "execution_count": null,
   "id": "a97ede58-42e5-4a0f-925a-061a28ec0a75",
   "metadata": {},
   "outputs": [],
   "source": []
  },
  {
   "cell_type": "code",
   "execution_count": null,
   "id": "07cd6326-0232-472d-bab3-b19ec8773cdc",
   "metadata": {},
   "outputs": [],
   "source": []
  },
  {
   "cell_type": "code",
   "execution_count": null,
   "id": "18091a43-4807-4071-8a68-bdec706b474f",
   "metadata": {},
   "outputs": [],
   "source": []
  },
  {
   "cell_type": "code",
   "execution_count": null,
   "id": "c5e44b18-8e62-48c0-8c21-49cbb6f6f67c",
   "metadata": {},
   "outputs": [],
   "source": [
    "input_size = 1\n",
    "hidden_size_1 = 128\n",
    "hidden_size = 64"
   ]
  },
  {
   "cell_type": "code",
   "execution_count": null,
   "id": "2f118bee-9e33-4746-b2d3-0bcef84ef23d",
   "metadata": {},
   "outputs": [],
   "source": [
    "lstm_1 = nn.LSTM(input_size=input_size, hidden_size=hidden_size_1, num_layers=1, batch_first=True)\n",
    "lstm_2 = nn.LSTM(input_size=hidden_size_1, hidden_size=hidden_size_2, num_layers=1, batch_first=True)\n",
    "flat = nn.Flatten()\n",
    "\n",
    "X_train = torch.randn(95, 4, 1)\n",
    "x = X_train[0]#.unsqueeze(0)\n",
    "\n",
    "print(x.shape)\n",
    "# torch.Size([4, 1])\n",
    "out, _ = lstm_1(x)\n",
    "print(out.shape)\n",
    "# torch.Size([4, 128])\n",
    "out, _ = lstm_2(out)\n",
    "print(out.shape)\n",
    "# torch.Size([4, 64])\n",
    "out = flat(out)\n",
    "print(out.shape)\n",
    "# torch.Size([4, 64])"
   ]
  },
  {
   "cell_type": "code",
   "execution_count": null,
   "id": "8128c701-0d5b-4ac4-8726-cfb2262afcbc",
   "metadata": {},
   "outputs": [],
   "source": [
    "lstm_1 = nn.LSTM(input_size=input_size, hidden_size=hidden_size_1, num_layers=1, batch_first=True)\n",
    "lstm_2 = nn.LSTM(input_size=hidden_size_1, hidden_size=hidden_size_2, num_layers=1, batch_first=True)\n",
    "flat = nn.Flatten()\n",
    "\n",
    "X_train = torch.randn(95, 4, 1)\n",
    "x = X_train[0].unsqueeze(0)\n",
    "\n",
    "print(x.shape)\n",
    "# torch.Size([4, 1])\n",
    "out, _ = lstm_1(x)\n",
    "print(out.shape)\n",
    "# torch.Size([4, 128])\n",
    "out, _ = lstm_2(out)\n",
    "print(out.shape)\n",
    "# torch.Size([4, 64])\n",
    "out = flat(out)\n",
    "print(out.shape)\n",
    "# torch.Size([4, 64])"
   ]
  },
  {
   "cell_type": "code",
   "execution_count": null,
   "id": "24c9aae7-e6d0-47ca-bfb2-99a3878e5deb",
   "metadata": {},
   "outputs": [],
   "source": [
    "a = np.array([[1, 2, 3, 4], [5, 6, 7, 8], [9, 10, 11, 12], [13, 14, 15, 16]])\n",
    "a\n",
    "\n",
    "b = torch.tensor(a)\n",
    "print(b.shape)"
   ]
  },
  {
   "cell_type": "code",
   "execution_count": null,
   "id": "7a58f1de-a57f-45ba-bcc5-15bcfb2fe499",
   "metadata": {},
   "outputs": [],
   "source": [
    "b = b.unsqueeze(0)\n",
    "print(b.shape)"
   ]
  },
  {
   "cell_type": "code",
   "execution_count": null,
   "id": "513c194a-58da-4e57-9b0e-e27e27e7e6f8",
   "metadata": {},
   "outputs": [],
   "source": [
    "b = flat(b)\n",
    "b\n",
    "print(b.shape)"
   ]
  },
  {
   "cell_type": "code",
   "execution_count": null,
   "id": "fb99e57a-785a-41b3-8e7c-bfa43b5bef70",
   "metadata": {},
   "outputs": [],
   "source": []
  },
  {
   "cell_type": "code",
   "execution_count": null,
   "id": "6d2d02fd-1722-4e0c-a87b-860ec46f0722",
   "metadata": {},
   "outputs": [],
   "source": []
  },
  {
   "cell_type": "code",
   "execution_count": null,
   "id": "6e762bd8-67de-4ec3-ae60-9f8178b40e9e",
   "metadata": {},
   "outputs": [],
   "source": [
    "for param in model.parameters():\n",
    "    print(type(param), param.size())"
   ]
  },
  {
   "cell_type": "code",
   "execution_count": null,
   "id": "7b2eb691-d969-4ed7-a764-c2989efcf066",
   "metadata": {},
   "outputs": [],
   "source": [
    "class LSTM(nn.Module):\n",
    "\n",
    "    def __init__(self, num_classes, input_size, hidden_size, num_layers):\n",
    "        super(LSTM, self).__init__()\n",
    "        \n",
    "        self.num_classes = num_classes\n",
    "        self.num_layers = num_layers\n",
    "        self.input_size = input_size\n",
    "        self.hidden_size = hidden_size\n",
    "        self.seq_length = seq_length\n",
    "        \n",
    "        self.lstm = nn.LSTM(input_size=input_size, hidden_size=hidden_size,\n",
    "                            num_layers=num_layers, batch_first=True)\n",
    "        \n",
    "        self.fc = nn.Linear(hidden_size, num_classes)\n",
    "\n",
    "    def forward(self, x):\n",
    "        h_0 = Variable(torch.zeros(\n",
    "            self.num_layers, x.size(0), self.hidden_size))\n",
    "        \n",
    "        c_0 = Variable(torch.zeros(\n",
    "            self.num_layers, x.size(0), self.hidden_size))\n",
    "        \n",
    "        # Propagate input through LSTM\n",
    "        ula, (h_out, _) = self.lstm(x, (h_0, c_0))\n",
    "        \n",
    "        h_out = h_out.view(-1, self.hidden_size)\n",
    "        \n",
    "        out = self.fc(h_out)\n",
    "        \n",
    "        return out"
   ]
  },
  {
   "cell_type": "code",
   "execution_count": null,
   "id": "e3bd4707-2a79-497e-bdf4-a2dcb0e1e4c0",
   "metadata": {},
   "outputs": [],
   "source": [
    "num_epochs = 2000\n",
    "learning_rate = 0.01\n",
    "\n",
    "input_size = 1\n",
    "hidden_size = 2\n",
    "num_layers = 1\n",
    "\n",
    "num_classes = 1\n",
    "\n",
    "lstm = LSTM(num_classes, input_size, hidden_size, num_layers)\n",
    "\n",
    "criterion = torch.nn.MSELoss()    # mean-squared error for regression\n",
    "optimizer = torch.optim.Adam(lstm.parameters(), lr=learning_rate)\n",
    "#optimizer = torch.optim.SGD(lstm.parameters(), lr=learning_rate)\n",
    "\n",
    "# Train the model\n",
    "for epoch in range(num_epochs):\n",
    "    outputs = lstm(X_train)\n",
    "    print(X_train.shape)\n",
    "    print(y_train.shape)\n",
    "    optimizer.zero_grad()\n",
    "    \n",
    "    # obtain the loss function\n",
    "    loss = criterion(outputs, y_train)\n",
    "    \n",
    "    loss.backward()\n",
    "    \n",
    "    optimizer.step()\n",
    "    if epoch % 100 == 0:\n",
    "      print(\"Epoch: %d, loss: %1.5f\" % (epoch, loss.item()))"
   ]
  },
  {
   "cell_type": "code",
   "execution_count": null,
   "id": "b08777cd-f151-487d-a18a-70db09328c18",
   "metadata": {},
   "outputs": [],
   "source": [
    "lstm.eval()\n",
    "train_predict = lstm(X_ts)\n",
    "\n",
    "data_predict = train_predict.data.numpy()\n",
    "dataY_plot = y_ts.data.numpy()\n",
    "print(data_predict)\n",
    "#print(dataY_plot)\n",
    "\n",
    "data_predict = scaler.inverse_transform(data_predict)\n",
    "dataY_plot = scaler.inverse_transform(dataY_plot)\n",
    "\n",
    "plt.axvline(x=lenght_train, c='r', linestyle='--')\n",
    "\n",
    "plt.plot(dataY_plot)\n",
    "plt.plot(data_predict)\n",
    "plt.suptitle('Time-Series Prediction')\n",
    "plt.show()"
   ]
  },
  {
   "cell_type": "code",
   "execution_count": null,
   "id": "2df806f6-4696-42e5-a857-911e02341d2a",
   "metadata": {},
   "outputs": [],
   "source": []
  },
  {
   "cell_type": "code",
   "execution_count": null,
   "id": "d00de241-7239-4aad-9c92-2257013118e1",
   "metadata": {},
   "outputs": [],
   "source": []
  },
  {
   "cell_type": "code",
   "execution_count": null,
   "id": "5e8b4666-1e88-40ec-8e8c-eed52c8d70db",
   "metadata": {},
   "outputs": [],
   "source": [
    "seq_length = 4\n",
    "hidden_size_1 = 128\n",
    "hidden_size_2 = 64"
   ]
  },
  {
   "cell_type": "code",
   "execution_count": null,
   "id": "b20ec011-0bb2-4e43-a265-85a4f157fe05",
   "metadata": {},
   "outputs": [],
   "source": [
    "X_train = torch.randn([100, 4, 1])\n",
    "X_train = X_train[0]\n",
    "print(X_train)\n",
    "print(X_train.shape)\n",
    "x = torch.unsqueeze(X_train, 0)\n",
    "print(x)\n",
    "print(x.shape)"
   ]
  },
  {
   "cell_type": "code",
   "execution_count": null,
   "id": "23645f6e-8013-4cb1-ae5a-ecd5475015bc",
   "metadata": {},
   "outputs": [],
   "source": [
    "\n",
    "lstm_1 = nn.LSTM(input_size=input_size, hidden_size=hidden_size_1, num_layers=1, batch_first=True)\n",
    "dropout_1 = nn.Dropout(0.2)\n",
    "lstm_2 = nn.LSTM(input_size=hidden_size_1, hidden_size=hidden_size_2, num_layers=1, batch_first=True)\n",
    "\n",
    "flat = nn.Flatten()\n",
    "        \n",
    "# Linear layer expects dimensions to be batch, hidden_size\n",
    "in_features = hidden_size_2 * seq_length\n",
    "out_features = 32\n",
    "        \n",
    "linear_1 = nn.Linear(in_features=in_features, out_features=out_features)\n",
    "dropout_2 = nn.Dropout(0.2)\n",
    "relu_1 = nn.ReLU()\n",
    "\n",
    "in_features = out_features\n",
    "out_features = 16\n",
    "        \n",
    "linear_2 = nn.Linear(in_features=in_features, out_features=out_features)\n",
    "dropout_3 = nn.Dropout(0.2)\n",
    "relu_2 = nn.ReLU()\n",
    "\n",
    "in_features = out_features\n",
    "out_features = 1\n",
    "        \n",
    "linear_3 = nn.Linear(in_features=in_features, out_features=out_features)\n",
    "\n",
    "\n",
    "out, _ = lstm_1(x)\n",
    "print('ouput lstm_1.shape: {}'.format(out.shape))\n",
    "out, _ = lstm_2(out)\n",
    "print('ouput lstm_2.shape: {}'.format(out.shape))\n",
    "out = flat(out)\n",
    "print('out flat: {}'.format(out.shape))\n",
    "out = linear_1(out)\n",
    "print('ouput linear_1.shape: {}'.format(out.shape))\n"
   ]
  },
  {
   "cell_type": "code",
   "execution_count": null,
   "id": "9aa8c7c8-54eb-42aa-b026-d938942b9184",
   "metadata": {},
   "outputs": [],
   "source": []
  },
  {
   "cell_type": "code",
   "execution_count": null,
   "id": "461ad6a1-9a24-4822-87b8-403db139e218",
   "metadata": {},
   "outputs": [],
   "source": []
  },
  {
   "cell_type": "code",
   "execution_count": null,
   "id": "21bcae42-9f41-4414-ac7a-da31b03c1a5e",
   "metadata": {},
   "outputs": [],
   "source": []
  },
  {
   "cell_type": "code",
   "execution_count": null,
   "id": "38956407-ad5f-4a56-8629-4876c5c42930",
   "metadata": {},
   "outputs": [],
   "source": []
  },
  {
   "cell_type": "code",
   "execution_count": null,
   "id": "b6bb2c88-258a-444d-9436-1d10e0b9bbe0",
   "metadata": {},
   "outputs": [],
   "source": []
  },
  {
   "cell_type": "code",
   "execution_count": null,
   "id": "8f720d52-6d3d-4996-acf3-c54f1bab386f",
   "metadata": {},
   "outputs": [],
   "source": []
  },
  {
   "cell_type": "code",
   "execution_count": null,
   "id": "2899e795-bcba-4dc8-9ed5-0791f4cb08da",
   "metadata": {},
   "outputs": [],
   "source": []
  },
  {
   "cell_type": "code",
   "execution_count": null,
   "id": "a08856ae-6edb-4dce-824c-878bffb4e3f5",
   "metadata": {},
   "outputs": [],
   "source": []
  },
  {
   "cell_type": "code",
   "execution_count": null,
   "id": "79ba6edf-aca4-4711-8565-30e1360c991c",
   "metadata": {},
   "outputs": [],
   "source": []
  }
 ],
 "metadata": {
  "kernelspec": {
   "display_name": "Python_3.12",
   "language": "python",
   "name": "kernel_name"
  },
  "language_info": {
   "codemirror_mode": {
    "name": "ipython",
    "version": 3
   },
   "file_extension": ".py",
   "mimetype": "text/x-python",
   "name": "python",
   "nbconvert_exporter": "python",
   "pygments_lexer": "ipython3",
   "version": "3.12.1"
  },
  "widgets": {
   "application/vnd.jupyter.widget-state+json": {
    "state": {},
    "version_major": 2,
    "version_minor": 0
   }
  }
 },
 "nbformat": 4,
 "nbformat_minor": 5
}
